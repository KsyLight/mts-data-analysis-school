{
 "cells": [
  {
   "cell_type": "markdown",
   "id": "3df74345-083e-42c5-a422-c08216a94ea7",
   "metadata": {},
   "source": [
    "# Итоговая работа | Задача №5 — Классификация и кластеризация телефонного мошенничества"
   ]
  },
  {
   "cell_type": "markdown",
   "id": "1d0fbe25-31ef-45f4-b216-87f14856f892",
   "metadata": {},
   "source": [
    "## Введение (Intro)"
   ]
  },
  {
   "cell_type": "markdown",
   "id": "8055c828-07e5-4920-ac70-f9cbc101d876",
   "metadata": {},
   "source": [
    "Задача от МТС-Защитник\n",
    "Объём телефонного мошенничества достигает 20 млн звонков в день и сотен миллиардов рублей убытков в год. В борьбе с телефонным мошенничеством заинтересованы как банки — для предотвращения потенциальных потерь, — так и правоохранительные органы. Современные схемы мошенничества стали куда сложнее, чем уже классические “службы безопасности Сбербанка”, и могут состоять из цепи звонков потенциальной жертве. В свете этих причин в МТС-Защитнике появилось направление антифрода, цель которого — борьба с телефонным мошенничеством.\n",
    "\n",
    "Вам необходимо: Вам предлагается решить задачу по классификации и кластеризации телефонного мошенничества.\n",
    "Для этого нужно:\n",
    "собрать датасет из мошеннических и немошеннических звонков\n",
    "сделать классификатор звонков и выполнить кластеризацию мошеннических паттернов\n",
    "\n",
    "Телефонные разговоры являются тайной связи, поэтому вам предлагается работать с открытыми источниками. В интернете есть достаточно большой объём записей мошеннических разговоров.\n",
    "\n",
    "*P.s. про большое количество спорный момент, ибо адекватных и не так много, а хорошие данные являются платными, причём и на английском, и на русском.*"
   ]
  },
  {
   "cell_type": "markdown",
   "id": "2c3b1d2b-9901-4fd4-ba6f-903a15265d79",
   "metadata": {},
   "source": [
    "### Описание собранных данных\n",
    "\n",
    "- `url` — либо ссылка на видео, либо синтетическая запись ссылки;\n",
    "- `title` — либо название видео, либо указание на синтетическое происхождение данных;\n",
    "- `chapter_title` — уточнение темы звонка/текста, в строках, которые запарсил из видео, это \"эпизод\" (как его называют на YouTube) из видео, с его названием с платформы; \n",
    "- `text` — текст разговора, представляющий из себя автоматические субтитры с платформы YouTube;\n",
    "- `label` — класс: мошенническая/не мошенническая метка.\n",
    "\n",
    "**Ещё о датасете:**\n",
    "- Не уверен в полной корректности данного датасета, но после поисков примеров, предобработки и генерации примеров выглядит, вроде, не плохо.\n",
    "- Говоря о источниках данных:\n",
    "    - 117 строк мошеннических примеров из YouTube, один пример при ручной проверке убрал, а также пофиксил пересечения текстов разных \"эпизодов\" внутри одного видео — везде автоперевод, так что наслаивается так;\n",
    "    - Данные я парсил и сразу в этом скрипте чистил от [музыка] и тому подобное, а также иных символов;\n",
    "    - Из реальных данных ещё 3 примера холодных звонков с YouTube, которые, возможно, не совсем вписывались в формат входящих звонков, но по логике подходили;\n",
    "    - Так как на это очень небольшое количество реальных данных я потратил кучу времени (и больше ничего особо полезного не нашёл), так что остальные я генерировал через промты в GPT-5 — с этим тоже долго пришлось повозиться, ибо даже на основе примеров, что я ему дал, он предпочитал генерировать пару фраз, а потом прогонять генерацией кода однотипные фразы. В конечном счёте, я понял как от него добиваться именно генерации и подбором пришёл к нынешним примерам.\n",
    "- Подробно о датасете я распишу в EDA-анализе ниже, а также обработаю текста для более корректного обучения."
   ]
  },
  {
   "cell_type": "markdown",
   "id": "c7d83303-1d86-4ecd-9d05-6d336bee4978",
   "metadata": {},
   "source": [
    "### Импорт библиотек"
   ]
  },
  {
   "cell_type": "code",
   "execution_count": 64,
   "id": "df3c7a54-7a5e-4ce8-a6a3-a23ecab1f44a",
   "metadata": {
    "execution": {
     "iopub.execute_input": "2025-08-24T18:31:27.136368Z",
     "iopub.status.busy": "2025-08-24T18:31:27.136078Z",
     "iopub.status.idle": "2025-08-24T18:31:27.145146Z",
     "shell.execute_reply": "2025-08-24T18:31:27.144404Z",
     "shell.execute_reply.started": "2025-08-24T18:31:27.136326Z"
    }
   },
   "outputs": [],
   "source": [
    "import os\n",
    "import math\n",
    "import random\n",
    "from dataclasses import dataclass, asdict, replace\n",
    "from typing import Any, Dict, List, Tuple, Optional\n",
    "\n",
    "import numpy as np\n",
    "import pandas as pd\n",
    "\n",
    "import torch\n",
    "import torch.nn as nn\n",
    "import torch.nn.functional as F\n",
    "from torch.utils.data import Dataset, DataLoader\n",
    "from sklearn.model_selection import StratifiedShuffleSplit, StratifiedKFold\n",
    "from sklearn.metrics import (\n",
    "    average_precision_score,\n",
    "    precision_recall_curve,\n",
    "    precision_score,\n",
    "    recall_score,\n",
    "    f1_score,\n",
    "    brier_score_loss,\n",
    "    confusion_matrix,\n",
    ")\n",
    "from transformers import (\n",
    "    AutoTokenizer,\n",
    "    AutoModelForSequenceClassification,\n",
    "    AutoModel,\n",
    "    get_linear_schedule_with_warmup,\n",
    ")\n",
    "from peft import LoraConfig, get_peft_model, TaskType\n",
    "from tqdm.auto import tqdm\n",
    "from IPython.display import display\n",
    "import warnings\n",
    "\n",
    "# Визуализация\n",
    "import matplotlib.pyplot as plt\n",
    "import seaborn as sns\n",
    "import mplcyberpunk\n",
    "\n",
    "# Кластеризация и снижение размерности\n",
    "from sklearn.decomposition import PCA\n",
    "from sklearn.cluster import KMeans\n",
    "from sklearn.metrics import silhouette_score, adjusted_rand_score\n",
    "from sklearn.calibration import calibration_curve\n",
    "from sklearn.feature_extraction.text import TfidfVectorizer\n",
    "from sklearn.metrics.pairwise import cosine_similarity\n",
    "from sklearn.manifold import trustworthiness\n",
    "\n",
    "# Вынесенный в модули код\n",
    "import scripts.eda_analysis as ea\n",
    "import scripts.preprocessing as pp\n",
    "import scripts.model_training as mt\n",
    "import scripts.visualization as vl\n",
    "import scripts.clusterixation as cl\n",
    "from scripts.config_moments import base_cfg, seed_everything\n",
    "\n",
    "# Полезные флаги окружения и настройки\n",
    "os.environ[\"TOKENIZERS_PARALLELISM\"] = \"false\"\n",
    "os.environ[\"PYTORCH_CUDA_ALLOC_CONF\"] = \"expandable_segments:True\"\n",
    "warnings.filterwarnings(\"ignore\")"
   ]
  },
  {
   "cell_type": "code",
   "execution_count": 65,
   "id": "81dae188-c7a6-4e68-bfc7-6f1619c25293",
   "metadata": {
    "execution": {
     "iopub.execute_input": "2025-08-24T18:31:27.146778Z",
     "iopub.status.busy": "2025-08-24T18:31:27.146112Z",
     "iopub.status.idle": "2025-08-24T18:31:27.180527Z",
     "shell.execute_reply": "2025-08-24T18:31:27.179955Z",
     "shell.execute_reply.started": "2025-08-24T18:31:27.146747Z"
    }
   },
   "outputs": [
    {
     "name": "stdout",
     "output_type": "stream",
     "text": [
      "Инициализация завершена\n"
     ]
    }
   ],
   "source": [
    "seed_everything(42)\n",
    "print(\"Инициализация завершена\")"
   ]
  },
  {
   "cell_type": "markdown",
   "id": "a163e5ba-867a-4433-a59e-814a13d3f94b",
   "metadata": {},
   "source": [
    "### Базовая конфигурация"
   ]
  },
  {
   "cell_type": "code",
   "execution_count": 66,
   "id": "e3f1aa67-06d6-4611-8fee-b41d503e2b70",
   "metadata": {
    "execution": {
     "iopub.execute_input": "2025-08-24T18:31:27.181783Z",
     "iopub.status.busy": "2025-08-24T18:31:27.181491Z",
     "iopub.status.idle": "2025-08-24T18:31:27.198821Z",
     "shell.execute_reply": "2025-08-24T18:31:27.198049Z",
     "shell.execute_reply.started": "2025-08-24T18:31:27.181759Z"
    }
   },
   "outputs": [],
   "source": [
    "@dataclass\n",
    "class TrainConfig:\n",
    "    model_name: str = \"DeepPavlov/rubert-base-cased-conversational\"\n",
    "    text_col: str = \"text\"\n",
    "    label_col: str = \"label\"\n",
    "    max_length: int = 384\n",
    "    batch_size: int = 16\n",
    "    epochs: int = 4\n",
    "    lr: float = 2e-5\n",
    "    weight_decay: float = 0.01\n",
    "    warmup_prop: float = 0.1\n",
    "    dropout: float = 0.2\n",
    "    grad_clip_norm: float = 1.0\n",
    "    use_amp: bool = True\n",
    "    use_lora: bool = True\n",
    "    lora_r: int = 8\n",
    "    lora_alpha: int = 16\n",
    "    lora_dropout: float = 0.1\n",
    "    loss_type: str = \"bce\"\n",
    "    focal_gamma: float = 2.0\n",
    "    focal_alpha: float = 0.25\n",
    "    target_precision: float = 0.90\n",
    "    device: str = \"cuda\" if torch.cuda.is_available() else \"cpu\"\n",
    "    seed: int = 42\n",
    "\n",
    "    # Параметры DataLoader\n",
    "    num_workers: int = 0\n",
    "    pin_memory: bool = True\n",
    "    persistent_workers: bool = False\n",
    "    prefetch_factor: int | None = None\n",
    "\n",
    "# Более хорошая попытка по метрикам на длинной модели от Сбера, но на kaggle постоянно падал.\n",
    "# Причина в том, что RAM переполнялось — все веса модели при кросс-валидации сохранялись, но времени для исправление у меня нет, да и я пока не полностью понял, как именно. \n",
    "# Тем не менее, метрика pr-auc, по которой я оптимизировал, была 0.91 на тесте (отложенной выборке) без подбора порога — однако, падал kaggle прям перед подбором порога\n",
    "# @dataclass\n",
    "# class TrainConfig:\n",
    "#     model_name: str = \"sberbank-ai/ruRoberta-large\"\n",
    "#     text_col: str = \"text\"\n",
    "#     label_col: str = \"label\"\n",
    "#     max_length: int = 512\n",
    "#     batch_size: int = 8\n",
    "#     epochs: int = 3\n",
    "#     lr: float = 1e-5\n",
    "#     weight_decay: float = 0.01\n",
    "#     warmup_prop: float = 0.06\n",
    "#     dropout: float = 0.2\n",
    "#     grad_clip_norm: float = 1.0\n",
    "#     use_amp: bool = True\n",
    "#     use_lora: bool = True\n",
    "#     lora_r: int = 8\n",
    "#     lora_alpha: int = 16\n",
    "#     lora_dropout: float = 0.1\n",
    "#     loss_type: str = \"bce\"\n",
    "#     focal_gamma: float = 2.0\n",
    "#     focal_alpha: float = 0.25\n",
    "#     target_precision: float = 0.90\n",
    "#     device: str = \"cuda\" if torch.cuda.is_available() else \"cpu\"\n",
    "#     seed: int = 42\n",
    "\n",
    "#     # Параметры DataLoader для стабильности в ноутбуке, ибо он падает\n",
    "#     num_workers: int = 0\n",
    "#     pin_memory: bool = True\n",
    "#     persistent_workers: bool = False\n",
    "#     prefetch_factor: int | None = None\n",
    "\n",
    "# @dataclass\n",
    "# class TrainConfig:\n",
    "#     model_name: str = \"sberbank-ai/ruRoberta-large\"\n",
    "#     text_col: str = \"text\"\n",
    "#     label_col: str = \"label\"\n",
    "#     max_length: int = 384\n",
    "#     batch_size: int = 6\n",
    "#     epochs: int = 3\n",
    "#     lr: float = 1e-5\n",
    "#     weight_decay: float = 0.01\n",
    "#     warmup_prop: float = 0.06\n",
    "#     dropout: float = 0.2\n",
    "#     grad_clip_norm: float = 1.0\n",
    "#     grad_accum_steps: int = 2 # Эквивалент батча ~12 при batch_size=6\n",
    "#     use_amp: bool = True\n",
    "#     use_lora: bool = True\n",
    "#     lora_r: int = 8\n",
    "#     lora_alpha: int = 16\n",
    "#     lora_dropout: float = 0.1\n",
    "#     loss_type: str = \"bce\"\n",
    "#     focal_gamma: float = 2.0\n",
    "#     focal_alpha: float = 0.25\n",
    "#     target_precision: float = 0.90\n",
    "#     device: str = \"cuda\" if torch.cuda.is_available() else \"cpu\"\n",
    "#     seed: int = 42\n",
    "\n",
    "#     # Параметры DataLoader\n",
    "#     num_workers: int = 0\n",
    "#     pin_memory: bool = True\n",
    "#     persistent_workers: bool = False\n",
    "#     prefetch_factor: int | None = None"
   ]
  },
  {
   "cell_type": "markdown",
   "id": "0e292711-d7d8-44af-a3f1-792d84e4e2c8",
   "metadata": {},
   "source": [
    "### Дополнительные настройки"
   ]
  },
  {
   "cell_type": "code",
   "execution_count": 67,
   "id": "4ecb9314-1398-4836-a7cb-0112aab180e3",
   "metadata": {
    "execution": {
     "iopub.execute_input": "2025-08-24T18:31:27.199838Z",
     "iopub.status.busy": "2025-08-24T18:31:27.199617Z",
     "iopub.status.idle": "2025-08-24T18:31:27.216489Z",
     "shell.execute_reply": "2025-08-24T18:31:27.215613Z",
     "shell.execute_reply.started": "2025-08-24T18:31:27.199816Z"
    }
   },
   "outputs": [],
   "source": [
    "# Показывать весь текст в ячейках\n",
    "pd.set_option('display.max_colwidth', None)\n",
    "\n",
    "# Показывать все столбцы и строки\n",
    "pd.set_option('display.max_columns', None)\n",
    "pd.set_option('display.max_rows', None)\n",
    "\n",
    "# Стиль визуализации\n",
    "plt.style.use('cyberpunk')"
   ]
  },
  {
   "cell_type": "markdown",
   "id": "eba05688-6ecc-458a-800a-07f70e50bad7",
   "metadata": {},
   "source": [
    "### Загрузка данных, их описание и первичная предобработка"
   ]
  },
  {
   "cell_type": "code",
   "execution_count": 68,
   "id": "1ec1534b-c004-4227-8971-f5b4a9ee76f7",
   "metadata": {
    "execution": {
     "iopub.execute_input": "2025-08-24T18:31:27.217479Z",
     "iopub.status.busy": "2025-08-24T18:31:27.217285Z",
     "iopub.status.idle": "2025-08-24T18:31:27.273137Z",
     "shell.execute_reply": "2025-08-24T18:31:27.272616Z",
     "shell.execute_reply.started": "2025-08-24T18:31:27.217464Z"
    }
   },
   "outputs": [],
   "source": [
    "data = pd.read_csv('anti_fraud_dataset.csv')\n",
    "# data = pd.read_csv('/kaggle/input/anti-fraud-dataset-ru/anti_fraud_dataset.csv')"
   ]
  },
  {
   "cell_type": "code",
   "execution_count": 69,
   "id": "67e4060a-d8c8-4dbe-a5c9-51f7565b6217",
   "metadata": {
    "execution": {
     "iopub.execute_input": "2025-08-24T18:31:27.273999Z",
     "iopub.status.busy": "2025-08-24T18:31:27.273826Z",
     "iopub.status.idle": "2025-08-24T18:31:27.283013Z",
     "shell.execute_reply": "2025-08-24T18:31:27.282328Z",
     "shell.execute_reply.started": "2025-08-24T18:31:27.273986Z"
    }
   },
   "outputs": [
    {
     "data": {
      "text/html": [
       "<div>\n",
       "<style scoped>\n",
       "    .dataframe tbody tr th:only-of-type {\n",
       "        vertical-align: middle;\n",
       "    }\n",
       "\n",
       "    .dataframe tbody tr th {\n",
       "        vertical-align: top;\n",
       "    }\n",
       "\n",
       "    .dataframe thead th {\n",
       "        text-align: right;\n",
       "    }\n",
       "</style>\n",
       "<table border=\"1\" class=\"dataframe\">\n",
       "  <thead>\n",
       "    <tr style=\"text-align: right;\">\n",
       "      <th></th>\n",
       "      <th>url</th>\n",
       "      <th>title</th>\n",
       "      <th>chapter_title</th>\n",
       "      <th>text</th>\n",
       "      <th>label</th>\n",
       "    </tr>\n",
       "  </thead>\n",
       "  <tbody>\n",
       "    <tr>\n",
       "      <th>304</th>\n",
       "      <td>https://example.com/legit/SYNTHLEG_20250815_161151/00054</td>\n",
       "      <td>СИНТЕТИЧЕСКАЯ ПОДБОРКА ЛЕГИТИМНЫХ ЗВОНКОВ (РФ)</td>\n",
       "      <td>Делимобиль — тариф «Фикс» и парковки</td>\n",
       "      <td>Здравствуйте, Делимобиль. Для вашего аккаунта доступен тариф «Фикс» на поездки по городу, парковка включена в зонах партнёров. Подключить сейчас. Подключайте. Подключил, актуальные зоны и правила отображаются в приложении, пришлю памятку. Благодарю, буду пользоваться. Хороших поездок.</td>\n",
       "      <td>0</td>\n",
       "    </tr>\n",
       "  </tbody>\n",
       "</table>\n",
       "</div>"
      ],
      "text/plain": [
       "                                                          url  \\\n",
       "304  https://example.com/legit/SYNTHLEG_20250815_161151/00054   \n",
       "\n",
       "                                              title  \\\n",
       "304  СИНТЕТИЧЕСКАЯ ПОДБОРКА ЛЕГИТИМНЫХ ЗВОНКОВ (РФ)   \n",
       "\n",
       "                            chapter_title  \\\n",
       "304  Делимобиль — тариф «Фикс» и парковки   \n",
       "\n",
       "                                                                                                                                                                                                                                                                                              text  \\\n",
       "304  Здравствуйте, Делимобиль. Для вашего аккаунта доступен тариф «Фикс» на поездки по городу, парковка включена в зонах партнёров. Подключить сейчас. Подключайте. Подключил, актуальные зоны и правила отображаются в приложении, пришлю памятку. Благодарю, буду пользоваться. Хороших поездок.   \n",
       "\n",
       "     label  \n",
       "304      0  "
      ]
     },
     "execution_count": 69,
     "metadata": {},
     "output_type": "execute_result"
    }
   ],
   "source": [
    "data.sample(1)"
   ]
  },
  {
   "cell_type": "code",
   "execution_count": 70,
   "id": "1a680794-7c24-4edf-af89-58a3c2d42460",
   "metadata": {
    "execution": {
     "iopub.execute_input": "2025-08-24T18:31:27.283883Z",
     "iopub.status.busy": "2025-08-24T18:31:27.283666Z",
     "iopub.status.idle": "2025-08-24T18:31:27.297690Z",
     "shell.execute_reply": "2025-08-24T18:31:27.297090Z",
     "shell.execute_reply.started": "2025-08-24T18:31:27.283866Z"
    }
   },
   "outputs": [
    {
     "data": {
      "text/plain": [
       "Index(['url', 'title', 'chapter_title', 'text', 'label'], dtype='object')"
      ]
     },
     "execution_count": 70,
     "metadata": {},
     "output_type": "execute_result"
    }
   ],
   "source": [
    "data.columns"
   ]
  },
  {
   "cell_type": "code",
   "execution_count": 71,
   "id": "a16b52cf-0ac0-492c-83ce-5e6ac77b0e7d",
   "metadata": {
    "execution": {
     "iopub.execute_input": "2025-08-24T18:31:27.298666Z",
     "iopub.status.busy": "2025-08-24T18:31:27.298409Z",
     "iopub.status.idle": "2025-08-24T18:31:27.310366Z",
     "shell.execute_reply": "2025-08-24T18:31:27.309754Z",
     "shell.execute_reply.started": "2025-08-24T18:31:27.298630Z"
    }
   },
   "outputs": [],
   "source": [
    "df = data.drop(columns=['url', 'title'])"
   ]
  },
  {
   "cell_type": "code",
   "execution_count": 72,
   "id": "7ef9e190-433d-48ca-8822-b1b94da8c4ae",
   "metadata": {
    "execution": {
     "iopub.execute_input": "2025-08-24T18:31:27.311448Z",
     "iopub.status.busy": "2025-08-24T18:31:27.311170Z",
     "iopub.status.idle": "2025-08-24T18:31:27.325169Z",
     "shell.execute_reply": "2025-08-24T18:31:27.324531Z",
     "shell.execute_reply.started": "2025-08-24T18:31:27.311432Z"
    }
   },
   "outputs": [
    {
     "data": {
      "text/plain": [
       "Index(['chapter_title', 'text', 'label'], dtype='object')"
      ]
     },
     "execution_count": 72,
     "metadata": {},
     "output_type": "execute_result"
    }
   ],
   "source": [
    "df.columns"
   ]
  },
  {
   "cell_type": "markdown",
   "id": "782c72ca-ca88-40f1-a219-35003c124977",
   "metadata": {},
   "source": [
    "#### Вывод:\n",
    "- Удалил ненужные для дальнейшей работы столбцы, оставив только нужные."
   ]
  },
  {
   "cell_type": "markdown",
   "id": "52ead692-0a96-4e0b-9e42-d4e567391749",
   "metadata": {},
   "source": [
    "## Основная часть"
   ]
  },
  {
   "cell_type": "markdown",
   "id": "9f88559d-2bf0-4be6-9d9f-01009b0a3490",
   "metadata": {},
   "source": [
    "### EDA-анализ"
   ]
  },
  {
   "cell_type": "markdown",
   "id": "4bf30cc5-3061-44bf-842e-ff2dc50cf4b0",
   "metadata": {},
   "source": [
    "#### Общая информация"
   ]
  },
  {
   "cell_type": "code",
   "execution_count": 74,
   "id": "eabe029e-e1a2-47ee-9ec2-40f52c157e81",
   "metadata": {
    "execution": {
     "iopub.execute_input": "2025-08-24T18:31:27.340547Z",
     "iopub.status.busy": "2025-08-24T18:31:27.340319Z",
     "iopub.status.idle": "2025-08-24T18:31:27.358044Z",
     "shell.execute_reply": "2025-08-24T18:31:27.357285Z",
     "shell.execute_reply.started": "2025-08-24T18:31:27.340530Z"
    }
   },
   "outputs": [
    {
     "name": "stdout",
     "output_type": "stream",
     "text": [
      "<class 'pandas.core.frame.DataFrame'>\n",
      "RangeIndex: 512 entries, 0 to 511\n",
      "Data columns (total 3 columns):\n",
      " #   Column         Non-Null Count  Dtype \n",
      "---  ------         --------------  ----- \n",
      " 0   chapter_title  512 non-null    object\n",
      " 1   text           512 non-null    object\n",
      " 2   label          512 non-null    int64 \n",
      "dtypes: int64(1), object(2)\n",
      "memory usage: 12.1+ KB\n"
     ]
    }
   ],
   "source": [
    "ea.gen_info(df, 3)"
   ]
  },
  {
   "cell_type": "markdown",
   "id": "ae7760f8-ae23-4a88-928a-222c14c32cf5",
   "metadata": {},
   "source": [
    "##### Вывод:\n",
    "- Все столбцы корретного типа, а также корректного формата.\n",
    "- Пропуски отсутствуют."
   ]
  },
  {
   "cell_type": "markdown",
   "id": "2680e30d-7b74-4ca5-8de2-3e29aa22b0e7",
   "metadata": {},
   "source": [
    "#### Анализ пропусков"
   ]
  },
  {
   "cell_type": "code",
   "execution_count": 76,
   "id": "23bbb829-8317-4fa7-908d-3ff7ad82c7e2",
   "metadata": {
    "execution": {
     "iopub.execute_input": "2025-08-24T18:31:27.375988Z",
     "iopub.status.busy": "2025-08-24T18:31:27.375755Z",
     "iopub.status.idle": "2025-08-24T18:31:27.398790Z",
     "shell.execute_reply": "2025-08-24T18:31:27.398160Z",
     "shell.execute_reply.started": "2025-08-24T18:31:27.375972Z"
    }
   },
   "outputs": [
    {
     "name": "stdout",
     "output_type": "stream",
     "text": [
      "Количество пропусков в абсолютных и относительных значениях в df:\n"
     ]
    },
    {
     "data": {
      "text/html": [
       "<style type=\"text/css\">\n",
       "#T_1d5ae_row0_col0, #T_1d5ae_row0_col1, #T_1d5ae_row1_col0, #T_1d5ae_row1_col1, #T_1d5ae_row2_col0, #T_1d5ae_row2_col1 {\n",
       "  background-color: #3b4cc0;\n",
       "  color: #f1f1f1;\n",
       "}\n",
       "</style>\n",
       "<table id=\"T_1d5ae\">\n",
       "  <thead>\n",
       "    <tr>\n",
       "      <th class=\"blank level0\" >&nbsp;</th>\n",
       "      <th id=\"T_1d5ae_level0_col0\" class=\"col_heading level0 col0\" >Total NaN</th>\n",
       "      <th id=\"T_1d5ae_level0_col1\" class=\"col_heading level0 col1\" >Percentage NaN</th>\n",
       "    </tr>\n",
       "  </thead>\n",
       "  <tbody>\n",
       "    <tr>\n",
       "      <th id=\"T_1d5ae_level0_row0\" class=\"row_heading level0 row0\" >chapter_title</th>\n",
       "      <td id=\"T_1d5ae_row0_col0\" class=\"data row0 col0\" >0</td>\n",
       "      <td id=\"T_1d5ae_row0_col1\" class=\"data row0 col1\" >0.00%</td>\n",
       "    </tr>\n",
       "    <tr>\n",
       "      <th id=\"T_1d5ae_level0_row1\" class=\"row_heading level0 row1\" >text</th>\n",
       "      <td id=\"T_1d5ae_row1_col0\" class=\"data row1 col0\" >0</td>\n",
       "      <td id=\"T_1d5ae_row1_col1\" class=\"data row1 col1\" >0.00%</td>\n",
       "    </tr>\n",
       "    <tr>\n",
       "      <th id=\"T_1d5ae_level0_row2\" class=\"row_heading level0 row2\" >label</th>\n",
       "      <td id=\"T_1d5ae_row2_col0\" class=\"data row2 col0\" >0</td>\n",
       "      <td id=\"T_1d5ae_row2_col1\" class=\"data row2 col1\" >0.00%</td>\n",
       "    </tr>\n",
       "  </tbody>\n",
       "</table>\n"
      ],
      "text/plain": [
       "<pandas.io.formats.style.Styler at 0x7a789e70a110>"
      ]
     },
     "metadata": {},
     "output_type": "display_data"
    }
   ],
   "source": [
    "ea.show_missing_values(df, 'df')"
   ]
  },
  {
   "cell_type": "markdown",
   "id": "77a33b96-49e4-409a-9fee-4fdf0505ba25",
   "metadata": {},
   "source": [
    "##### Вывод:\n",
    "- Повторно подтверждаем, что пропуски отсутствуют."
   ]
  },
  {
   "cell_type": "markdown",
   "id": "b167918a-363e-42c4-ac3e-662353326bd8",
   "metadata": {},
   "source": [
    "#### Распределение классов"
   ]
  },
  {
   "cell_type": "code",
   "execution_count": 78,
   "id": "c522601d-ee45-40cf-b5f9-ce38b005a488",
   "metadata": {
    "execution": {
     "iopub.execute_input": "2025-08-24T18:31:27.413204Z",
     "iopub.status.busy": "2025-08-24T18:31:27.412962Z",
     "iopub.status.idle": "2025-08-24T18:31:27.584124Z",
     "shell.execute_reply": "2025-08-24T18:31:27.583375Z",
     "shell.execute_reply.started": "2025-08-24T18:31:27.413183Z"
    }
   },
   "outputs": [
    {
     "data": {
      "image/png": "[encoded data removed]",
      "text/plain": [
       "<Figure size 1000x600 with 1 Axes>"
      ]
     },
     "metadata": {},
     "output_type": "display_data"
    }
   ],
   "source": [
    "ea.plot_class_distribution(df)"
   ]
  },
  {
   "cell_type": "markdown",
   "id": "dfc1c1bc-0ba8-47d1-9fe0-9b3e5eb7117b",
   "metadata": {},
   "source": [
    "##### Вывод:\n",
    "- Распределение классов специально было сделано неравномерным, чтоб хотя бы чуть-чуть приблизить пропорцию к реальным данным.\n",
    "- График частично по каким-то причинам слетел, хотя на kaggle отображался корректно.\n",
    "- Нынешняя пропорцию классов составляет 2:1, в пользу легита (то есть пропорция легит:фрод)."
   ]
  },
  {
   "cell_type": "code",
   "execution_count": 80,
   "id": "afec1e91-da5c-427c-9f59-474e2a444af2",
   "metadata": {
    "execution": {
     "iopub.execute_input": "2025-08-24T18:31:27.596144Z",
     "iopub.status.busy": "2025-08-24T18:31:27.595937Z",
     "iopub.status.idle": "2025-08-24T18:31:27.624567Z",
     "shell.execute_reply": "2025-08-24T18:31:27.623853Z",
     "shell.execute_reply.started": "2025-08-24T18:31:27.596120Z"
    }
   },
   "outputs": [],
   "source": [
    "df_len = ea.add_length_columns(df)"
   ]
  },
  {
   "cell_type": "code",
   "execution_count": 81,
   "id": "d0af0f4e-b923-4e32-83ec-de536909f450",
   "metadata": {
    "execution": {
     "iopub.execute_input": "2025-08-24T18:31:27.625737Z",
     "iopub.status.busy": "2025-08-24T18:31:27.625432Z",
     "iopub.status.idle": "2025-08-24T18:31:27.645731Z",
     "shell.execute_reply": "2025-08-24T18:31:27.644997Z",
     "shell.execute_reply.started": "2025-08-24T18:31:27.625713Z"
    }
   },
   "outputs": [
    {
     "data": {
      "text/html": [
       "<div>\n",
       "<style scoped>\n",
       "    .dataframe tbody tr th:only-of-type {\n",
       "        vertical-align: middle;\n",
       "    }\n",
       "\n",
       "    .dataframe tbody tr th {\n",
       "        vertical-align: top;\n",
       "    }\n",
       "\n",
       "    .dataframe thead th {\n",
       "        text-align: right;\n",
       "    }\n",
       "</style>\n",
       "<table border=\"1\" class=\"dataframe\">\n",
       "  <thead>\n",
       "    <tr style=\"text-align: right;\">\n",
       "      <th></th>\n",
       "      <th>char_mean</th>\n",
       "      <th>char_median</th>\n",
       "      <th>char_p95</th>\n",
       "      <th>char_p99</th>\n",
       "      <th>word_mean</th>\n",
       "      <th>word_median</th>\n",
       "      <th>word_p95</th>\n",
       "      <th>word_p99</th>\n",
       "    </tr>\n",
       "  </thead>\n",
       "  <tbody>\n",
       "    <tr>\n",
       "      <th>0</th>\n",
       "      <td>968.242188</td>\n",
       "      <td>256.0</td>\n",
       "      <td>4512.7</td>\n",
       "      <td>10446.37</td>\n",
       "      <td>149.880859</td>\n",
       "      <td>34.0</td>\n",
       "      <td>719.05</td>\n",
       "      <td>1670.12</td>\n",
       "    </tr>\n",
       "  </tbody>\n",
       "</table>\n",
       "</div>"
      ],
      "text/plain": [
       "    char_mean  char_median  char_p95  char_p99   word_mean  word_median  \\\n",
       "0  968.242188        256.0    4512.7  10446.37  149.880859         34.0   \n",
       "\n",
       "   word_p95  word_p99  \n",
       "0    719.05   1670.12  "
      ]
     },
     "execution_count": 81,
     "metadata": {},
     "output_type": "execute_result"
    }
   ],
   "source": [
    "ea.describe_lengths(df_len)"
   ]
  },
  {
   "cell_type": "code",
   "execution_count": 82,
   "id": "301adc13-b22d-4415-b7cf-f7ca44966bf1",
   "metadata": {
    "execution": {
     "iopub.execute_input": "2025-08-24T18:31:27.654217Z",
     "iopub.status.busy": "2025-08-24T18:31:27.653880Z",
     "iopub.status.idle": "2025-08-24T18:31:28.181024Z",
     "shell.execute_reply": "2025-08-24T18:31:28.180257Z",
     "shell.execute_reply.started": "2025-08-24T18:31:27.654202Z"
    }
   },
   "outputs": [
    {
     "data": {
      "image/png": "[encoded data removed]",
      "text/plain": [
       "<Figure size 1000x600 with 2 Axes>"
      ]
     },
     "metadata": {},
     "output_type": "display_data"
    },
    {
     "data": {
      "image/png": "[encoded data removed]",
      "text/plain": [
       "<Figure size 1000x600 with 1 Axes>"
      ]
     },
     "metadata": {},
     "output_type": "display_data"
    }
   ],
   "source": [
    "ea.plot_length_distributions(df_len)"
   ]
  },
  {
   "cell_type": "code",
   "execution_count": 83,
   "id": "e57ac99d-1e2b-4d9c-bf41-726ff4b4c4b3",
   "metadata": {
    "execution": {
     "iopub.execute_input": "2025-08-24T18:31:28.182218Z",
     "iopub.status.busy": "2025-08-24T18:31:28.181837Z",
     "iopub.status.idle": "2025-08-24T18:31:28.186902Z",
     "shell.execute_reply": "2025-08-24T18:31:28.186104Z",
     "shell.execute_reply.started": "2025-08-24T18:31:28.182181Z"
    }
   },
   "outputs": [
    {
     "name": "stdout",
     "output_type": "stream",
     "text": [
      "Доля коротких (<5 слов): 0.00%\n",
      "Доля длинных (>500 слов): 7.81%\n"
     ]
    }
   ],
   "source": [
    "ea.short_long_shares(df_len)"
   ]
  },
  {
   "cell_type": "markdown",
   "id": "c50c4eed-959a-4e0f-854a-db89add9e6d5",
   "metadata": {},
   "source": [
    "##### Вывод:\n",
    "\n",
    "- Средняя длина текста приблизительно 968 символов (то есть где-то 150 слов), медиана значительно ниже (256 символов и 34 слова), что указывает на сильную асимметрию распределения.  \n",
    "- Около 11.7% текстов превышают лимит 512 токенов, ~7.8% содержат более 500 слов.  \n",
    "- Крайне коротких текстов (<5 слов) практически нет.  \n",
    "- На графиках заметны выбросы до 25к символов и >4к слов, вероятно это шум (длинные расшифровки или спорные диалоги).  \n",
    "- Основной массив данных укладывается в диапазон 128–512 токенов; тексты выше 512 скорее всего не добавляют пользы, поэтому разумно обрезать их.  \n",
    "- Оптимальной является максимальная длина 384–512 токенов: этого достаточно для большинства текстов и при этом ресурсы используются эффективнее.  "
   ]
  },
  {
   "cell_type": "code",
   "execution_count": 85,
   "id": "d45b85fc-ab5d-4de3-8d2b-0e51cfecbb87",
   "metadata": {
    "execution": {
     "iopub.execute_input": "2025-08-24T18:31:28.221550Z",
     "iopub.status.busy": "2025-08-24T18:31:28.221264Z",
     "iopub.status.idle": "2025-08-24T18:31:28.783274Z",
     "shell.execute_reply": "2025-08-24T18:31:28.782635Z",
     "shell.execute_reply.started": "2025-08-24T18:31:28.221525Z"
    }
   },
   "outputs": [
    {
     "name": "stdout",
     "output_type": "stream",
     "text": [
      "has_any_sensitive       37\n",
      "has_any_code_request    37\n",
      "has_code_phrase         25\n",
      "has_passport            16\n",
      "has_phone               15\n",
      "has_call_end            10\n",
      "has_snils                3\n",
      "has_forbidden            0\n",
      "has_url                  0\n",
      "has_email                0\n",
      "has_bic                  0\n",
      "has_cvv_pin_puk          0\n",
      "has_card                 0\n",
      "has_inn                  0\n",
      "has_invisible            0\n",
      "has_ks_rs_20d            0\n",
      "has_dob                  0\n",
      "has_any_payment_data     0\n",
      "dtype: int64\n"
     ]
    }
   ],
   "source": [
    "flags = pp.scan_sensitive_flags(df)\n",
    "print(flags.sum().sort_values(ascending=False))"
   ]
  },
  {
   "cell_type": "markdown",
   "id": "bfb0e573-77c0-474e-94a1-754fceeb9c45",
   "metadata": {},
   "source": [
    "##### Вывод по бинарным признакам наличия сущностей:\n",
    "\n",
    "- Чаще всего встречаются признаки: наличие чувствительных данных (37 случаев), запросы кодов (37) и кодовые фразы (25).  \n",
    "- Личные документы встречаются реже: паспорт (16), телефон (15), СНИЛС (3).  \n",
    "- Завершающие признаки разговора (`has_call_end`) отмечены в 10 случаях.  \n",
    "- Другие потенциально важные признаки (`has_url`, `has_email`, `has_card`, `has_inn`, `has_dob`, платёжные данные и др.) отсутствуют в текущем срезе.  \n",
    "- Наблюдается выраженный дисбаланс по распределению признаков: часть встречается достаточно часто, а часть полностью отсутствует.  \n",
    "- Для дальнейшего анализа и построения моделей требуется предобработка: очистка, нормализация, возможная агрегация редких признаков, а также балансировка.  "
   ]
  },
  {
   "cell_type": "markdown",
   "id": "f2ba0d9d-77ab-4912-b4c9-08735bdbc337",
   "metadata": {},
   "source": [
    "### Предобработка текста"
   ]
  },
  {
   "cell_type": "markdown",
   "id": "ab5ddf0d-7ef4-474e-b006-80522a56105e",
   "metadata": {},
   "source": [
    "#### Нормализация и замена на маски сущностей"
   ]
  },
  {
   "cell_type": "code",
   "execution_count": 86,
   "id": "a0e5fe00-1835-4601-905f-72c1ad9a6d35",
   "metadata": {
    "execution": {
     "iopub.execute_input": "2025-08-24T18:31:28.784276Z",
     "iopub.status.busy": "2025-08-24T18:31:28.784014Z",
     "iopub.status.idle": "2025-08-24T18:31:29.501107Z",
     "shell.execute_reply": "2025-08-24T18:31:29.500332Z",
     "shell.execute_reply.started": "2025-08-24T18:31:28.784255Z"
    },
    "scrolled": true
   },
   "outputs": [
    {
     "name": "stdout",
     "output_type": "stream",
     "text": [
      "\n",
      "До изменений:\n",
      " Здравствуйте, Альфа‑Банк. Предлагаем рефинансирование кредита с пониженной ставкой и без обязательной страховки. Интересно ли обсудить условия на коротком звонке. Пока не планирую. Понимаю, предложение останется в личном кабинете, если что — вернёмся к вопросу.\n",
      "После изменений:\n",
      " Здравствуйте, Альфа-Банк. Предлагаем рефинансирование кредита с пониженной ставкой и без обязательной страховки. Интересно ли обсудить условия на коротком звонке. Пока не планирую. Понимаю, предложение останется в личном кабинете, если что - вернёмся к вопросу.\n",
      "\n",
      "До изменений:\n",
      " Алло, оператор МТС, напоминаем о продлении периода обслуживания вашего номера, оформим сейчас? Спасибо, не надо. Это обязательная процедура, иначе исходящие могут быть ограничены. Не интересует, до свидания. Мы лишь информируем, потребуется код из сообщения. Удалите мой номер, ничего подтверждать не буду. Абонент завершил разговор.\n",
      "После изменений:\n",
      " Алло, оператор МТС, напоминаем о продлении периода обслуживания вашего номера, оформим сейчас? Спасибо, не надо. Это обязательная процедура, иначе исходящие могут быть ограничены. Не интересует, до свидания. Мы лишь информируем, потребуется код из сообщения. Удалите мой номер, ничего подтверждать не буду. [CALL_ENDED].\n",
      "\n",
      "До изменений:\n",
      " Здравствуйте, РЕСО‑Гарантия. Предлагаем ДМС для семьи со скидкой при единовременной оплате. Интересно получить список клиник. Да, пришлите таблицу покрытий, а решать буду позже. Отправлю сравнение и свяжусь через неделю для обратной связи. Договорились.\n",
      "После изменений:\n",
      " Здравствуйте, РЕСО-Гарантия. Предлагаем ДМС для семьи со скидкой при единовременной оплате. Интересно получить список клиник. Да, пришлите таблицу покрытий, а решать буду позже. Отправлю сравнение и свяжусь через неделю для обратной связи. Договорились.\n",
      "\n",
      "До изменений:\n",
      " Алло, здравствуйте. Это оператор модельной связи компании НТС. Я с вами связ по поводу того, что сегодня заканчивается период обслуживания вашего номера. Вот скажите, пожалуйста, вы знаете об этом? Да, я первый раз про это слышал? Дело в том, что с двадцать пятого года все выступало сооружение и каждая карта получил ограничный период обслуживания, в свою очередь связа для продления договора. Скажите, пожалуйста, вы будете дальше пользоваться своим номером? Правильно? Ну, буду пользоваться, да. Хорошо. В таком случае буду привозявление на проление вашего номера. Изначально мне необходимо указать периоды его обслуживания отгода до 15 лет. Сколько вы выбираете? Ну, 15 давайте. Система 15 лет. Поскольку вы остаетесь с нами как Лен, компания представляет письма ближайшие 3 месяца в виде 20%. Для продления вашего мобильного номера необходимо указать вашу готу рождения и фамилия, имя, отчество. Зачем? Ещё раз повторяю, я открываю регистрацию, вашу сим-карту. Мне указа надо указать ваши сим-карту. Мне указа надо указать ваши данные. Ну я понимаю, но зачем я открыл регистрацию вашей SIM-карты? Мне надо записать туда ваши данные для того, чтобы входить её. Так, а старая куда? Sм-карта? У меня есть старая куда? Sм-карта? У меня есть старая куда? Sм-карта? У меня есть старая SIM-карта. Нам нужна SIM-карта. Ну, SIM-карта. Нам нужна SIM-карта. Ну, SIM-карта. Нам нужна SIM-карта. Ну, номер телефона под 9823. Правильно. Я что-то понять Телефон или SIM-карта? Я что-то понять не могу. Сим Sм-карта это и есть номер телефона. Так, мы новую SIM-карту будем это Так, мы новую SIM-карту будем это Так, мы новую SIM-карту будем это вставлять в телефон или старая будет? Старая SIM-карта будет просто Старая SIM-карта будет просто Старая SIM-карта будет просто обновлённая, там будут обновлённые данные. Ну так, а если у меня данные не менялись, зачем их обновлять? Ещё раз повторяю, мне надо только А мне записать надо данные, вашу SIM-карту с ваших надо данные, вашу SIM-карту с ваших надо данные, вашу SIM-карту с ваших слов, фамилия, имя, отчество, дату рождения. И также надо обновить будет код SIM-карты. Он расположен на обратной код SIM-карты. Он расположен на обратной стороне упаковки, которая находилась на вашу SIM-карту. Ну ладно, допустим, код какой-то я могу Ну ладно, допустим, код какой-то я могу Ну ладно, допустим, код какой-то я могу сказать только. Где его взять? Вы вы когда покупали SIM-карту, у вас когда покупали SIM-карту, у вас когда покупали SIM-карту, у вас оставалось покупаю. Ну знаете, карта\n",
      "После изменений:\n",
      " Алло, здравствуйте. Это оператор модельной связи компании НТС. Я с вами связ по поводу того, что сегодня заканчивается период обслуживания вашего номера. Вот скажите, пожалуйста, вы знаете об этом? Да, я первый раз про это слышал? Дело в том, что с двадцать пятого года все выступало сооружение и каждая карта получил ограничный период обслуживания, в свою очередь связа для продления договора. Скажите, пожалуйста, вы будете дальше пользоваться своим номером? Правильно? Ну, буду пользоваться, да. Хорошо. В таком случае буду привозявление на проление вашего номера. Изначально мне необходимо указать периоды его обслуживания отгода до 15 лет. Сколько вы выбираете? Ну, 15 давайте. Система 15 лет. Поскольку вы остаетесь с нами как Лен, компания представляет письма ближайшие 3 месяца в виде 20%. Для продления вашего мобильного номера необходимо указать вашу готу рождения и фамилия, имя, отчество. Зачем? Ещё раз повторяю, я открываю регистрацию, вашу сим-карту. Мне указа надо указать ваши сим-карту. Мне указа надо указать ваши данные. Ну я понимаю, но зачем я открыл регистрацию вашей SIM-карты? Мне надо записать туда ваши данные для того, чтобы входить её. Так, а старая куда? Sм-карта? У меня есть старая куда? Sм-карта? У меня есть старая куда? Sм-карта? У меня есть старая SIM-карта. Нам нужна SIM-карта. Ну, SIM-карта. Нам нужна SIM-карта. Ну, SIM-карта. Нам нужна SIM-карта. Ну, номер телефона [PHONE_PART]. Правильно. Я что-то понять Телефон или SIM-карта? Я что-то понять не могу. Сим Sм-карта это и есть номер телефона. Так, мы новую SIM-карту будем это Так, мы новую SIM-карту будем это Так, мы новую SIM-карту будем это вставлять в телефон или старая будет? Старая SIM-карта будет просто Старая SIM-карта будет просто Старая SIM-карта будет просто обновлённая, там будут обновлённые данные. Ну так, а если у меня данные не менялись, зачем их обновлять? Ещё раз повторяю, мне надо только А мне записать надо данные, вашу SIM-карту с ваших надо данные, вашу SIM-карту с ваших надо данные, вашу SIM-карту с ваших слов, фамилия, имя, отчество, дату рождения. И также надо обновить будет код SIM-карты. Он расположен на обратной код SIM-карты. Он расположен на обратной стороне упаковки, которая находилась на вашу SIM-карту. Ну ладно, допустим, код какой-то я могу Ну ладно, допустим, код какой-то я могу Ну ладно, допустим, код какой-то я могу сказать только. Где его взять? Вы вы когда покупали SIM-карту, у вас когда покупали SIM-карту, у вас когда покупали SIM-карту, у вас оставалось покупаю. Ну знаете, карта\n",
      "\n",
      "До изменений:\n",
      " Алло. Слышно нормально. Служба безопасности Сбербанка сообщает о попытке списания через быстрые платежи, подтверждали ли что‑то. Нет, ничего не подтверждал. Для отмены потребуется сверка владельца, иначе операция уйдёт в обработку, откройте уведомление в приложении, там будет форма подтверждения. Открыл, вижу. Введите последние четыре цифры карты и отметьте счёт как защищённый. Ввожу 7294. Теперь придёт одноразовый код для отмены транзакции, он нужен только чтобы остановить списание. Пришёл, 384219. Принято, ещё требуется сверка паспортных данных, чтобы закрепить заявку за вами, продиктуйте серию и номер по образцу. Серия и номер 45 12 345678. Для полной блокировки укажите СНИЛС в формате XXX‑XXX‑XXX XX; это необходимо для сопоставления клиента, иначе заявка зависнет. СНИЛС 123‑456‑789 00. Номер телефона для обратной связи укажете основной. Да, +7 912 555‑23‑11. Подтверждение прошло, перевод временно перенаправлен на резервный счёт, ожидайте итогового уведомления в течение часа.\n",
      "После изменений:\n",
      " Алло. Слышно нормально. Служба безопасности Сбербанка сообщает о попытке списания через быстрые платежи, подтверждали ли что-то. Нет, ничего не подтверждал. Для отмены потребуется сверка владельца, иначе операция уйдёт в обработку, откройте уведомление в приложении, там будет форма подтверждения. Открыл, вижу. Введите последние четыре цифры карты [CARD_PART]. Теперь придёт [CODE_REQUEST] для отмены транзакции, он нужен только чтобы остановить списание. Пришёл, [CARD_PART]19. Принято, ещё требуется сверка паспортных данных, чтобы закрепить заявку за вами, продиктуйте серию и номер по образцу. Серия и номер 45 12 [CODE]. Для полной блокировки укажите СНИЛС в формате [SNILS]; это необходимо для сопоставления клиента, иначе заявка зависнет. СНИЛС [SNILS]. Номер телефона для обратной связи укажете основной. Да, [PHONE]. Подтверждение прошло, перевод временно перенаправлен на резервный счёт, ожидайте итогового уведомления в течение часа.\n"
     ]
    }
   ],
   "source": [
    "df_clean = pp.apply_redaction(df)\n",
    "pp.show_changes(df, df_clean, n=5)"
   ]
  },
  {
   "cell_type": "code",
   "execution_count": 87,
   "id": "1390658a-1651-4111-9fd7-3261c4f857dd",
   "metadata": {
    "execution": {
     "iopub.execute_input": "2025-08-24T18:31:29.502088Z",
     "iopub.status.busy": "2025-08-24T18:31:29.501903Z",
     "iopub.status.idle": "2025-08-24T18:31:29.508298Z",
     "shell.execute_reply": "2025-08-24T18:31:29.507615Z",
     "shell.execute_reply.started": "2025-08-24T18:31:29.502074Z"
    },
    "scrolled": true
   },
   "outputs": [
    {
     "name": "stdout",
     "output_type": "stream",
     "text": [
      "\n",
      "До изменений:\n",
      " Алло, Билайн, добрый день. По вашему номеру активирован переход на eSIM, чтобы номер не ушёл в деактивацию, нужно подтвердить продление профиля. Это платно? Нет, бесплатно, просто откройте уведомление «Билайн — eSIM», там кнопка «Продлить» и одноразовый код. Вижу уведомление. Нажимайте, вводите код, затем отметьте номер основным, иначе исходящие могут временно отключиться на сутки.\n",
      "После изменений:\n",
      " Алло, Билайн, добрый день. По вашему номеру активирован переход на eSIM, чтобы номер не ушёл в деактивацию, нужно подтвердить продление профиля. Это платно? Нет, бесплатно, просто откройте уведомление «Билайн - eSIM», там кнопка «Продлить» и [CODE_REQUEST]. Вижу уведомление. Нажимайте, [CODE_REQUEST], затем отметьте номер основным, иначе исходящие могут временно отключиться на сутки.\n",
      "\n",
      "До изменений:\n",
      " Здравствуйте, Tele2. Появился пакет «Для работы» с увеличенным числом минут на городские номера и сохранением вашего интернет‑пакета. Интересно активировать на месяц. Да, подключайте на пробный период. Подключил, напомню за два дня до окончания льготного периода. Спасибо, это то, что нужно.\n",
      "После изменений:\n",
      " Здравствуйте, Tele2. Появился пакет «Для работы» с увеличенным числом минут на городские номера и сохранением вашего интернет-пакета. Интересно активировать на месяц. Да, подключайте на пробный период. Подключил, напомню за два дня до окончания льготного периода. Спасибо, это то, что нужно.\n",
      "\n",
      "До изменений:\n",
      " Здравствуйте, Тинькофф. В этом месяце категория повышенного кэшбэка — аптеки и спорттовары, активировать сейчас. Активируйте. Активировал, действие до конца месяца, всё отразится в приложении. Благодарю.\n",
      "После изменений:\n",
      " Здравствуйте, Тинькофф. В этом месяце категория повышенного кэшбэка - аптеки и спорттовары, активировать сейчас. Активируйте. Активировал, действие до конца месяца, всё отразится в приложении. Благодарю.\n",
      "\n",
      "До изменений:\n",
      " Здравствуйте, Дом.ру. Предлагаем бесплатную замену роутера на модель с лучшим покрытием и настройку Wi‑Fi сетью. Удобно назначить выезд на выходные. Да, на субботу после обеда. Записал, мастер позвонит за час до визита, договор на замену привезёт с собой.\n",
      "После изменений:\n",
      " Здравствуйте, Дом.ру. Предлагаем бесплатную замену роутера на модель с лучшим покрытием и настройку Wi-Fi сетью. Удобно назначить выезд на выходные. Да, на субботу после обеда. Записал, мастер позвонит за час до визита, договор на замену привезёт с собой.\n",
      "\n",
      "До изменений:\n",
      " Алло. Илья, здравствуй. Добрый. Меня Меня зовут Александр Сергеевич. Я беспокою тебя из школьного архива. Илья, подскажи, пожалуйста, вам в школе сообщали о том, что ваши электронные дневники нужно обновлять. Нет. Хорошо. Он долж вроде бы как говорили об этом на прошлой неделе. Смотри, я просто просматривал сейчас как раз ведомость по вашим электронным дням, потому что мне нужно направить отчёт департамента образования. А подскажи мне, мне, мне, пожалуйста, у тебя к твоему электронному журналу в системе школы прикрепился номер телефона с окончанием э сейчас 9810. Подскажи мне, пожалуйста, Илья, это твой номер телефона? Нет, мой на 47. Заканчивается твой на 47. Хорошо. Подскажи мне тогда, пожалуйста, может быть, это номер родителей? Нет, я не знаю такого номер просто 98 10. Нет ни у кого. Я правильно понял? Да. Хорошо, Илья, смотри, я тогда направлю твою информацию в департамент образования и направлю тогда вот этот твой номер телефона для того, чтобы они закрепили твою учёбную запись. Смотри, э, хорошо, я направил информацию. Они Они должны будут тебе восстановить твою учётную запись, и у тебя будет происходить восстановление пароля также на электронный дневник, потому что после каждого захода учителя в электронный дневник пароль сбрасывается. Я думаю, ты и сам это понимаешь. Так, э, посмотри, пожалуйста, шторку уведомлений. Мне сказали, что тебе направили твой новый пароль. Нам нужно будет его с тобой закрепить для того, чтобы ты в дальнейшем пользовался без проблем. А в SMS вроде бы. Посмотри, пожалуйста. Ну, мне написано, что направили уже. Должно сообщение Так, а кто направил-то? Должно сообщение прийти от Госуслуг тебе. Там у тебя в разделе образования вся информация по поводу этого написана, чтобы ты не переживал. А причём здесь Госуслуги и электронный журнал? Дневник или что? Это журнал. Смотри, я тебе объясняю. Вся ваша информация находится у вас в Госуслугах в разделе образования. Там у тебя также есть и твоя отчётность, и какие-то твои какие-то твои какие-то твои определённые как бы оценки тоже бывают там? Посмотри, пожалуйста, уведомления направили или нет, чтобы мы с тобой сориентировались и поставили пароль. Куда пароль поставили? Ну, на твою новую учётную запись. Я же говорю, обновляется информация, все дела. Так, а где обновляется? Обновляется в системе школы. Я же тебе это в самом начале нашего диалога. Нет, я понял. Обновляются полностью, смотри, обновляются полностью все ваши учётные записи по поводу ваших пропусков, оценок, вашей посещаемости. Новая четверть началась, нужно информацию обновить. И именно поэтому мы обновляем ученикам пароле. И для этого, ну, как бы для их безопасности, чтобы сохранилась личная информация. Ты же понимаешь, что заканчива для того, чтобы ты закончил четверть и тебе выдали документацию, у нас должна быть твоя отчётность, потому что нам эти отчёты нужно будет передавать в департамент образования. Вот сейчас я тебе позвонил, я тебе сказал: \"Элья, у меня нету по я тебе сказал: \"Элья, у меня нету по я тебе сказал: \"Элья, у меня нету по тебе отчёта, мне нужно сейчас дать отчёт\". Так, а почему? Нужно установить отчёт\". Так, а почему? Нужно установить отчёт\". Так, а почему? Нужно установить твою ведомость, потому что обновляется интернация. Классный руководитель. Так, а причём здесь учительница? Классный руководитель, он не может отвечать за всех, э, учеников вы должны сами. Я тебе объяснил ещё прямая. Я тебе в самом начале начале его прямая обязанность. Его прямая обязанность вас обучать. Как они начали классного руководителя? Смотри, просто нет руководи должен вас следить за вашей дисциплиной. Всё. А классный руководитель какого предмета, если он нас обучает? Классный руководитель свой предмет ведёт. Я звоню тебе из школьного архива, а не конкретно именно из твоей. А вы в школе учились? Я учился, да. Ну у вас был классный руководитель? У меня был. И мой классный руководитель проводил мне географию. Ну видите, он был классным руководителем и ещё он учил вас географии. Понимаете, в чём всё дело? Так. Ну так, ну, Илья, у нас, смотри, просто у меня времени не так много, и как бы я у меня времени не так много, и как бы я у меня времени не так много, и как бы я звоню тебе тоже не просто так тобой поболтать, потому что мне нужно работать, мне нужно обзванивать также других учеников, у которых не подкреплена информация. Я же тебе помогаю, я же это делаю, ну, достаточно. Так, от меня подскажи, пожалуйста, какую мне нужно с тобой восстановить твою информацию. К тебе пришёл пароль. Мне его нужно записать, ввести ведомость школы. После этого я отправлю в департамент образования отчёт по твоей верности. Ну по твоим по твоему посещению, по твоим оценкам. Ну так для того, чтобы я что-то отправил, твоя того, чтобы я что-то отправил, твоя того, чтобы я что-то отправил, твоя ведомость должна быть у меня собрана в полном комплекте. Так, а почему у вас её нету? Я тебе ещё раз объясняю. Четверть началась, информация обновляется. Изза этого четверть она, смотри, четверть как началась, мы не успеваем просто всех учеников обзвонить и всех подключить. Мы это делаем, ну, со временем, понимаешь? Ну, потому что как я один обзвоню целую школу? Не все же ребята могут взять трубку. Кто-то на тренировки ходит, кто-то с Кто-то на тренировки ходит, кто-то с Кто-то на тренировки ходит, кто-то с родителями где-то. Илья, не трать, родителями где-то. Илья, не трать, пожалуйста, ни моё, ни своё время. Я сейчас ещё раз попрошу департамент, чтобы они направили тебе новый пароль, чтобы ты сам убедился, что пароль будет как бы сменен, чтобы ты не думал ничего такого. Я направил, мне сказали, что тебе сейчас направят. Посмотри, пожалуйста. Куда посмотреть? РКУ уведомления пусти. Мне сказали, что тебе направили ещё один пароль от департамента. Нет, департамент образования направляет тебе сообщение с государственных услуг. Там в разделе образования, как я тебе раньше сказал, хранится вся информация твоя? Подскажи мне, пожалуйста, какой про Возьмите возьмите её оттуда, эту информацию всю. Я же не могу в твои госуслуги Ну а как? Я же не могу в твои госуслуги зайти. Это же твоё личное пространство, и там хранится только информация про тебя. И там её можешь смотреть только ты. Всё, что мне нужно - это закрепить ты. Всё, что мне нужно - это закрепить твой новый пароль за твои учётной запись. И всё. Я дам отчёт департамент образования по тебе и всё. Всё, что нужно. Илья, скажи мне, пожалуйста, какой пароль тебе пришёл? Давай затвердим и не будем тратить время. Ни твоё, ни моё. Алло, Илья. Да, слушаю вас. Я говорю, давай скажи мне, пожалуйста, пароль. Мне нужно его внести в ведомой школы, чтобы отправить отчёт в департамент образования. Вы мне скажите, какой пароль? Я не понимаю. Тебе департамент образования направил твой новый пароль. А откуда он знает мой пароль? Это твой новый пароль, который мне нужно установить ведомой школы для того, чтобы он закрепился. И после этого твоя учётная запись полностью будет собрана. Ты понимаешь, что без учётной записи тебе в конце года могут не выдать документатором, что ты закончил этот год? А что за документ такой? Ты же понимаешь, что без без ведомости учеников держать же никто не будет, потому что учителя не могут отследить их обучение. Я тебе тоже опять-таки обучение. Я тебе тоже опять-таки повторюсь, не просто так звоню. Если бы по тебе была ведомость, я бы тебе не звонил. То есть вы и не тратил бы своё время. То есть меня выгонят из школы, что ли, без этой ведомости? Нет, без ведомости тебя могут не не выгнать, а тебя могут не не отдать документацию о том, что ты закончил этот учебный год. Почему? Если ты захочешь куда-то поступить, то без этой куда-то поступить, то без этой куда-то поступить, то без этой документации, так как по тебе нету ведомости, то без этой документации, если ты захочешь куда-то поступить, ты если ты захочешь куда-то поступить, ты если ты захочешь куда-то поступить, ты не поступишь. Ну хорошо, пожалуйста, не так наше время меня. Так от меня-то что требуется? Я меня. Так от меня-то что требуется? Я меня. Так от меня-то что требуется? Я так и не могу от вас понять. Так я же тебе объяснил, у тебя не до конца собрана учётная запись, она открепилась. Тебе надо классному руководите. Тебе направили пароль. Этот причём здесь классный руководитель, когда это твоя обязанность, это же ты учишься, это же твоя информация. Для того, чтобы тот же классный руководитель просматривал твою информацию, по тебе должна быть ведомость. Я тебе объяснил, что тебе добавили пароль для того, чтобы я его внёс в ведомость школы, закрепил за твоей учётной записью и отправил отчёт в департамент образования. Всё. Ну, отправляйте. Это же ваши обязанности. Это моя обязанность. Но для того, чтобы отправить, мне нужно восстановить твой пароль, восстановить твою учётную запись. Я же для этого тебе позвонил. Не, пожалуйста, давай. Ну, я ещё раз повторяюсь, не будем тратить время. Если ты не будешь подкреплять свою учётную запись, тогда я этот диалог тебе дам директору, а там уже будут какие-то директору, а там уже будут какие-то директору, а там уже будут какие-то определённые меры. Либо подпим, у тебя будет полностью вся учётная запись и всё. Не надо директора. Так, через директора тоже проходит вся эта информация. Так, может тогда ему надо звонить было с самого начала? Как мне директор новый пароль на твою учётную запись? Объясни мне, пожалуйста. Так, только она же управляет, получается, должна управлять всеми учётными записями. Она же директор, управляет всей школой. Да, но она не может восстанавливать ваши учётные записи, когда их нужно обновить. И я Ты можешь Для этого я тебе и звоню. И я Ты можешь меня понять или нет? Элементарные вещи. Мы с тобой уже 10 минут не можем просто закрепить твою учётную запись. Ну потому что я хочу понять, что вы от меня хотите. У меня нет никакого пароля. Вы мне говорите, я должен вам предоставить пароль, но где мне его взять? тебе департамент образования два раза уже направлял на твой номер телефона. Так, а он-то откуда знает мой номер, мой Так, а он-то откуда знает мой номер, мой Так, а он-то откуда знает мой номер, мой пароль, если я его не знаю? Ты издеваешься надо мной или что? Департамент образования, там хранится вся информация о всех учениках. И департамент образования имеет полное право направить тебе либо регистрационный номер, либо восстановление пароля. Ну, если у них вся эта информация есть, звоните в департамент, пусть они предоставляют вам всю информацию по по мене. По меня они предоставили тебе предоставили Они предоставили тебе восстановление пароля. Я у тебя спрашиваю, какой тебе пароль пришёл. Ты мне его не говоришь. А для того, чтобы подкрепить его за тобой, мне нужно как бы его записать. Угу. Илья, давай, давай, ну, будем так тоже заканчивать этот цирк. Ну, серьёзно, мы с тобой общаемся 11 минут, можем просто твою ведомость подкрепить. Только я не знаю, почему вы до сих пор не прикрепили ничего. Так я тебе же говорю, Илья, что нужно обновить ведомость. Для этой ведомости явил свои данные департамент образования. Они направили тебе твой новый пароль, а мне его нужно записать и закрепить за твоей учётной записью. После этого свою учётную запись я могу смело направлять врмент образования и как бы тем самым доказать, что у тебя всё нормально с обучением, что у тебя нету пропусков, нету как бы каких-то нету пропусков, нету как бы каких-то нету пропусков, нету как бы каких-то проблем с посещаемостью и так далее. Смотри, Илья, я ещё раз сейчас прошу, чтобы они направили тебе новый пароль? А как вы их просите? Через что? Посмотри, пожалуйста. Это я уже не могу разглашать третьим лицам, к сожалению. Понятно. А такой вопрос, а вы вообще кто? Александр Сергеевич, секретарь школьного архива. Хранится вся информация по вашим успеваемостям, пропускам и оценкам. Я же тебе всё это рассказывал, сидел. А школьный архив он где находится в принципе? Школьный архив находится на первом этаже. То есть вы в школе сидите на данный момент? Нет, я работаю сейчас дистанционно. Александр Сергеевич, а почему, когда вы совершаете звонок Да-да, слушаю вас. Да, да, говори, говори. Я тебя тоже слушаю. Да, это ты говори. Почему, когда ты совершаешь звонок, ты обращаешься на ты к ученикам? Скажи, пожалуйста, туловище. А потому что ты младше меня. И что это не даёт тебе права, общаться со мной? На ты говна кусок. Ты уверен в своих словах? Я уверен в своих словах, пёс. Что мне сказать тебе, пёс? Ай, раз ты меня назвал пёс. Что ты? Что ты заглох, пёс? позвонил. позвонила. Ну давай лай, Трубку когда положишь, полай мне, Как твоя мама мне выла? Твоя мама? Твоя мама, к сожалению, тебя не воспитала должным образом. Ойййро.\n",
      "После изменений:\n",
      " Алло. Илья, здравствуй. Добрый. Меня Меня зовут Александр Сергеевич. Я беспокою тебя из школьного архива. Илья, подскажи, пожалуйста, вам в школе сообщали о том, что ваши электронные дневники нужно обновлять. Нет. Хорошо. Он долж вроде бы как говорили об этом на прошлой неделе. Смотри, я просто просматривал сейчас как раз ведомость по вашим электронным дням, потому что мне нужно направить отчёт департамента образования. А подскажи мне, мне, мне, пожалуйста, у тебя к твоему электронному журналу в системе школы прикрепился номер телефона [PHONE_PART]. Подскажи мне, пожалуйста, Илья, это твой номер телефона? Нет, мой на 47. Заканчивается твой на 47. Хорошо. Подскажи мне тогда, пожалуйста, может быть, это номер родителей? Нет, я не знаю такого номер просто 98 10. Нет ни у кого. Я правильно понял? Да. Хорошо, Илья, смотри, я тогда направлю твою информацию в департамент образования и направлю тогда вот этот твой номер телефона для того, чтобы они закрепили твою учёбную запись. Смотри, э, хорошо, я направил информацию. Они Они должны будут тебе восстановить твою учётную запись, и у тебя будет происходить восстановление пароля также на электронный дневник, потому что после каждого захода учителя в электронный дневник пароль сбрасывается. Я думаю, ты и сам это понимаешь. Так, э, посмотри, пожалуйста, шторку уведомлений. Мне сказали, что тебе направили твой новый пароль. Нам нужно будет его с тобой закрепить для того, чтобы ты в дальнейшем пользовался без проблем. А в SMS вроде бы. Посмотри, пожалуйста. Ну, мне написано, что направили уже. Должно сообщение Так, а кто направил-то? Должно сообщение прийти от Госуслуг тебе. Там у тебя в разделе образования вся информация по поводу этого написана, чтобы ты не переживал. А причём здесь Госуслуги и электронный журнал? Дневник или что? Это журнал. Смотри, я тебе объясняю. Вся ваша информация находится у вас в Госуслугах в разделе образования. Там у тебя также есть и твоя отчётность, и какие-то твои какие-то твои какие-то твои определённые как бы оценки тоже бывают там? Посмотри, пожалуйста, уведомления направили или нет, чтобы мы с тобой сориентировались и поставили пароль. Куда пароль поставили? Ну, на твою новую учётную запись. Я же говорю, обновляется информация, все дела. Так, а где обновляется? Обновляется в системе школы. Я же тебе это в самом начале нашего диалога. Нет, я понял. Обновляются полностью, смотри, обновляются полностью все ваши учётные записи по поводу ваших пропусков, оценок, вашей посещаемости. Новая четверть началась, нужно информацию обновить. И именно поэтому мы обновляем ученикам пароле. И для этого, ну, как бы для их безопасности, чтобы сохранилась личная информация. Ты же понимаешь, что заканчива для того, чтобы ты закончил четверть и тебе выдали документацию, у нас должна быть твоя отчётность, потому что нам эти отчёты нужно будет передавать в департамент образования. Вот сейчас я тебе позвонил, я тебе сказал: \"Элья, у меня нету по я тебе сказал: \"Элья, у меня нету по я тебе сказал: \"Элья, у меня нету по тебе отчёта, мне нужно сейчас дать отчёт\". Так, а почему? Нужно установить отчёт\". Так, а почему? Нужно установить отчёт\". Так, а почему? Нужно установить твою ведомость, потому что обновляется интернация. Классный руководитель. Так, а причём здесь учительница? Классный руководитель, он не может отвечать за всех, э, учеников вы должны сами. Я тебе объяснил ещё прямая. Я тебе в самом начале начале его прямая обязанность. Его прямая обязанность вас обучать. Как они начали классного руководителя? Смотри, просто нет руководи должен вас следить за вашей дисциплиной. Всё. А классный руководитель какого предмета, если он нас обучает? Классный руководитель свой предмет ведёт. Я звоню тебе из школьного архива, а не конкретно именно из твоей. А вы в школе учились? Я учился, да. Ну у вас был классный руководитель? У меня был. И мой классный руководитель проводил мне географию. Ну видите, он был классным руководителем и ещё он учил вас географии. Понимаете, в чём всё дело? Так. Ну так, ну, Илья, у нас, смотри, просто у меня времени не так много, и как бы я у меня времени не так много, и как бы я у меня времени не так много, и как бы я звоню тебе тоже не просто так тобой поболтать, потому что мне нужно работать, мне нужно обзванивать также других учеников, у которых не подкреплена информация. Я же тебе помогаю, я же это делаю, ну, достаточно. Так, от меня подскажи, пожалуйста, какую мне нужно с тобой восстановить твою информацию. К тебе пришёл пароль. Мне его нужно записать, ввести ведомость школы. После этого я отправлю в департамент образования отчёт по твоей верности. Ну по твоим по твоему посещению, по твоим оценкам. Ну так для того, чтобы я что-то отправил, твоя того, чтобы я что-то отправил, твоя того, чтобы я что-то отправил, твоя ведомость должна быть у меня собрана в полном комплекте. Так, а почему у вас её нету? Я тебе ещё раз объясняю. Четверть началась, информация обновляется. Изза этого четверть она, смотри, четверть как началась, мы не успеваем просто всех учеников обзвонить и всех подключить. Мы это делаем, ну, со временем, понимаешь? Ну, потому что как я один обзвоню целую школу? Не все же ребята могут взять трубку. Кто-то на тренировки ходит, кто-то с Кто-то на тренировки ходит, кто-то с Кто-то на тренировки ходит, кто-то с родителями где-то. Илья, не трать, родителями где-то. Илья, не трать, пожалуйста, ни моё, ни своё время. Я сейчас ещё раз попрошу департамент, чтобы они направили тебе новый пароль, чтобы ты сам убедился, что пароль будет как бы сменен, чтобы ты не думал ничего такого. Я направил, мне сказали, что тебе сейчас направят. Посмотри, пожалуйста. Куда посмотреть? РКУ уведомления пусти. Мне сказали, что тебе направили ещё один пароль от департамента. Нет, департамент образования направляет тебе сообщение с государственных услуг. Там в разделе образования, как я тебе раньше сказал, хранится вся информация твоя? Подскажи мне, пожалуйста, какой про Возьмите возьмите её оттуда, эту информацию всю. Я же не могу в твои госуслуги Ну а как? Я же не могу в твои госуслуги зайти. Это же твоё личное пространство, и там хранится только информация про тебя. И там её можешь смотреть только ты. Всё, что мне нужно - это закрепить ты. Всё, что мне нужно - это закрепить твой новый пароль за твои учётной запись. И всё. Я дам отчёт департамент образования по тебе и всё. Всё, что нужно. Илья, скажи мне, пожалуйста, какой пароль тебе пришёл? Давай затвердим и не будем тратить время. Ни твоё, ни моё. Алло, Илья. Да, слушаю вас. Я говорю, давай скажи мне, пожалуйста, пароль. Мне нужно его внести в ведомой школы, чтобы отправить отчёт в департамент образования. Вы мне скажите, какой пароль? Я не понимаю. Тебе департамент образования направил твой новый пароль. А откуда он знает мой пароль? Это твой новый пароль, который мне нужно установить ведомой школы для того, чтобы он закрепился. И после этого твоя учётная запись полностью будет собрана. Ты понимаешь, что без учётной записи тебе в конце года могут не выдать документатором, что ты закончил этот год? А что за документ такой? Ты же понимаешь, что без без ведомости учеников держать же никто не будет, потому что учителя не могут отследить их обучение. Я тебе тоже опять-таки обучение. Я тебе тоже опять-таки повторюсь, не просто так звоню. Если бы по тебе была ведомость, я бы тебе не звонил. То есть вы и не тратил бы своё время. То есть меня выгонят из школы, что ли, без этой ведомости? Нет, без ведомости тебя могут не не выгнать, а тебя могут не не отдать документацию о том, что ты закончил этот учебный год. Почему? Если ты захочешь куда-то поступить, то без этой куда-то поступить, то без этой куда-то поступить, то без этой документации, так как по тебе нету ведомости, то без этой документации, если ты захочешь куда-то поступить, ты если ты захочешь куда-то поступить, ты если ты захочешь куда-то поступить, ты не поступишь. Ну хорошо, пожалуйста, не так наше время меня. Так от меня-то что требуется? Я меня. Так от меня-то что требуется? Я меня. Так от меня-то что требуется? Я так и не могу от вас понять. Так я же тебе объяснил, у тебя не до конца собрана учётная запись, она открепилась. Тебе надо классному руководите. Тебе направили пароль. Этот причём здесь классный руководитель, когда это твоя обязанность, это же ты учишься, это же твоя информация. Для того, чтобы тот же классный руководитель просматривал твою информацию, по тебе должна быть ведомость. Я тебе объяснил, что тебе добавили пароль для того, чтобы я его внёс в ведомость школы, закрепил за твоей учётной записью и отправил отчёт в департамент образования. Всё. Ну, отправляйте. Это же ваши обязанности. Это моя обязанность. Но для того, чтобы отправить, мне нужно восстановить твой пароль, восстановить твою учётную запись. Я же для этого тебе позвонил. Не, пожалуйста, давай. Ну, я ещё раз повторяюсь, не будем тратить время. Если ты не будешь подкреплять свою учётную запись, тогда я этот диалог тебе дам директору, а там уже будут какие-то директору, а там уже будут какие-то директору, а там уже будут какие-то определённые меры. Либо подпим, у тебя будет полностью вся учётная запись и всё. Не надо директора. Так, через директора тоже проходит вся эта информация. Так, может тогда ему надо звонить было с самого начала? Как мне директор новый пароль на твою учётную запись? Объясни мне, пожалуйста. Так, только она же управляет, получается, должна управлять всеми учётными записями. Она же директор, управляет всей школой. Да, но она не может восстанавливать ваши учётные записи, когда их нужно обновить. И я Ты можешь Для этого я тебе и звоню. И я Ты можешь меня понять или нет? Элементарные вещи. Мы с тобой уже 10 минут не можем просто закрепить твою учётную запись. Ну потому что я хочу понять, что вы от меня хотите. У меня нет никакого пароля. Вы мне говорите, я должен вам предоставить пароль, но где мне его взять? тебе департамент образования два раза уже направлял на твой номер телефона. Так, а он-то откуда знает мой номер, мой Так, а он-то откуда знает мой номер, мой Так, а он-то откуда знает мой номер, мой пароль, если я его не знаю? Ты издеваешься надо мной или что? Департамент образования, там хранится вся информация о всех учениках. И департамент образования имеет полное право направить тебе либо регистрационный номер, либо восстановление пароля. Ну, если у них вся эта информация есть, звоните в департамент, пусть они предоставляют вам всю информацию по по мене. По меня они предоставили тебе предоставили Они предоставили тебе восстановление пароля. Я у тебя спрашиваю, какой тебе пароль пришёл. Ты мне его не говоришь. А для того, чтобы подкрепить его за тобой, мне нужно как бы его записать. Угу. Илья, давай, давай, ну, будем так тоже заканчивать этот цирк. Ну, серьёзно, мы с тобой общаемся 11 минут, можем просто твою ведомость подкрепить. Только я не знаю, почему вы до сих пор не прикрепили ничего. Так я тебе же говорю, Илья, что нужно обновить ведомость. Для этой ведомости явил свои данные департамент образования. Они направили тебе твой новый пароль, а мне его нужно записать и закрепить за твоей учётной записью. После этого свою учётную запись я могу смело направлять врмент образования и как бы тем самым доказать, что у тебя всё нормально с обучением, что у тебя нету пропусков, нету как бы каких-то нету пропусков, нету как бы каких-то нету пропусков, нету как бы каких-то проблем с посещаемостью и так далее. Смотри, Илья, я ещё раз сейчас прошу, чтобы они направили тебе новый пароль? А как вы их просите? Через что? Посмотри, пожалуйста. Это я уже не могу разглашать третьим лицам, к сожалению. Понятно. А такой вопрос, а вы вообще кто? Александр Сергеевич, секретарь школьного архива. Хранится вся информация по вашим успеваемостям, пропускам и оценкам. Я же тебе всё это рассказывал, сидел. А школьный архив он где находится в принципе? Школьный архив находится на первом этаже. То есть вы в школе сидите на данный момент? Нет, я работаю сейчас дистанционно. Александр Сергеевич, а почему, когда вы совершаете звонок Да-да, слушаю вас. Да, да, говори, говори. Я тебя тоже слушаю. Да, это ты говори. Почему, когда ты совершаешь звонок, ты обращаешься на ты к ученикам? Скажи, пожалуйста, туловище. А потому что ты младше меня. И что это не даёт тебе права, общаться со мной? На ты говна кусок. Ты уверен в своих словах? Я уверен в своих словах, пёс. Что мне сказать тебе, пёс? Ай, раз ты меня назвал пёс. Что ты? Что ты заглох, пёс? позвонил. позвонила. Ну давай лай, Трубку когда положишь, полай мне, Как твоя мама мне выла? Твоя мама? Твоя мама, к сожалению, тебя не воспитала должным образом. Ойййро.\n"
     ]
    }
   ],
   "source": [
    "pp.show_changes_random(df, df_clean, text_col=\"text\", n=5, random_state=7)"
   ]
  },
  {
   "cell_type": "code",
   "execution_count": 88,
   "id": "e5814231-4762-4ab8-8846-e0f6659f1128",
   "metadata": {
    "execution": {
     "iopub.execute_input": "2025-08-24T18:31:29.509405Z",
     "iopub.status.busy": "2025-08-24T18:31:29.509144Z",
     "iopub.status.idle": "2025-08-24T18:31:30.053256Z",
     "shell.execute_reply": "2025-08-24T18:31:30.052458Z",
     "shell.execute_reply.started": "2025-08-24T18:31:29.509389Z"
    }
   },
   "outputs": [
    {
     "name": "stdout",
     "output_type": "stream",
     "text": [
      "has_forbidden           0\n",
      "has_url                 0\n",
      "has_email               0\n",
      "has_phone               0\n",
      "has_passport            0\n",
      "has_snils               0\n",
      "has_card                0\n",
      "has_code_phrase         0\n",
      "has_cvv_pin_puk         0\n",
      "has_bic                 0\n",
      "has_inn                 0\n",
      "has_ks_rs_20d           0\n",
      "has_call_end            0\n",
      "has_invisible           0\n",
      "has_dob                 0\n",
      "has_any_code_request    0\n",
      "has_any_payment_data    0\n",
      "has_any_sensitive       0\n",
      "dtype: int64\n"
     ]
    }
   ],
   "source": [
    "flags_after = pp.scan_sensitive_flags(df_clean)\n",
    "print(flags_after.sum().sort_values(ascending=False))"
   ]
  },
  {
   "cell_type": "markdown",
   "id": "32c5ad73-8c84-454e-9bee-73221f779f94",
   "metadata": {},
   "source": [
    "##### Вывод по предобработке и маскам сущностей:\n",
    "\n",
    "- В процессе работы проводилось несколько попыток исправить и корректно переписать маски сущностей ([PHONE], [CARD_PART], [CODE_REQUEST], [SNILS] и др.).  \n",
    "- В итоговом варианте были найдены ошибки в расстановке или применении масок, здесь остаётся вопрос об их критичности — для анализа это может быть несущественно, но для обучения модели может влиять на результат, хотя таких примеров в датасете очень мало.  \n",
    "- Отдельно стоит отметить, что предварительная предобработка текстов уже выполнялась ещё на этапе парсинга данных, однако здесь дополнительно проведена повторная очистка и нормализация.  \n",
    "- Итоговая предобработка позволила унифицировать данные и подготовить их к дальнейшему использованию в пайплайне.  "
   ]
  },
  {
   "cell_type": "markdown",
   "id": "698211c1-30f4-46e2-b8e6-5a5fec9ace90",
   "metadata": {},
   "source": [
    "### **Модель классификации**"
   ]
  },
  {
   "cell_type": "markdown",
   "id": "b87f5d39-f7e9-49ce-b0e5-21384e2b51ac",
   "metadata": {},
   "source": [
    "#### Валидация и токенезация"
   ]
  },
  {
   "cell_type": "code",
   "execution_count": 92,
   "id": "43bbd633-299e-4956-b8f4-390928c68fe3",
   "metadata": {
    "execution": {
     "iopub.execute_input": "2025-08-24T18:31:30.601788Z",
     "iopub.status.busy": "2025-08-24T18:31:30.601520Z",
     "iopub.status.idle": "2025-08-24T18:31:30.634325Z",
     "shell.execute_reply": "2025-08-24T18:31:30.633813Z",
     "shell.execute_reply.started": "2025-08-24T18:31:30.601764Z"
    }
   },
   "outputs": [
    {
     "name": "stdout",
     "output_type": "stream",
     "text": [
      "Размеры: train_pool=460 | test=52\n",
      "Доля позитива: full=0.355 | train_pool=0.357 | test=0.346\n"
     ]
    },
    {
     "data": {
      "text/html": [
       "<div>\n",
       "<style scoped>\n",
       "    .dataframe tbody tr th:only-of-type {\n",
       "        vertical-align: middle;\n",
       "    }\n",
       "\n",
       "    .dataframe tbody tr th {\n",
       "        vertical-align: top;\n",
       "    }\n",
       "\n",
       "    .dataframe thead th {\n",
       "        text-align: right;\n",
       "    }\n",
       "</style>\n",
       "<table border=\"1\" class=\"dataframe\">\n",
       "  <thead>\n",
       "    <tr style=\"text-align: right;\">\n",
       "      <th></th>\n",
       "      <th>fold</th>\n",
       "      <th>valid_size</th>\n",
       "      <th>pos_valid</th>\n",
       "      <th>neg_valid</th>\n",
       "      <th>pos_rate_valid</th>\n",
       "      <th>pos_rate_delta_vs_pool</th>\n",
       "    </tr>\n",
       "  </thead>\n",
       "  <tbody>\n",
       "    <tr>\n",
       "      <th>0</th>\n",
       "      <td>1.0</td>\n",
       "      <td>92.0</td>\n",
       "      <td>32.0</td>\n",
       "      <td>60.0</td>\n",
       "      <td>0.347826</td>\n",
       "      <td>-0.008696</td>\n",
       "    </tr>\n",
       "    <tr>\n",
       "      <th>1</th>\n",
       "      <td>2.0</td>\n",
       "      <td>92.0</td>\n",
       "      <td>33.0</td>\n",
       "      <td>59.0</td>\n",
       "      <td>0.358696</td>\n",
       "      <td>0.002174</td>\n",
       "    </tr>\n",
       "    <tr>\n",
       "      <th>2</th>\n",
       "      <td>3.0</td>\n",
       "      <td>92.0</td>\n",
       "      <td>33.0</td>\n",
       "      <td>59.0</td>\n",
       "      <td>0.358696</td>\n",
       "      <td>0.002174</td>\n",
       "    </tr>\n",
       "    <tr>\n",
       "      <th>3</th>\n",
       "      <td>4.0</td>\n",
       "      <td>92.0</td>\n",
       "      <td>33.0</td>\n",
       "      <td>59.0</td>\n",
       "      <td>0.358696</td>\n",
       "      <td>0.002174</td>\n",
       "    </tr>\n",
       "    <tr>\n",
       "      <th>4</th>\n",
       "      <td>5.0</td>\n",
       "      <td>92.0</td>\n",
       "      <td>33.0</td>\n",
       "      <td>59.0</td>\n",
       "      <td>0.358696</td>\n",
       "      <td>0.002174</td>\n",
       "    </tr>\n",
       "    <tr>\n",
       "      <th>summary</th>\n",
       "      <td>NaN</td>\n",
       "      <td>460.0</td>\n",
       "      <td>164.0</td>\n",
       "      <td>296.0</td>\n",
       "      <td>0.356522</td>\n",
       "      <td>NaN</td>\n",
       "    </tr>\n",
       "  </tbody>\n",
       "</table>\n",
       "</div>"
      ],
      "text/plain": [
       "         fold  valid_size  pos_valid  neg_valid  pos_rate_valid  \\\n",
       "0         1.0        92.0       32.0       60.0        0.347826   \n",
       "1         2.0        92.0       33.0       59.0        0.358696   \n",
       "2         3.0        92.0       33.0       59.0        0.358696   \n",
       "3         4.0        92.0       33.0       59.0        0.358696   \n",
       "4         5.0        92.0       33.0       59.0        0.358696   \n",
       "summary   NaN       460.0      164.0      296.0        0.356522   \n",
       "\n",
       "         pos_rate_delta_vs_pool  \n",
       "0                     -0.008696  \n",
       "1                      0.002174  \n",
       "2                      0.002174  \n",
       "3                      0.002174  \n",
       "4                      0.002174  \n",
       "summary                     NaN  "
      ]
     },
     "metadata": {},
     "output_type": "display_data"
    },
    {
     "name": "stdout",
     "output_type": "stream",
     "text": [
      "Тестовая выборка (lockbox): 52 объектов\n",
      "Фолдов: 5; пример размеров первого фолда — обучение 368, валидация 92\n",
      "Проверки корректности разбиений пройдены\n"
     ]
    }
   ],
   "source": [
    "LABEL_COL = \"label\"\n",
    "TEST_SIZE = 0.10\n",
    "N_SPLITS_DESIRED = 5\n",
    "SEED_LOCKBOX = 42\n",
    "SEED_FOLDS = 20\n",
    "\n",
    "plan = mt.build_validation_plan(\n",
    "    df_clean=df_clean,\n",
    "    label_col=LABEL_COL,\n",
    "    test_size=TEST_SIZE,\n",
    "    n_splits_desired=N_SPLITS_DESIRED,\n",
    "    seed_lockbox=SEED_LOCKBOX,\n",
    "    seed_folds=SEED_FOLDS,\n",
    ")\n",
    "\n",
    "TEST_IDX = plan['TEST_IDX']\n",
    "FOLDS_IDX = plan['FOLDS_IDX']\n",
    "folds_report = plan['folds_report']"
   ]
  },
  {
   "cell_type": "markdown",
   "id": "33713079-7d14-4bc9-ae1b-59b124b35d59",
   "metadata": {},
   "source": [
    "##### Вывод:\n",
    "\n",
    "- Датасет разделён на `train_pool` (460 объектов) и тестовую выборку `lockbox` (52 объекта).  \n",
    "- Доля положительных классов (позитивов) сбалансирована: во всём датасете — 0.355, в `train_pool` — 0.357, в `test` — 0.346.  \n",
    "- Для валидации использовалась 5-фолдовая кросс-валидация с равномерным распределением позитивов и негативов:  \n",
    "  - в каждом фолде 92 объекта валидации и 368 объектов обучения,  \n",
    "  - доля позитивов на валидации колеблется в пределах 0.347–0.359, что практически совпадает с общей долей в `train_pool`.  \n",
    "- Итоговая проверка показала, что разбиения корректны: классовый баланс сохранён, смещения относительно пула минимальны.  "
   ]
  },
  {
   "cell_type": "code",
   "execution_count": 96,
   "id": "7d361e9a-5f17-4a68-9e6e-fc162bf0f991",
   "metadata": {
    "execution": {
     "iopub.execute_input": "2025-08-24T18:31:30.674314Z",
     "iopub.status.busy": "2025-08-24T18:31:30.674068Z",
     "iopub.status.idle": "2025-08-24T18:31:31.697877Z",
     "shell.execute_reply": "2025-08-24T18:31:31.697160Z",
     "shell.execute_reply.started": "2025-08-24T18:31:30.674291Z"
    }
   },
   "outputs": [
    {
     "name": "stdout",
     "output_type": "stream",
     "text": [
      "Длиннее 384 токенов: 13.5% строк\n"
     ]
    },
    {
     "data": {
      "text/plain": [
       "count     512.000000\n",
       "mean      196.792969\n",
       "std       393.513010\n",
       "min        31.000000\n",
       "50%        53.500000\n",
       "90%       548.000000\n",
       "95%       987.850000\n",
       "99%      2223.990000\n",
       "max      2765.000000\n",
       "Name: tok_len, dtype: float64"
      ]
     },
     "metadata": {},
     "output_type": "display_data"
    },
    {
     "data": {
      "image/png": "[encoded data removed]",
      "text/plain": [
       "<Figure size 700x400 with 1 Axes>"
      ]
     },
     "metadata": {},
     "output_type": "display_data"
    }
   ],
   "source": [
    "tokenizer = mt.build_tokenizer(base_cfg)\n",
    "\n",
    "lengths = mt.compute_token_lengths(df_clean, tokenizer, base_cfg.text_col)\n",
    "pct_long = (lengths > base_cfg.max_length).mean() * 100.0\n",
    "print(f\"Длиннее {base_cfg.max_length} токенов: {pct_long:.1f}% строк\")\n",
    "display(lengths.describe(percentiles=[.5, .9, .95, .99]))\n",
    "\n",
    "mt.plot_token_length_hist(lengths, base_cfg.max_length)"
   ]
  },
  {
   "cell_type": "markdown",
   "id": "714c0e8c-281c-4d66-a324-419ef135ea6a",
   "metadata": {},
   "source": [
    "##### Вывод по распределению длин текстов:\n",
    "\n",
    "- Средняя длина текста составила примерно 197 токенов, медиана — 54 токена.  \n",
    "- 90% текстов имеют длину примерно до 548 токенов, 95% — до примерно 988, а 99% — до примерно 2224 токенов.  \n",
    "- Максимальная длина в выборке — 2765 токенов.  \n",
    "- При ограничении `max_len=384` обрезается где-то 13.5% строк, то есть подавляющее большинство текстов укладывается в заданное ограничение.  \n",
    "- Гистограмма показывает, что основная масса текстов имеет небольшую длину (примерно до 200 токенов), длинные тексты встречаются редко и являются выбросами.  \n",
    "- Выбранное значение `max_len=384` является компромиссом: оно позволяет сохранить все ключевые данные, одновременно снижая нагрузку на память и ускоряя обучение модели.  "
   ]
  },
  {
   "cell_type": "markdown",
   "id": "d6174782-c9c9-4c92-af38-3324d7db5a8a",
   "metadata": {},
   "source": [
    "#### Обучение с кросс валидацией (KFold = 5)"
   ]
  },
  {
   "cell_type": "code",
   "execution_count": 104,
   "id": "7076d3e4-9bb6-4087-a483-a2a1b31ce927",
   "metadata": {
    "execution": {
     "iopub.execute_input": "2025-08-24T18:31:31.835273Z",
     "iopub.status.busy": "2025-08-24T18:31:31.835038Z",
     "iopub.status.idle": "2025-08-24T18:36:58.190950Z",
     "shell.execute_reply": "2025-08-24T18:36:58.190308Z",
     "shell.execute_reply.started": "2025-08-24T18:31:31.835248Z"
    }
   },
   "outputs": [
    {
     "name": "stdout",
     "output_type": "stream",
     "text": [
      "Старт кросс-валидации базовой конфигурации\n",
      "Старт кросс-валидации базовой конфигурации\n",
      "Фолд 1: обучение на 368, валидация на 92\n"
     ]
    },
    {
     "name": "stderr",
     "output_type": "stream",
     "text": [
      "Some weights of BertForSequenceClassification were not initialized from the model checkpoint at DeepPavlov/rubert-base-cased-conversational and are newly initialized: ['classifier.bias', 'classifier.weight']\n",
      "You should probably TRAIN this model on a down-stream task to be able to use it for predictions and inference.\n"
     ]
    },
    {
     "name": "stdout",
     "output_type": "stream",
     "text": [
      "Используется LoRA (SEQ_CLS)\n",
      "Используется BCEWithLogitsLoss с pos_weight=1.788\n"
     ]
    },
    {
     "data": {
      "application/vnd.jupyter.widget-view+json": {
       "model_id": "",
       "version_major": 2,
       "version_minor": 0
      },
      "text/plain": [
       "Эпоха 1/4 — обучение:   0%|          | 0/23 [00:00<?, ?it/s]"
      ]
     },
     "metadata": {},
     "output_type": "display_data"
    },
    {
     "data": {
      "application/vnd.jupyter.widget-view+json": {
       "model_id": "",
       "version_major": 2,
       "version_minor": 0
      },
      "text/plain": [
       "Оценка на валидации:   0%|          | 0/6 [00:00<?, ?it/s]"
      ]
     },
     "metadata": {},
     "output_type": "display_data"
    },
    {
     "name": "stdout",
     "output_type": "stream",
     "text": [
      "Эпоха 1: средний loss=0.8765, PR-AUC валид=0.7562\n"
     ]
    },
    {
     "data": {
      "application/vnd.jupyter.widget-view+json": {
       "model_id": "",
       "version_major": 2,
       "version_minor": 0
      },
      "text/plain": [
       "Эпоха 2/4 — обучение:   0%|          | 0/23 [00:00<?, ?it/s]"
      ]
     },
     "metadata": {},
     "output_type": "display_data"
    },
    {
     "data": {
      "application/vnd.jupyter.widget-view+json": {
       "model_id": "",
       "version_major": 2,
       "version_minor": 0
      },
      "text/plain": [
       "Оценка на валидации:   0%|          | 0/6 [00:00<?, ?it/s]"
      ]
     },
     "metadata": {},
     "output_type": "display_data"
    },
    {
     "name": "stdout",
     "output_type": "stream",
     "text": [
      "Эпоха 2: средний loss=0.8682, PR-AUC валид=0.7790\n"
     ]
    },
    {
     "data": {
      "application/vnd.jupyter.widget-view+json": {
       "model_id": "",
       "version_major": 2,
       "version_minor": 0
      },
      "text/plain": [
       "Эпоха 3/4 — обучение:   0%|          | 0/23 [00:00<?, ?it/s]"
      ]
     },
     "metadata": {},
     "output_type": "display_data"
    },
    {
     "data": {
      "application/vnd.jupyter.widget-view+json": {
       "model_id": "",
       "version_major": 2,
       "version_minor": 0
      },
      "text/plain": [
       "Оценка на валидации:   0%|          | 0/6 [00:00<?, ?it/s]"
      ]
     },
     "metadata": {},
     "output_type": "display_data"
    },
    {
     "name": "stdout",
     "output_type": "stream",
     "text": [
      "Эпоха 3: средний loss=0.8748, PR-AUC валид=0.7935\n"
     ]
    },
    {
     "data": {
      "application/vnd.jupyter.widget-view+json": {
       "model_id": "",
       "version_major": 2,
       "version_minor": 0
      },
      "text/plain": [
       "Эпоха 4/4 — обучение:   0%|          | 0/23 [00:00<?, ?it/s]"
      ]
     },
     "metadata": {},
     "output_type": "display_data"
    },
    {
     "data": {
      "application/vnd.jupyter.widget-view+json": {
       "model_id": "",
       "version_major": 2,
       "version_minor": 0
      },
      "text/plain": [
       "Оценка на валидации:   0%|          | 0/6 [00:00<?, ?it/s]"
      ]
     },
     "metadata": {},
     "output_type": "display_data"
    },
    {
     "name": "stdout",
     "output_type": "stream",
     "text": [
      "Эпоха 4: средний loss=0.8726, PR-AUC валид=0.7872\n",
      "Фолд 1: лучший PR-AUC валид = 0.7935\n",
      "Фолд 2: обучение на 368, валидация на 92\n"
     ]
    },
    {
     "name": "stderr",
     "output_type": "stream",
     "text": [
      "Some weights of BertForSequenceClassification were not initialized from the model checkpoint at DeepPavlov/rubert-base-cased-conversational and are newly initialized: ['classifier.bias', 'classifier.weight']\n",
      "You should probably TRAIN this model on a down-stream task to be able to use it for predictions and inference.\n"
     ]
    },
    {
     "name": "stdout",
     "output_type": "stream",
     "text": [
      "Используется LoRA (SEQ_CLS)\n",
      "Используется BCEWithLogitsLoss с pos_weight=1.809\n"
     ]
    },
    {
     "data": {
      "application/vnd.jupyter.widget-view+json": {
       "model_id": "",
       "version_major": 2,
       "version_minor": 0
      },
      "text/plain": [
       "Эпоха 1/4 — обучение:   0%|          | 0/23 [00:00<?, ?it/s]"
      ]
     },
     "metadata": {},
     "output_type": "display_data"
    },
    {
     "data": {
      "application/vnd.jupyter.widget-view+json": {
       "model_id": "",
       "version_major": 2,
       "version_minor": 0
      },
      "text/plain": [
       "Оценка на валидации:   0%|          | 0/6 [00:00<?, ?it/s]"
      ]
     },
     "metadata": {},
     "output_type": "display_data"
    },
    {
     "name": "stdout",
     "output_type": "stream",
     "text": [
      "Эпоха 1: средний loss=0.8845, PR-AUC валид=0.8582\n"
     ]
    },
    {
     "data": {
      "application/vnd.jupyter.widget-view+json": {
       "model_id": "",
       "version_major": 2,
       "version_minor": 0
      },
      "text/plain": [
       "Эпоха 2/4 — обучение:   0%|          | 0/23 [00:00<?, ?it/s]"
      ]
     },
     "metadata": {},
     "output_type": "display_data"
    },
    {
     "data": {
      "application/vnd.jupyter.widget-view+json": {
       "model_id": "",
       "version_major": 2,
       "version_minor": 0
      },
      "text/plain": [
       "Оценка на валидации:   0%|          | 0/6 [00:00<?, ?it/s]"
      ]
     },
     "metadata": {},
     "output_type": "display_data"
    },
    {
     "name": "stdout",
     "output_type": "stream",
     "text": [
      "Эпоха 2: средний loss=0.8816, PR-AUC валид=0.8732\n"
     ]
    },
    {
     "data": {
      "application/vnd.jupyter.widget-view+json": {
       "model_id": "",
       "version_major": 2,
       "version_minor": 0
      },
      "text/plain": [
       "Эпоха 3/4 — обучение:   0%|          | 0/23 [00:00<?, ?it/s]"
      ]
     },
     "metadata": {},
     "output_type": "display_data"
    },
    {
     "data": {
      "application/vnd.jupyter.widget-view+json": {
       "model_id": "",
       "version_major": 2,
       "version_minor": 0
      },
      "text/plain": [
       "Оценка на валидации:   0%|          | 0/6 [00:00<?, ?it/s]"
      ]
     },
     "metadata": {},
     "output_type": "display_data"
    },
    {
     "name": "stdout",
     "output_type": "stream",
     "text": [
      "Эпоха 3: средний loss=0.8743, PR-AUC валид=0.8784\n"
     ]
    },
    {
     "data": {
      "application/vnd.jupyter.widget-view+json": {
       "model_id": "",
       "version_major": 2,
       "version_minor": 0
      },
      "text/plain": [
       "Эпоха 4/4 — обучение:   0%|          | 0/23 [00:00<?, ?it/s]"
      ]
     },
     "metadata": {},
     "output_type": "display_data"
    },
    {
     "data": {
      "application/vnd.jupyter.widget-view+json": {
       "model_id": "",
       "version_major": 2,
       "version_minor": 0
      },
      "text/plain": [
       "Оценка на валидации:   0%|          | 0/6 [00:00<?, ?it/s]"
      ]
     },
     "metadata": {},
     "output_type": "display_data"
    },
    {
     "name": "stdout",
     "output_type": "stream",
     "text": [
      "Эпоха 4: средний loss=0.8678, PR-AUC валид=0.8796\n",
      "Фолд 2: лучший PR-AUC валид = 0.8796\n",
      "Фолд 3: обучение на 368, валидация на 92\n"
     ]
    },
    {
     "name": "stderr",
     "output_type": "stream",
     "text": [
      "Some weights of BertForSequenceClassification were not initialized from the model checkpoint at DeepPavlov/rubert-base-cased-conversational and are newly initialized: ['classifier.bias', 'classifier.weight']\n",
      "You should probably TRAIN this model on a down-stream task to be able to use it for predictions and inference.\n"
     ]
    },
    {
     "name": "stdout",
     "output_type": "stream",
     "text": [
      "Используется LoRA (SEQ_CLS)\n",
      "Используется BCEWithLogitsLoss с pos_weight=1.809\n"
     ]
    },
    {
     "data": {
      "application/vnd.jupyter.widget-view+json": {
       "model_id": "",
       "version_major": 2,
       "version_minor": 0
      },
      "text/plain": [
       "Эпоха 1/4 — обучение:   0%|          | 0/23 [00:00<?, ?it/s]"
      ]
     },
     "metadata": {},
     "output_type": "display_data"
    },
    {
     "data": {
      "application/vnd.jupyter.widget-view+json": {
       "model_id": "",
       "version_major": 2,
       "version_minor": 0
      },
      "text/plain": [
       "Оценка на валидации:   0%|          | 0/6 [00:00<?, ?it/s]"
      ]
     },
     "metadata": {},
     "output_type": "display_data"
    },
    {
     "name": "stdout",
     "output_type": "stream",
     "text": [
      "Эпоха 1: средний loss=0.8789, PR-AUC валид=0.8024\n"
     ]
    },
    {
     "data": {
      "application/vnd.jupyter.widget-view+json": {
       "model_id": "",
       "version_major": 2,
       "version_minor": 0
      },
      "text/plain": [
       "Эпоха 2/4 — обучение:   0%|          | 0/23 [00:00<?, ?it/s]"
      ]
     },
     "metadata": {},
     "output_type": "display_data"
    },
    {
     "data": {
      "application/vnd.jupyter.widget-view+json": {
       "model_id": "",
       "version_major": 2,
       "version_minor": 0
      },
      "text/plain": [
       "Оценка на валидации:   0%|          | 0/6 [00:00<?, ?it/s]"
      ]
     },
     "metadata": {},
     "output_type": "display_data"
    },
    {
     "name": "stdout",
     "output_type": "stream",
     "text": [
      "Эпоха 2: средний loss=0.8769, PR-AUC валид=0.8255\n"
     ]
    },
    {
     "data": {
      "application/vnd.jupyter.widget-view+json": {
       "model_id": "",
       "version_major": 2,
       "version_minor": 0
      },
      "text/plain": [
       "Эпоха 3/4 — обучение:   0%|          | 0/23 [00:00<?, ?it/s]"
      ]
     },
     "metadata": {},
     "output_type": "display_data"
    },
    {
     "data": {
      "application/vnd.jupyter.widget-view+json": {
       "model_id": "",
       "version_major": 2,
       "version_minor": 0
      },
      "text/plain": [
       "Оценка на валидации:   0%|          | 0/6 [00:00<?, ?it/s]"
      ]
     },
     "metadata": {},
     "output_type": "display_data"
    },
    {
     "name": "stdout",
     "output_type": "stream",
     "text": [
      "Эпоха 3: средний loss=0.8749, PR-AUC валид=0.8487\n"
     ]
    },
    {
     "data": {
      "application/vnd.jupyter.widget-view+json": {
       "model_id": "",
       "version_major": 2,
       "version_minor": 0
      },
      "text/plain": [
       "Эпоха 4/4 — обучение:   0%|          | 0/23 [00:00<?, ?it/s]"
      ]
     },
     "metadata": {},
     "output_type": "display_data"
    },
    {
     "data": {
      "application/vnd.jupyter.widget-view+json": {
       "model_id": "",
       "version_major": 2,
       "version_minor": 0
      },
      "text/plain": [
       "Оценка на валидации:   0%|          | 0/6 [00:00<?, ?it/s]"
      ]
     },
     "metadata": {},
     "output_type": "display_data"
    },
    {
     "name": "stdout",
     "output_type": "stream",
     "text": [
      "Эпоха 4: средний loss=0.8784, PR-AUC валид=0.8518\n",
      "Фолд 3: лучший PR-AUC валид = 0.8518\n",
      "Фолд 4: обучение на 368, валидация на 92\n"
     ]
    },
    {
     "name": "stderr",
     "output_type": "stream",
     "text": [
      "Some weights of BertForSequenceClassification were not initialized from the model checkpoint at DeepPavlov/rubert-base-cased-conversational and are newly initialized: ['classifier.bias', 'classifier.weight']\n",
      "You should probably TRAIN this model on a down-stream task to be able to use it for predictions and inference.\n"
     ]
    },
    {
     "name": "stdout",
     "output_type": "stream",
     "text": [
      "Используется LoRA (SEQ_CLS)\n",
      "Используется BCEWithLogitsLoss с pos_weight=1.809\n"
     ]
    },
    {
     "data": {
      "application/vnd.jupyter.widget-view+json": {
       "model_id": "",
       "version_major": 2,
       "version_minor": 0
      },
      "text/plain": [
       "Эпоха 1/4 — обучение:   0%|          | 0/23 [00:00<?, ?it/s]"
      ]
     },
     "metadata": {},
     "output_type": "display_data"
    },
    {
     "data": {
      "application/vnd.jupyter.widget-view+json": {
       "model_id": "",
       "version_major": 2,
       "version_minor": 0
      },
      "text/plain": [
       "Оценка на валидации:   0%|          | 0/6 [00:00<?, ?it/s]"
      ]
     },
     "metadata": {},
     "output_type": "display_data"
    },
    {
     "name": "stdout",
     "output_type": "stream",
     "text": [
      "Эпоха 1: средний loss=0.8774, PR-AUC валид=0.8279\n"
     ]
    },
    {
     "data": {
      "application/vnd.jupyter.widget-view+json": {
       "model_id": "",
       "version_major": 2,
       "version_minor": 0
      },
      "text/plain": [
       "Эпоха 2/4 — обучение:   0%|          | 0/23 [00:00<?, ?it/s]"
      ]
     },
     "metadata": {},
     "output_type": "display_data"
    },
    {
     "data": {
      "application/vnd.jupyter.widget-view+json": {
       "model_id": "",
       "version_major": 2,
       "version_minor": 0
      },
      "text/plain": [
       "Оценка на валидации:   0%|          | 0/6 [00:00<?, ?it/s]"
      ]
     },
     "metadata": {},
     "output_type": "display_data"
    },
    {
     "name": "stdout",
     "output_type": "stream",
     "text": [
      "Эпоха 2: средний loss=0.8790, PR-AUC валид=0.8476\n"
     ]
    },
    {
     "data": {
      "application/vnd.jupyter.widget-view+json": {
       "model_id": "",
       "version_major": 2,
       "version_minor": 0
      },
      "text/plain": [
       "Эпоха 3/4 — обучение:   0%|          | 0/23 [00:00<?, ?it/s]"
      ]
     },
     "metadata": {},
     "output_type": "display_data"
    },
    {
     "data": {
      "application/vnd.jupyter.widget-view+json": {
       "model_id": "",
       "version_major": 2,
       "version_minor": 0
      },
      "text/plain": [
       "Оценка на валидации:   0%|          | 0/6 [00:00<?, ?it/s]"
      ]
     },
     "metadata": {},
     "output_type": "display_data"
    },
    {
     "name": "stdout",
     "output_type": "stream",
     "text": [
      "Эпоха 3: средний loss=0.8725, PR-AUC валид=0.8560\n"
     ]
    },
    {
     "data": {
      "application/vnd.jupyter.widget-view+json": {
       "model_id": "",
       "version_major": 2,
       "version_minor": 0
      },
      "text/plain": [
       "Эпоха 4/4 — обучение:   0%|          | 0/23 [00:00<?, ?it/s]"
      ]
     },
     "metadata": {},
     "output_type": "display_data"
    },
    {
     "data": {
      "application/vnd.jupyter.widget-view+json": {
       "model_id": "",
       "version_major": 2,
       "version_minor": 0
      },
      "text/plain": [
       "Оценка на валидации:   0%|          | 0/6 [00:00<?, ?it/s]"
      ]
     },
     "metadata": {},
     "output_type": "display_data"
    },
    {
     "name": "stdout",
     "output_type": "stream",
     "text": [
      "Эпоха 4: средний loss=0.8746, PR-AUC валид=0.8630\n",
      "Фолд 4: лучший PR-AUC валид = 0.8630\n",
      "Фолд 5: обучение на 368, валидация на 92\n"
     ]
    },
    {
     "name": "stderr",
     "output_type": "stream",
     "text": [
      "Some weights of BertForSequenceClassification were not initialized from the model checkpoint at DeepPavlov/rubert-base-cased-conversational and are newly initialized: ['classifier.bias', 'classifier.weight']\n",
      "You should probably TRAIN this model on a down-stream task to be able to use it for predictions and inference.\n"
     ]
    },
    {
     "name": "stdout",
     "output_type": "stream",
     "text": [
      "Используется LoRA (SEQ_CLS)\n",
      "Используется BCEWithLogitsLoss с pos_weight=1.809\n"
     ]
    },
    {
     "data": {
      "application/vnd.jupyter.widget-view+json": {
       "model_id": "",
       "version_major": 2,
       "version_minor": 0
      },
      "text/plain": [
       "Эпоха 1/4 — обучение:   0%|          | 0/23 [00:00<?, ?it/s]"
      ]
     },
     "metadata": {},
     "output_type": "display_data"
    },
    {
     "data": {
      "application/vnd.jupyter.widget-view+json": {
       "model_id": "",
       "version_major": 2,
       "version_minor": 0
      },
      "text/plain": [
       "Оценка на валидации:   0%|          | 0/6 [00:00<?, ?it/s]"
      ]
     },
     "metadata": {},
     "output_type": "display_data"
    },
    {
     "name": "stdout",
     "output_type": "stream",
     "text": [
      "Эпоха 1: средний loss=0.8831, PR-AUC валид=0.8844\n"
     ]
    },
    {
     "data": {
      "application/vnd.jupyter.widget-view+json": {
       "model_id": "",
       "version_major": 2,
       "version_minor": 0
      },
      "text/plain": [
       "Эпоха 2/4 — обучение:   0%|          | 0/23 [00:00<?, ?it/s]"
      ]
     },
     "metadata": {},
     "output_type": "display_data"
    },
    {
     "data": {
      "application/vnd.jupyter.widget-view+json": {
       "model_id": "",
       "version_major": 2,
       "version_minor": 0
      },
      "text/plain": [
       "Оценка на валидации:   0%|          | 0/6 [00:00<?, ?it/s]"
      ]
     },
     "metadata": {},
     "output_type": "display_data"
    },
    {
     "name": "stdout",
     "output_type": "stream",
     "text": [
      "Эпоха 2: средний loss=0.8749, PR-AUC валид=0.8864\n"
     ]
    },
    {
     "data": {
      "application/vnd.jupyter.widget-view+json": {
       "model_id": "",
       "version_major": 2,
       "version_minor": 0
      },
      "text/plain": [
       "Эпоха 3/4 — обучение:   0%|          | 0/23 [00:00<?, ?it/s]"
      ]
     },
     "metadata": {},
     "output_type": "display_data"
    },
    {
     "data": {
      "application/vnd.jupyter.widget-view+json": {
       "model_id": "",
       "version_major": 2,
       "version_minor": 0
      },
      "text/plain": [
       "Оценка на валидации:   0%|          | 0/6 [00:00<?, ?it/s]"
      ]
     },
     "metadata": {},
     "output_type": "display_data"
    },
    {
     "name": "stdout",
     "output_type": "stream",
     "text": [
      "Эпоха 3: средний loss=0.8745, PR-AUC валид=0.8930\n"
     ]
    },
    {
     "data": {
      "application/vnd.jupyter.widget-view+json": {
       "model_id": "",
       "version_major": 2,
       "version_minor": 0
      },
      "text/plain": [
       "Эпоха 4/4 — обучение:   0%|          | 0/23 [00:00<?, ?it/s]"
      ]
     },
     "metadata": {},
     "output_type": "display_data"
    },
    {
     "data": {
      "application/vnd.jupyter.widget-view+json": {
       "model_id": "",
       "version_major": 2,
       "version_minor": 0
      },
      "text/plain": [
       "Оценка на валидации:   0%|          | 0/6 [00:00<?, ?it/s]"
      ]
     },
     "metadata": {},
     "output_type": "display_data"
    },
    {
     "name": "stdout",
     "output_type": "stream",
     "text": [
      "Эпоха 4: средний loss=0.8761, PR-AUC валид=0.8927\n",
      "Фолд 5: лучший PR-AUC валид = 0.8930\n",
      "Сводка по фолдам:\n"
     ]
    },
    {
     "data": {
      "text/html": [
       "<div>\n",
       "<style scoped>\n",
       "    .dataframe tbody tr th:only-of-type {\n",
       "        vertical-align: middle;\n",
       "    }\n",
       "\n",
       "    .dataframe tbody tr th {\n",
       "        vertical-align: top;\n",
       "    }\n",
       "\n",
       "    .dataframe thead th {\n",
       "        text-align: right;\n",
       "    }\n",
       "</style>\n",
       "<table border=\"1\" class=\"dataframe\">\n",
       "  <thead>\n",
       "    <tr style=\"text-align: right;\">\n",
       "      <th></th>\n",
       "      <th>fold</th>\n",
       "      <th>valid_size</th>\n",
       "      <th>pr_auc</th>\n",
       "      <th>precision@0.5</th>\n",
       "      <th>recall@0.5</th>\n",
       "      <th>f1@0.5</th>\n",
       "    </tr>\n",
       "  </thead>\n",
       "  <tbody>\n",
       "    <tr>\n",
       "      <th>0</th>\n",
       "      <td>1</td>\n",
       "      <td>92</td>\n",
       "      <td>0.787160</td>\n",
       "      <td>1.000000</td>\n",
       "      <td>0.437500</td>\n",
       "      <td>0.608696</td>\n",
       "    </tr>\n",
       "    <tr>\n",
       "      <th>1</th>\n",
       "      <td>2</td>\n",
       "      <td>92</td>\n",
       "      <td>0.879584</td>\n",
       "      <td>1.000000</td>\n",
       "      <td>0.484848</td>\n",
       "      <td>0.653061</td>\n",
       "    </tr>\n",
       "    <tr>\n",
       "      <th>2</th>\n",
       "      <td>3</td>\n",
       "      <td>92</td>\n",
       "      <td>0.851819</td>\n",
       "      <td>1.000000</td>\n",
       "      <td>0.272727</td>\n",
       "      <td>0.428571</td>\n",
       "    </tr>\n",
       "    <tr>\n",
       "      <th>3</th>\n",
       "      <td>4</td>\n",
       "      <td>92</td>\n",
       "      <td>0.863046</td>\n",
       "      <td>1.000000</td>\n",
       "      <td>0.393939</td>\n",
       "      <td>0.565217</td>\n",
       "    </tr>\n",
       "    <tr>\n",
       "      <th>4</th>\n",
       "      <td>5</td>\n",
       "      <td>92</td>\n",
       "      <td>0.892725</td>\n",
       "      <td>0.894737</td>\n",
       "      <td>0.515152</td>\n",
       "      <td>0.653846</td>\n",
       "    </tr>\n",
       "  </tbody>\n",
       "</table>\n",
       "</div>"
      ],
      "text/plain": [
       "   fold  valid_size    pr_auc  precision@0.5  recall@0.5    f1@0.5\n",
       "0     1          92  0.787160       1.000000    0.437500  0.608696\n",
       "1     2          92  0.879584       1.000000    0.484848  0.653061\n",
       "2     3          92  0.851819       1.000000    0.272727  0.428571\n",
       "3     4          92  0.863046       1.000000    0.393939  0.565217\n",
       "4     5          92  0.892725       0.894737    0.515152  0.653846"
      ]
     },
     "metadata": {},
     "output_type": "display_data"
    },
    {
     "name": "stdout",
     "output_type": "stream",
     "text": [
      "OOF PR-AUC по всем фолдам: 0.8424\n",
      "Порог по максимуму F1:\n",
      "{'threshold': 0.49174743125194204, 'precision': 0.7662337662337663, 'recall': 0.7195121951219512, 'f1': 0.7421383647798743, 'pr_auc': 0.8424116334679523, 'brier': 0.2397358089025973, 'confusion_matrix': [[260, 36], [46, 118]]}\n",
      "Порог по требуемой точности:\n",
      "{'threshold': 0.49607084770341703, 'precision': 0.9042553191489362, 'recall': 0.5182926829268293, 'f1': 0.6589147286821705, 'pr_auc': 0.8424116334679523, 'brier': 0.2397358089025973, 'confusion_matrix': [[287, 9], [79, 85]]}\n",
      "Выбран порог по требуемой точности: 0.4961\n"
     ]
    }
   ],
   "source": [
    "print(\"Старт кросс-валидации базовой конфигурации\")\n",
    "cv_res = mt.train_cv(df_clean, FOLDS_IDX, base_cfg)\n",
    "\n",
    "thr_res = mt.choose_thresholds_and_report(\n",
    "    cv_res['oof_logits'], cv_res['of_mask'], df_clean[base_cfg.label_col].to_numpy(), base_cfg\n",
    ")\n",
    "chosen_thr = thr_res['thr_precision']\n",
    "print(f\"Выбран порог по требуемой точности: {chosen_thr:.4f}\")"
   ]
  },
  {
   "cell_type": "code",
   "execution_count": 105,
   "id": "8a1085c5-b844-4826-84a3-3bee2cd820ed",
   "metadata": {
    "execution": {
     "iopub.execute_input": "2025-08-24T18:36:58.192208Z",
     "iopub.status.busy": "2025-08-24T18:36:58.191925Z",
     "iopub.status.idle": "2025-08-24T18:49:10.243788Z",
     "shell.execute_reply": "2025-08-24T18:49:10.243102Z",
     "shell.execute_reply.started": "2025-08-24T18:36:58.192183Z"
    }
   },
   "outputs": [
    {
     "name": "stdout",
     "output_type": "stream",
     "text": [
      "Запуск оптимизации гиперпараметров\n",
      "Запуск подбора №1/3\n",
      "Старт кросс-валидации базовой конфигурации\n",
      "Фолд 1: обучение на 368, валидация на 92\n"
     ]
    },
    {
     "name": "stderr",
     "output_type": "stream",
     "text": [
      "Some weights of BertForSequenceClassification were not initialized from the model checkpoint at DeepPavlov/rubert-base-cased-conversational and are newly initialized: ['classifier.bias', 'classifier.weight']\n",
      "You should probably TRAIN this model on a down-stream task to be able to use it for predictions and inference.\n"
     ]
    },
    {
     "name": "stdout",
     "output_type": "stream",
     "text": [
      "Используется LoRA (SEQ_CLS)\n",
      "Используется BCEWithLogitsLoss с pos_weight=1.788\n"
     ]
    },
    {
     "data": {
      "application/vnd.jupyter.widget-view+json": {
       "model_id": "",
       "version_major": 2,
       "version_minor": 0
      },
      "text/plain": [
       "Эпоха 1/3 — обучение:   0%|          | 0/23 [00:00<?, ?it/s]"
      ]
     },
     "metadata": {},
     "output_type": "display_data"
    },
    {
     "data": {
      "application/vnd.jupyter.widget-view+json": {
       "model_id": "",
       "version_major": 2,
       "version_minor": 0
      },
      "text/plain": [
       "Оценка на валидации:   0%|          | 0/6 [00:00<?, ?it/s]"
      ]
     },
     "metadata": {},
     "output_type": "display_data"
    },
    {
     "name": "stdout",
     "output_type": "stream",
     "text": [
      "Эпоха 1: средний loss=0.8700, PR-AUC валид=0.7748\n"
     ]
    },
    {
     "data": {
      "application/vnd.jupyter.widget-view+json": {
       "model_id": "",
       "version_major": 2,
       "version_minor": 0
      },
      "text/plain": [
       "Эпоха 2/3 — обучение:   0%|          | 0/23 [00:00<?, ?it/s]"
      ]
     },
     "metadata": {},
     "output_type": "display_data"
    },
    {
     "data": {
      "application/vnd.jupyter.widget-view+json": {
       "model_id": "",
       "version_major": 2,
       "version_minor": 0
      },
      "text/plain": [
       "Оценка на валидации:   0%|          | 0/6 [00:00<?, ?it/s]"
      ]
     },
     "metadata": {},
     "output_type": "display_data"
    },
    {
     "name": "stdout",
     "output_type": "stream",
     "text": [
      "Эпоха 2: средний loss=0.8667, PR-AUC валид=0.7428\n"
     ]
    },
    {
     "data": {
      "application/vnd.jupyter.widget-view+json": {
       "model_id": "",
       "version_major": 2,
       "version_minor": 0
      },
      "text/plain": [
       "Эпоха 3/3 — обучение:   0%|          | 0/23 [00:00<?, ?it/s]"
      ]
     },
     "metadata": {},
     "output_type": "display_data"
    },
    {
     "data": {
      "application/vnd.jupyter.widget-view+json": {
       "model_id": "",
       "version_major": 2,
       "version_minor": 0
      },
      "text/plain": [
       "Оценка на валидации:   0%|          | 0/6 [00:00<?, ?it/s]"
      ]
     },
     "metadata": {},
     "output_type": "display_data"
    },
    {
     "name": "stdout",
     "output_type": "stream",
     "text": [
      "Эпоха 3: средний loss=0.8603, PR-AUC валид=0.7508\n",
      "Фолд 1: лучший PR-AUC валид = 0.7748\n",
      "Фолд 2: обучение на 368, валидация на 92\n"
     ]
    },
    {
     "name": "stderr",
     "output_type": "stream",
     "text": [
      "Some weights of BertForSequenceClassification were not initialized from the model checkpoint at DeepPavlov/rubert-base-cased-conversational and are newly initialized: ['classifier.bias', 'classifier.weight']\n",
      "You should probably TRAIN this model on a down-stream task to be able to use it for predictions and inference.\n"
     ]
    },
    {
     "name": "stdout",
     "output_type": "stream",
     "text": [
      "Используется LoRA (SEQ_CLS)\n",
      "Используется BCEWithLogitsLoss с pos_weight=1.809\n"
     ]
    },
    {
     "data": {
      "application/vnd.jupyter.widget-view+json": {
       "model_id": "",
       "version_major": 2,
       "version_minor": 0
      },
      "text/plain": [
       "Эпоха 1/3 — обучение:   0%|          | 0/23 [00:00<?, ?it/s]"
      ]
     },
     "metadata": {},
     "output_type": "display_data"
    },
    {
     "data": {
      "application/vnd.jupyter.widget-view+json": {
       "model_id": "",
       "version_major": 2,
       "version_minor": 0
      },
      "text/plain": [
       "Оценка на валидации:   0%|          | 0/6 [00:00<?, ?it/s]"
      ]
     },
     "metadata": {},
     "output_type": "display_data"
    },
    {
     "name": "stdout",
     "output_type": "stream",
     "text": [
      "Эпоха 1: средний loss=0.8721, PR-AUC валид=0.8769\n"
     ]
    },
    {
     "data": {
      "application/vnd.jupyter.widget-view+json": {
       "model_id": "",
       "version_major": 2,
       "version_minor": 0
      },
      "text/plain": [
       "Эпоха 2/3 — обучение:   0%|          | 0/23 [00:00<?, ?it/s]"
      ]
     },
     "metadata": {},
     "output_type": "display_data"
    },
    {
     "data": {
      "application/vnd.jupyter.widget-view+json": {
       "model_id": "",
       "version_major": 2,
       "version_minor": 0
      },
      "text/plain": [
       "Оценка на валидации:   0%|          | 0/6 [00:00<?, ?it/s]"
      ]
     },
     "metadata": {},
     "output_type": "display_data"
    },
    {
     "name": "stdout",
     "output_type": "stream",
     "text": [
      "Эпоха 2: средний loss=0.8757, PR-AUC валид=0.8859\n"
     ]
    },
    {
     "data": {
      "application/vnd.jupyter.widget-view+json": {
       "model_id": "",
       "version_major": 2,
       "version_minor": 0
      },
      "text/plain": [
       "Эпоха 3/3 — обучение:   0%|          | 0/23 [00:00<?, ?it/s]"
      ]
     },
     "metadata": {},
     "output_type": "display_data"
    },
    {
     "data": {
      "application/vnd.jupyter.widget-view+json": {
       "model_id": "",
       "version_major": 2,
       "version_minor": 0
      },
      "text/plain": [
       "Оценка на валидации:   0%|          | 0/6 [00:00<?, ?it/s]"
      ]
     },
     "metadata": {},
     "output_type": "display_data"
    },
    {
     "name": "stdout",
     "output_type": "stream",
     "text": [
      "Эпоха 3: средний loss=0.8695, PR-AUC валид=0.8864\n",
      "Фолд 2: лучший PR-AUC валид = 0.8864\n",
      "Фолд 3: обучение на 368, валидация на 92\n"
     ]
    },
    {
     "name": "stderr",
     "output_type": "stream",
     "text": [
      "Some weights of BertForSequenceClassification were not initialized from the model checkpoint at DeepPavlov/rubert-base-cased-conversational and are newly initialized: ['classifier.bias', 'classifier.weight']\n",
      "You should probably TRAIN this model on a down-stream task to be able to use it for predictions and inference.\n"
     ]
    },
    {
     "name": "stdout",
     "output_type": "stream",
     "text": [
      "Используется LoRA (SEQ_CLS)\n",
      "Используется BCEWithLogitsLoss с pos_weight=1.809\n"
     ]
    },
    {
     "data": {
      "application/vnd.jupyter.widget-view+json": {
       "model_id": "",
       "version_major": 2,
       "version_minor": 0
      },
      "text/plain": [
       "Эпоха 1/3 — обучение:   0%|          | 0/23 [00:00<?, ?it/s]"
      ]
     },
     "metadata": {},
     "output_type": "display_data"
    },
    {
     "data": {
      "application/vnd.jupyter.widget-view+json": {
       "model_id": "",
       "version_major": 2,
       "version_minor": 0
      },
      "text/plain": [
       "Оценка на валидации:   0%|          | 0/6 [00:00<?, ?it/s]"
      ]
     },
     "metadata": {},
     "output_type": "display_data"
    },
    {
     "name": "stdout",
     "output_type": "stream",
     "text": [
      "Эпоха 1: средний loss=0.8823, PR-AUC валид=0.8406\n"
     ]
    },
    {
     "data": {
      "application/vnd.jupyter.widget-view+json": {
       "model_id": "",
       "version_major": 2,
       "version_minor": 0
      },
      "text/plain": [
       "Эпоха 2/3 — обучение:   0%|          | 0/23 [00:00<?, ?it/s]"
      ]
     },
     "metadata": {},
     "output_type": "display_data"
    },
    {
     "data": {
      "application/vnd.jupyter.widget-view+json": {
       "model_id": "",
       "version_major": 2,
       "version_minor": 0
      },
      "text/plain": [
       "Оценка на валидации:   0%|          | 0/6 [00:00<?, ?it/s]"
      ]
     },
     "metadata": {},
     "output_type": "display_data"
    },
    {
     "name": "stdout",
     "output_type": "stream",
     "text": [
      "Эпоха 2: средний loss=0.8716, PR-AUC валид=0.8729\n"
     ]
    },
    {
     "data": {
      "application/vnd.jupyter.widget-view+json": {
       "model_id": "",
       "version_major": 2,
       "version_minor": 0
      },
      "text/plain": [
       "Эпоха 3/3 — обучение:   0%|          | 0/23 [00:00<?, ?it/s]"
      ]
     },
     "metadata": {},
     "output_type": "display_data"
    },
    {
     "data": {
      "application/vnd.jupyter.widget-view+json": {
       "model_id": "",
       "version_major": 2,
       "version_minor": 0
      },
      "text/plain": [
       "Оценка на валидации:   0%|          | 0/6 [00:00<?, ?it/s]"
      ]
     },
     "metadata": {},
     "output_type": "display_data"
    },
    {
     "name": "stdout",
     "output_type": "stream",
     "text": [
      "Эпоха 3: средний loss=0.8696, PR-AUC валид=0.8782\n",
      "Фолд 3: лучший PR-AUC валид = 0.8782\n",
      "Фолд 4: обучение на 368, валидация на 92\n"
     ]
    },
    {
     "name": "stderr",
     "output_type": "stream",
     "text": [
      "Some weights of BertForSequenceClassification were not initialized from the model checkpoint at DeepPavlov/rubert-base-cased-conversational and are newly initialized: ['classifier.bias', 'classifier.weight']\n",
      "You should probably TRAIN this model on a down-stream task to be able to use it for predictions and inference.\n"
     ]
    },
    {
     "name": "stdout",
     "output_type": "stream",
     "text": [
      "Используется LoRA (SEQ_CLS)\n",
      "Используется BCEWithLogitsLoss с pos_weight=1.809\n"
     ]
    },
    {
     "data": {
      "application/vnd.jupyter.widget-view+json": {
       "model_id": "",
       "version_major": 2,
       "version_minor": 0
      },
      "text/plain": [
       "Эпоха 1/3 — обучение:   0%|          | 0/23 [00:00<?, ?it/s]"
      ]
     },
     "metadata": {},
     "output_type": "display_data"
    },
    {
     "data": {
      "application/vnd.jupyter.widget-view+json": {
       "model_id": "",
       "version_major": 2,
       "version_minor": 0
      },
      "text/plain": [
       "Оценка на валидации:   0%|          | 0/6 [00:00<?, ?it/s]"
      ]
     },
     "metadata": {},
     "output_type": "display_data"
    },
    {
     "name": "stdout",
     "output_type": "stream",
     "text": [
      "Эпоха 1: средний loss=0.8774, PR-AUC валид=0.8664\n"
     ]
    },
    {
     "data": {
      "application/vnd.jupyter.widget-view+json": {
       "model_id": "",
       "version_major": 2,
       "version_minor": 0
      },
      "text/plain": [
       "Эпоха 2/3 — обучение:   0%|          | 0/23 [00:00<?, ?it/s]"
      ]
     },
     "metadata": {},
     "output_type": "display_data"
    },
    {
     "data": {
      "application/vnd.jupyter.widget-view+json": {
       "model_id": "",
       "version_major": 2,
       "version_minor": 0
      },
      "text/plain": [
       "Оценка на валидации:   0%|          | 0/6 [00:00<?, ?it/s]"
      ]
     },
     "metadata": {},
     "output_type": "display_data"
    },
    {
     "name": "stdout",
     "output_type": "stream",
     "text": [
      "Эпоха 2: средний loss=0.8779, PR-AUC валид=0.8995\n"
     ]
    },
    {
     "data": {
      "application/vnd.jupyter.widget-view+json": {
       "model_id": "",
       "version_major": 2,
       "version_minor": 0
      },
      "text/plain": [
       "Эпоха 3/3 — обучение:   0%|          | 0/23 [00:00<?, ?it/s]"
      ]
     },
     "metadata": {},
     "output_type": "display_data"
    },
    {
     "data": {
      "application/vnd.jupyter.widget-view+json": {
       "model_id": "",
       "version_major": 2,
       "version_minor": 0
      },
      "text/plain": [
       "Оценка на валидации:   0%|          | 0/6 [00:00<?, ?it/s]"
      ]
     },
     "metadata": {},
     "output_type": "display_data"
    },
    {
     "name": "stdout",
     "output_type": "stream",
     "text": [
      "Эпоха 3: средний loss=0.8739, PR-AUC валид=0.8879\n",
      "Фолд 4: лучший PR-AUC валид = 0.8995\n",
      "Фолд 5: обучение на 368, валидация на 92\n"
     ]
    },
    {
     "name": "stderr",
     "output_type": "stream",
     "text": [
      "Some weights of BertForSequenceClassification were not initialized from the model checkpoint at DeepPavlov/rubert-base-cased-conversational and are newly initialized: ['classifier.bias', 'classifier.weight']\n",
      "You should probably TRAIN this model on a down-stream task to be able to use it for predictions and inference.\n"
     ]
    },
    {
     "name": "stdout",
     "output_type": "stream",
     "text": [
      "Используется LoRA (SEQ_CLS)\n",
      "Используется BCEWithLogitsLoss с pos_weight=1.809\n"
     ]
    },
    {
     "data": {
      "application/vnd.jupyter.widget-view+json": {
       "model_id": "",
       "version_major": 2,
       "version_minor": 0
      },
      "text/plain": [
       "Эпоха 1/3 — обучение:   0%|          | 0/23 [00:00<?, ?it/s]"
      ]
     },
     "metadata": {},
     "output_type": "display_data"
    },
    {
     "data": {
      "application/vnd.jupyter.widget-view+json": {
       "model_id": "",
       "version_major": 2,
       "version_minor": 0
      },
      "text/plain": [
       "Оценка на валидации:   0%|          | 0/6 [00:00<?, ?it/s]"
      ]
     },
     "metadata": {},
     "output_type": "display_data"
    },
    {
     "name": "stdout",
     "output_type": "stream",
     "text": [
      "Эпоха 1: средний loss=0.8792, PR-AUC валид=0.8624\n"
     ]
    },
    {
     "data": {
      "application/vnd.jupyter.widget-view+json": {
       "model_id": "",
       "version_major": 2,
       "version_minor": 0
      },
      "text/plain": [
       "Эпоха 2/3 — обучение:   0%|          | 0/23 [00:00<?, ?it/s]"
      ]
     },
     "metadata": {},
     "output_type": "display_data"
    },
    {
     "data": {
      "application/vnd.jupyter.widget-view+json": {
       "model_id": "",
       "version_major": 2,
       "version_minor": 0
      },
      "text/plain": [
       "Оценка на валидации:   0%|          | 0/6 [00:00<?, ?it/s]"
      ]
     },
     "metadata": {},
     "output_type": "display_data"
    },
    {
     "name": "stdout",
     "output_type": "stream",
     "text": [
      "Эпоха 2: средний loss=0.8718, PR-AUC валид=0.8637\n"
     ]
    },
    {
     "data": {
      "application/vnd.jupyter.widget-view+json": {
       "model_id": "",
       "version_major": 2,
       "version_minor": 0
      },
      "text/plain": [
       "Эпоха 3/3 — обучение:   0%|          | 0/23 [00:00<?, ?it/s]"
      ]
     },
     "metadata": {},
     "output_type": "display_data"
    },
    {
     "data": {
      "application/vnd.jupyter.widget-view+json": {
       "model_id": "",
       "version_major": 2,
       "version_minor": 0
      },
      "text/plain": [
       "Оценка на валидации:   0%|          | 0/6 [00:00<?, ?it/s]"
      ]
     },
     "metadata": {},
     "output_type": "display_data"
    },
    {
     "name": "stdout",
     "output_type": "stream",
     "text": [
      "Эпоха 3: средний loss=0.8712, PR-AUC валид=0.8591\n",
      "Фолд 5: лучший PR-AUC валид = 0.8637\n",
      "Сводка по фолдам:\n"
     ]
    },
    {
     "data": {
      "text/html": [
       "<div>\n",
       "<style scoped>\n",
       "    .dataframe tbody tr th:only-of-type {\n",
       "        vertical-align: middle;\n",
       "    }\n",
       "\n",
       "    .dataframe tbody tr th {\n",
       "        vertical-align: top;\n",
       "    }\n",
       "\n",
       "    .dataframe thead th {\n",
       "        text-align: right;\n",
       "    }\n",
       "</style>\n",
       "<table border=\"1\" class=\"dataframe\">\n",
       "  <thead>\n",
       "    <tr style=\"text-align: right;\">\n",
       "      <th></th>\n",
       "      <th>fold</th>\n",
       "      <th>valid_size</th>\n",
       "      <th>pr_auc</th>\n",
       "      <th>precision@0.5</th>\n",
       "      <th>recall@0.5</th>\n",
       "      <th>f1@0.5</th>\n",
       "    </tr>\n",
       "  </thead>\n",
       "  <tbody>\n",
       "    <tr>\n",
       "      <th>0</th>\n",
       "      <td>1</td>\n",
       "      <td>92</td>\n",
       "      <td>0.750836</td>\n",
       "      <td>0.933333</td>\n",
       "      <td>0.437500</td>\n",
       "      <td>0.595745</td>\n",
       "    </tr>\n",
       "    <tr>\n",
       "      <th>1</th>\n",
       "      <td>2</td>\n",
       "      <td>92</td>\n",
       "      <td>0.886413</td>\n",
       "      <td>1.000000</td>\n",
       "      <td>0.454545</td>\n",
       "      <td>0.625000</td>\n",
       "    </tr>\n",
       "    <tr>\n",
       "      <th>2</th>\n",
       "      <td>3</td>\n",
       "      <td>92</td>\n",
       "      <td>0.878245</td>\n",
       "      <td>1.000000</td>\n",
       "      <td>0.424242</td>\n",
       "      <td>0.595745</td>\n",
       "    </tr>\n",
       "    <tr>\n",
       "      <th>3</th>\n",
       "      <td>4</td>\n",
       "      <td>92</td>\n",
       "      <td>0.887851</td>\n",
       "      <td>1.000000</td>\n",
       "      <td>0.393939</td>\n",
       "      <td>0.565217</td>\n",
       "    </tr>\n",
       "    <tr>\n",
       "      <th>4</th>\n",
       "      <td>5</td>\n",
       "      <td>92</td>\n",
       "      <td>0.859117</td>\n",
       "      <td>0.814815</td>\n",
       "      <td>0.666667</td>\n",
       "      <td>0.733333</td>\n",
       "    </tr>\n",
       "  </tbody>\n",
       "</table>\n",
       "</div>"
      ],
      "text/plain": [
       "   fold  valid_size    pr_auc  precision@0.5  recall@0.5    f1@0.5\n",
       "0     1          92  0.750836       0.933333    0.437500  0.595745\n",
       "1     2          92  0.886413       1.000000    0.454545  0.625000\n",
       "2     3          92  0.878245       1.000000    0.424242  0.595745\n",
       "3     4          92  0.887851       1.000000    0.393939  0.565217\n",
       "4     5          92  0.859117       0.814815    0.666667  0.733333"
      ]
     },
     "metadata": {},
     "output_type": "display_data"
    },
    {
     "name": "stdout",
     "output_type": "stream",
     "text": [
      "OOF PR-AUC по всем фолдам: 0.8185\n",
      "Оценка OOF PR-AUC: 0.8185\n",
      "Запуск подбора №2/3\n",
      "Старт кросс-валидации базовой конфигурации\n",
      "Фолд 1: обучение на 368, валидация на 92\n"
     ]
    },
    {
     "name": "stderr",
     "output_type": "stream",
     "text": [
      "Some weights of BertForSequenceClassification were not initialized from the model checkpoint at DeepPavlov/rubert-base-cased-conversational and are newly initialized: ['classifier.bias', 'classifier.weight']\n",
      "You should probably TRAIN this model on a down-stream task to be able to use it for predictions and inference.\n"
     ]
    },
    {
     "name": "stdout",
     "output_type": "stream",
     "text": [
      "Используется LoRA (SEQ_CLS)\n",
      "Используется BCEWithLogitsLoss с pos_weight=1.788\n"
     ]
    },
    {
     "data": {
      "application/vnd.jupyter.widget-view+json": {
       "model_id": "",
       "version_major": 2,
       "version_minor": 0
      },
      "text/plain": [
       "Эпоха 1/3 — обучение:   0%|          | 0/23 [00:00<?, ?it/s]"
      ]
     },
     "metadata": {},
     "output_type": "display_data"
    },
    {
     "data": {
      "application/vnd.jupyter.widget-view+json": {
       "model_id": "",
       "version_major": 2,
       "version_minor": 0
      },
      "text/plain": [
       "Оценка на валидации:   0%|          | 0/6 [00:00<?, ?it/s]"
      ]
     },
     "metadata": {},
     "output_type": "display_data"
    },
    {
     "name": "stdout",
     "output_type": "stream",
     "text": [
      "Эпоха 1: средний loss=0.8700, PR-AUC валид=0.7748\n"
     ]
    },
    {
     "data": {
      "application/vnd.jupyter.widget-view+json": {
       "model_id": "",
       "version_major": 2,
       "version_minor": 0
      },
      "text/plain": [
       "Эпоха 2/3 — обучение:   0%|          | 0/23 [00:00<?, ?it/s]"
      ]
     },
     "metadata": {},
     "output_type": "display_data"
    },
    {
     "data": {
      "application/vnd.jupyter.widget-view+json": {
       "model_id": "",
       "version_major": 2,
       "version_minor": 0
      },
      "text/plain": [
       "Оценка на валидации:   0%|          | 0/6 [00:00<?, ?it/s]"
      ]
     },
     "metadata": {},
     "output_type": "display_data"
    },
    {
     "name": "stdout",
     "output_type": "stream",
     "text": [
      "Эпоха 2: средний loss=0.8667, PR-AUC валид=0.7428\n"
     ]
    },
    {
     "data": {
      "application/vnd.jupyter.widget-view+json": {
       "model_id": "",
       "version_major": 2,
       "version_minor": 0
      },
      "text/plain": [
       "Эпоха 3/3 — обучение:   0%|          | 0/23 [00:00<?, ?it/s]"
      ]
     },
     "metadata": {},
     "output_type": "display_data"
    },
    {
     "data": {
      "application/vnd.jupyter.widget-view+json": {
       "model_id": "",
       "version_major": 2,
       "version_minor": 0
      },
      "text/plain": [
       "Оценка на валидации:   0%|          | 0/6 [00:00<?, ?it/s]"
      ]
     },
     "metadata": {},
     "output_type": "display_data"
    },
    {
     "name": "stdout",
     "output_type": "stream",
     "text": [
      "Эпоха 3: средний loss=0.8603, PR-AUC валид=0.7508\n",
      "Фолд 1: лучший PR-AUC валид = 0.7748\n",
      "Фолд 2: обучение на 368, валидация на 92\n"
     ]
    },
    {
     "name": "stderr",
     "output_type": "stream",
     "text": [
      "Some weights of BertForSequenceClassification were not initialized from the model checkpoint at DeepPavlov/rubert-base-cased-conversational and are newly initialized: ['classifier.bias', 'classifier.weight']\n",
      "You should probably TRAIN this model on a down-stream task to be able to use it for predictions and inference.\n"
     ]
    },
    {
     "name": "stdout",
     "output_type": "stream",
     "text": [
      "Используется LoRA (SEQ_CLS)\n",
      "Используется BCEWithLogitsLoss с pos_weight=1.809\n"
     ]
    },
    {
     "data": {
      "application/vnd.jupyter.widget-view+json": {
       "model_id": "",
       "version_major": 2,
       "version_minor": 0
      },
      "text/plain": [
       "Эпоха 1/3 — обучение:   0%|          | 0/23 [00:00<?, ?it/s]"
      ]
     },
     "metadata": {},
     "output_type": "display_data"
    },
    {
     "data": {
      "application/vnd.jupyter.widget-view+json": {
       "model_id": "",
       "version_major": 2,
       "version_minor": 0
      },
      "text/plain": [
       "Оценка на валидации:   0%|          | 0/6 [00:00<?, ?it/s]"
      ]
     },
     "metadata": {},
     "output_type": "display_data"
    },
    {
     "name": "stdout",
     "output_type": "stream",
     "text": [
      "Эпоха 1: средний loss=0.8721, PR-AUC валид=0.8769\n"
     ]
    },
    {
     "data": {
      "application/vnd.jupyter.widget-view+json": {
       "model_id": "",
       "version_major": 2,
       "version_minor": 0
      },
      "text/plain": [
       "Эпоха 2/3 — обучение:   0%|          | 0/23 [00:00<?, ?it/s]"
      ]
     },
     "metadata": {},
     "output_type": "display_data"
    },
    {
     "data": {
      "application/vnd.jupyter.widget-view+json": {
       "model_id": "",
       "version_major": 2,
       "version_minor": 0
      },
      "text/plain": [
       "Оценка на валидации:   0%|          | 0/6 [00:00<?, ?it/s]"
      ]
     },
     "metadata": {},
     "output_type": "display_data"
    },
    {
     "name": "stdout",
     "output_type": "stream",
     "text": [
      "Эпоха 2: средний loss=0.8757, PR-AUC валид=0.8859\n"
     ]
    },
    {
     "data": {
      "application/vnd.jupyter.widget-view+json": {
       "model_id": "",
       "version_major": 2,
       "version_minor": 0
      },
      "text/plain": [
       "Эпоха 3/3 — обучение:   0%|          | 0/23 [00:00<?, ?it/s]"
      ]
     },
     "metadata": {},
     "output_type": "display_data"
    },
    {
     "data": {
      "application/vnd.jupyter.widget-view+json": {
       "model_id": "",
       "version_major": 2,
       "version_minor": 0
      },
      "text/plain": [
       "Оценка на валидации:   0%|          | 0/6 [00:00<?, ?it/s]"
      ]
     },
     "metadata": {},
     "output_type": "display_data"
    },
    {
     "name": "stdout",
     "output_type": "stream",
     "text": [
      "Эпоха 3: средний loss=0.8695, PR-AUC валид=0.8864\n",
      "Фолд 2: лучший PR-AUC валид = 0.8864\n",
      "Фолд 3: обучение на 368, валидация на 92\n"
     ]
    },
    {
     "name": "stderr",
     "output_type": "stream",
     "text": [
      "Some weights of BertForSequenceClassification were not initialized from the model checkpoint at DeepPavlov/rubert-base-cased-conversational and are newly initialized: ['classifier.bias', 'classifier.weight']\n",
      "You should probably TRAIN this model on a down-stream task to be able to use it for predictions and inference.\n"
     ]
    },
    {
     "name": "stdout",
     "output_type": "stream",
     "text": [
      "Используется LoRA (SEQ_CLS)\n",
      "Используется BCEWithLogitsLoss с pos_weight=1.809\n"
     ]
    },
    {
     "data": {
      "application/vnd.jupyter.widget-view+json": {
       "model_id": "",
       "version_major": 2,
       "version_minor": 0
      },
      "text/plain": [
       "Эпоха 1/3 — обучение:   0%|          | 0/23 [00:00<?, ?it/s]"
      ]
     },
     "metadata": {},
     "output_type": "display_data"
    },
    {
     "data": {
      "application/vnd.jupyter.widget-view+json": {
       "model_id": "",
       "version_major": 2,
       "version_minor": 0
      },
      "text/plain": [
       "Оценка на валидации:   0%|          | 0/6 [00:00<?, ?it/s]"
      ]
     },
     "metadata": {},
     "output_type": "display_data"
    },
    {
     "name": "stdout",
     "output_type": "stream",
     "text": [
      "Эпоха 1: средний loss=0.8823, PR-AUC валид=0.8406\n"
     ]
    },
    {
     "data": {
      "application/vnd.jupyter.widget-view+json": {
       "model_id": "",
       "version_major": 2,
       "version_minor": 0
      },
      "text/plain": [
       "Эпоха 2/3 — обучение:   0%|          | 0/23 [00:00<?, ?it/s]"
      ]
     },
     "metadata": {},
     "output_type": "display_data"
    },
    {
     "data": {
      "application/vnd.jupyter.widget-view+json": {
       "model_id": "",
       "version_major": 2,
       "version_minor": 0
      },
      "text/plain": [
       "Оценка на валидации:   0%|          | 0/6 [00:00<?, ?it/s]"
      ]
     },
     "metadata": {},
     "output_type": "display_data"
    },
    {
     "name": "stdout",
     "output_type": "stream",
     "text": [
      "Эпоха 2: средний loss=0.8716, PR-AUC валид=0.8729\n"
     ]
    },
    {
     "data": {
      "application/vnd.jupyter.widget-view+json": {
       "model_id": "",
       "version_major": 2,
       "version_minor": 0
      },
      "text/plain": [
       "Эпоха 3/3 — обучение:   0%|          | 0/23 [00:00<?, ?it/s]"
      ]
     },
     "metadata": {},
     "output_type": "display_data"
    },
    {
     "data": {
      "application/vnd.jupyter.widget-view+json": {
       "model_id": "",
       "version_major": 2,
       "version_minor": 0
      },
      "text/plain": [
       "Оценка на валидации:   0%|          | 0/6 [00:00<?, ?it/s]"
      ]
     },
     "metadata": {},
     "output_type": "display_data"
    },
    {
     "name": "stdout",
     "output_type": "stream",
     "text": [
      "Эпоха 3: средний loss=0.8696, PR-AUC валид=0.8782\n",
      "Фолд 3: лучший PR-AUC валид = 0.8782\n",
      "Фолд 4: обучение на 368, валидация на 92\n"
     ]
    },
    {
     "name": "stderr",
     "output_type": "stream",
     "text": [
      "Some weights of BertForSequenceClassification were not initialized from the model checkpoint at DeepPavlov/rubert-base-cased-conversational and are newly initialized: ['classifier.bias', 'classifier.weight']\n",
      "You should probably TRAIN this model on a down-stream task to be able to use it for predictions and inference.\n"
     ]
    },
    {
     "name": "stdout",
     "output_type": "stream",
     "text": [
      "Используется LoRA (SEQ_CLS)\n",
      "Используется BCEWithLogitsLoss с pos_weight=1.809\n"
     ]
    },
    {
     "data": {
      "application/vnd.jupyter.widget-view+json": {
       "model_id": "",
       "version_major": 2,
       "version_minor": 0
      },
      "text/plain": [
       "Эпоха 1/3 — обучение:   0%|          | 0/23 [00:00<?, ?it/s]"
      ]
     },
     "metadata": {},
     "output_type": "display_data"
    },
    {
     "data": {
      "application/vnd.jupyter.widget-view+json": {
       "model_id": "",
       "version_major": 2,
       "version_minor": 0
      },
      "text/plain": [
       "Оценка на валидации:   0%|          | 0/6 [00:00<?, ?it/s]"
      ]
     },
     "metadata": {},
     "output_type": "display_data"
    },
    {
     "name": "stdout",
     "output_type": "stream",
     "text": [
      "Эпоха 1: средний loss=0.8774, PR-AUC валид=0.8664\n"
     ]
    },
    {
     "data": {
      "application/vnd.jupyter.widget-view+json": {
       "model_id": "",
       "version_major": 2,
       "version_minor": 0
      },
      "text/plain": [
       "Эпоха 2/3 — обучение:   0%|          | 0/23 [00:00<?, ?it/s]"
      ]
     },
     "metadata": {},
     "output_type": "display_data"
    },
    {
     "data": {
      "application/vnd.jupyter.widget-view+json": {
       "model_id": "",
       "version_major": 2,
       "version_minor": 0
      },
      "text/plain": [
       "Оценка на валидации:   0%|          | 0/6 [00:00<?, ?it/s]"
      ]
     },
     "metadata": {},
     "output_type": "display_data"
    },
    {
     "name": "stdout",
     "output_type": "stream",
     "text": [
      "Эпоха 2: средний loss=0.8779, PR-AUC валид=0.8995\n"
     ]
    },
    {
     "data": {
      "application/vnd.jupyter.widget-view+json": {
       "model_id": "",
       "version_major": 2,
       "version_minor": 0
      },
      "text/plain": [
       "Эпоха 3/3 — обучение:   0%|          | 0/23 [00:00<?, ?it/s]"
      ]
     },
     "metadata": {},
     "output_type": "display_data"
    },
    {
     "data": {
      "application/vnd.jupyter.widget-view+json": {
       "model_id": "",
       "version_major": 2,
       "version_minor": 0
      },
      "text/plain": [
       "Оценка на валидации:   0%|          | 0/6 [00:00<?, ?it/s]"
      ]
     },
     "metadata": {},
     "output_type": "display_data"
    },
    {
     "name": "stdout",
     "output_type": "stream",
     "text": [
      "Эпоха 3: средний loss=0.8739, PR-AUC валид=0.8879\n",
      "Фолд 4: лучший PR-AUC валид = 0.8995\n",
      "Фолд 5: обучение на 368, валидация на 92\n"
     ]
    },
    {
     "name": "stderr",
     "output_type": "stream",
     "text": [
      "Some weights of BertForSequenceClassification were not initialized from the model checkpoint at DeepPavlov/rubert-base-cased-conversational and are newly initialized: ['classifier.bias', 'classifier.weight']\n",
      "You should probably TRAIN this model on a down-stream task to be able to use it for predictions and inference.\n"
     ]
    },
    {
     "name": "stdout",
     "output_type": "stream",
     "text": [
      "Используется LoRA (SEQ_CLS)\n",
      "Используется BCEWithLogitsLoss с pos_weight=1.809\n"
     ]
    },
    {
     "data": {
      "application/vnd.jupyter.widget-view+json": {
       "model_id": "",
       "version_major": 2,
       "version_minor": 0
      },
      "text/plain": [
       "Эпоха 1/3 — обучение:   0%|          | 0/23 [00:00<?, ?it/s]"
      ]
     },
     "metadata": {},
     "output_type": "display_data"
    },
    {
     "data": {
      "application/vnd.jupyter.widget-view+json": {
       "model_id": "",
       "version_major": 2,
       "version_minor": 0
      },
      "text/plain": [
       "Оценка на валидации:   0%|          | 0/6 [00:00<?, ?it/s]"
      ]
     },
     "metadata": {},
     "output_type": "display_data"
    },
    {
     "name": "stdout",
     "output_type": "stream",
     "text": [
      "Эпоха 1: средний loss=0.8792, PR-AUC валид=0.8624\n"
     ]
    },
    {
     "data": {
      "application/vnd.jupyter.widget-view+json": {
       "model_id": "",
       "version_major": 2,
       "version_minor": 0
      },
      "text/plain": [
       "Эпоха 2/3 — обучение:   0%|          | 0/23 [00:00<?, ?it/s]"
      ]
     },
     "metadata": {},
     "output_type": "display_data"
    },
    {
     "data": {
      "application/vnd.jupyter.widget-view+json": {
       "model_id": "",
       "version_major": 2,
       "version_minor": 0
      },
      "text/plain": [
       "Оценка на валидации:   0%|          | 0/6 [00:00<?, ?it/s]"
      ]
     },
     "metadata": {},
     "output_type": "display_data"
    },
    {
     "name": "stdout",
     "output_type": "stream",
     "text": [
      "Эпоха 2: средний loss=0.8718, PR-AUC валид=0.8637\n"
     ]
    },
    {
     "data": {
      "application/vnd.jupyter.widget-view+json": {
       "model_id": "",
       "version_major": 2,
       "version_minor": 0
      },
      "text/plain": [
       "Эпоха 3/3 — обучение:   0%|          | 0/23 [00:00<?, ?it/s]"
      ]
     },
     "metadata": {},
     "output_type": "display_data"
    },
    {
     "data": {
      "application/vnd.jupyter.widget-view+json": {
       "model_id": "",
       "version_major": 2,
       "version_minor": 0
      },
      "text/plain": [
       "Оценка на валидации:   0%|          | 0/6 [00:00<?, ?it/s]"
      ]
     },
     "metadata": {},
     "output_type": "display_data"
    },
    {
     "name": "stdout",
     "output_type": "stream",
     "text": [
      "Эпоха 3: средний loss=0.8712, PR-AUC валид=0.8591\n",
      "Фолд 5: лучший PR-AUC валид = 0.8637\n",
      "Сводка по фолдам:\n"
     ]
    },
    {
     "data": {
      "text/html": [
       "<div>\n",
       "<style scoped>\n",
       "    .dataframe tbody tr th:only-of-type {\n",
       "        vertical-align: middle;\n",
       "    }\n",
       "\n",
       "    .dataframe tbody tr th {\n",
       "        vertical-align: top;\n",
       "    }\n",
       "\n",
       "    .dataframe thead th {\n",
       "        text-align: right;\n",
       "    }\n",
       "</style>\n",
       "<table border=\"1\" class=\"dataframe\">\n",
       "  <thead>\n",
       "    <tr style=\"text-align: right;\">\n",
       "      <th></th>\n",
       "      <th>fold</th>\n",
       "      <th>valid_size</th>\n",
       "      <th>pr_auc</th>\n",
       "      <th>precision@0.5</th>\n",
       "      <th>recall@0.5</th>\n",
       "      <th>f1@0.5</th>\n",
       "    </tr>\n",
       "  </thead>\n",
       "  <tbody>\n",
       "    <tr>\n",
       "      <th>0</th>\n",
       "      <td>1</td>\n",
       "      <td>92</td>\n",
       "      <td>0.750836</td>\n",
       "      <td>0.933333</td>\n",
       "      <td>0.437500</td>\n",
       "      <td>0.595745</td>\n",
       "    </tr>\n",
       "    <tr>\n",
       "      <th>1</th>\n",
       "      <td>2</td>\n",
       "      <td>92</td>\n",
       "      <td>0.886413</td>\n",
       "      <td>1.000000</td>\n",
       "      <td>0.454545</td>\n",
       "      <td>0.625000</td>\n",
       "    </tr>\n",
       "    <tr>\n",
       "      <th>2</th>\n",
       "      <td>3</td>\n",
       "      <td>92</td>\n",
       "      <td>0.878245</td>\n",
       "      <td>1.000000</td>\n",
       "      <td>0.424242</td>\n",
       "      <td>0.595745</td>\n",
       "    </tr>\n",
       "    <tr>\n",
       "      <th>3</th>\n",
       "      <td>4</td>\n",
       "      <td>92</td>\n",
       "      <td>0.887851</td>\n",
       "      <td>1.000000</td>\n",
       "      <td>0.393939</td>\n",
       "      <td>0.565217</td>\n",
       "    </tr>\n",
       "    <tr>\n",
       "      <th>4</th>\n",
       "      <td>5</td>\n",
       "      <td>92</td>\n",
       "      <td>0.859117</td>\n",
       "      <td>0.814815</td>\n",
       "      <td>0.666667</td>\n",
       "      <td>0.733333</td>\n",
       "    </tr>\n",
       "  </tbody>\n",
       "</table>\n",
       "</div>"
      ],
      "text/plain": [
       "   fold  valid_size    pr_auc  precision@0.5  recall@0.5    f1@0.5\n",
       "0     1          92  0.750836       0.933333    0.437500  0.595745\n",
       "1     2          92  0.886413       1.000000    0.454545  0.625000\n",
       "2     3          92  0.878245       1.000000    0.424242  0.595745\n",
       "3     4          92  0.887851       1.000000    0.393939  0.565217\n",
       "4     5          92  0.859117       0.814815    0.666667  0.733333"
      ]
     },
     "metadata": {},
     "output_type": "display_data"
    },
    {
     "name": "stdout",
     "output_type": "stream",
     "text": [
      "OOF PR-AUC по всем фолдам: 0.8185\n",
      "Оценка OOF PR-AUC: 0.8185\n",
      "Запуск подбора №3/3\n",
      "Старт кросс-валидации базовой конфигурации\n",
      "Фолд 1: обучение на 368, валидация на 92\n"
     ]
    },
    {
     "name": "stderr",
     "output_type": "stream",
     "text": [
      "Some weights of BertForSequenceClassification were not initialized from the model checkpoint at DeepPavlov/rubert-base-cased-conversational and are newly initialized: ['classifier.bias', 'classifier.weight']\n",
      "You should probably TRAIN this model on a down-stream task to be able to use it for predictions and inference.\n"
     ]
    },
    {
     "name": "stdout",
     "output_type": "stream",
     "text": [
      "Используется LoRA (SEQ_CLS)\n",
      "Используется BCEWithLogitsLoss с pos_weight=1.788\n"
     ]
    },
    {
     "data": {
      "application/vnd.jupyter.widget-view+json": {
       "model_id": "",
       "version_major": 2,
       "version_minor": 0
      },
      "text/plain": [
       "Эпоха 1/3 — обучение:   0%|          | 0/23 [00:00<?, ?it/s]"
      ]
     },
     "metadata": {},
     "output_type": "display_data"
    },
    {
     "data": {
      "application/vnd.jupyter.widget-view+json": {
       "model_id": "",
       "version_major": 2,
       "version_minor": 0
      },
      "text/plain": [
       "Оценка на валидации:   0%|          | 0/6 [00:00<?, ?it/s]"
      ]
     },
     "metadata": {},
     "output_type": "display_data"
    },
    {
     "name": "stdout",
     "output_type": "stream",
     "text": [
      "Эпоха 1: средний loss=0.8700, PR-AUC валид=0.7748\n"
     ]
    },
    {
     "data": {
      "application/vnd.jupyter.widget-view+json": {
       "model_id": "",
       "version_major": 2,
       "version_minor": 0
      },
      "text/plain": [
       "Эпоха 2/3 — обучение:   0%|          | 0/23 [00:00<?, ?it/s]"
      ]
     },
     "metadata": {},
     "output_type": "display_data"
    },
    {
     "data": {
      "application/vnd.jupyter.widget-view+json": {
       "model_id": "",
       "version_major": 2,
       "version_minor": 0
      },
      "text/plain": [
       "Оценка на валидации:   0%|          | 0/6 [00:00<?, ?it/s]"
      ]
     },
     "metadata": {},
     "output_type": "display_data"
    },
    {
     "name": "stdout",
     "output_type": "stream",
     "text": [
      "Эпоха 2: средний loss=0.8667, PR-AUC валид=0.7428\n"
     ]
    },
    {
     "data": {
      "application/vnd.jupyter.widget-view+json": {
       "model_id": "",
       "version_major": 2,
       "version_minor": 0
      },
      "text/plain": [
       "Эпоха 3/3 — обучение:   0%|          | 0/23 [00:00<?, ?it/s]"
      ]
     },
     "metadata": {},
     "output_type": "display_data"
    },
    {
     "data": {
      "application/vnd.jupyter.widget-view+json": {
       "model_id": "",
       "version_major": 2,
       "version_minor": 0
      },
      "text/plain": [
       "Оценка на валидации:   0%|          | 0/6 [00:00<?, ?it/s]"
      ]
     },
     "metadata": {},
     "output_type": "display_data"
    },
    {
     "name": "stdout",
     "output_type": "stream",
     "text": [
      "Эпоха 3: средний loss=0.8603, PR-AUC валид=0.7508\n",
      "Фолд 1: лучший PR-AUC валид = 0.7748\n",
      "Фолд 2: обучение на 368, валидация на 92\n"
     ]
    },
    {
     "name": "stderr",
     "output_type": "stream",
     "text": [
      "Some weights of BertForSequenceClassification were not initialized from the model checkpoint at DeepPavlov/rubert-base-cased-conversational and are newly initialized: ['classifier.bias', 'classifier.weight']\n",
      "You should probably TRAIN this model on a down-stream task to be able to use it for predictions and inference.\n"
     ]
    },
    {
     "name": "stdout",
     "output_type": "stream",
     "text": [
      "Используется LoRA (SEQ_CLS)\n",
      "Используется BCEWithLogitsLoss с pos_weight=1.809\n"
     ]
    },
    {
     "data": {
      "application/vnd.jupyter.widget-view+json": {
       "model_id": "",
       "version_major": 2,
       "version_minor": 0
      },
      "text/plain": [
       "Эпоха 1/3 — обучение:   0%|          | 0/23 [00:00<?, ?it/s]"
      ]
     },
     "metadata": {},
     "output_type": "display_data"
    },
    {
     "data": {
      "application/vnd.jupyter.widget-view+json": {
       "model_id": "",
       "version_major": 2,
       "version_minor": 0
      },
      "text/plain": [
       "Оценка на валидации:   0%|          | 0/6 [00:00<?, ?it/s]"
      ]
     },
     "metadata": {},
     "output_type": "display_data"
    },
    {
     "name": "stdout",
     "output_type": "stream",
     "text": [
      "Эпоха 1: средний loss=0.8721, PR-AUC валид=0.8769\n"
     ]
    },
    {
     "data": {
      "application/vnd.jupyter.widget-view+json": {
       "model_id": "",
       "version_major": 2,
       "version_minor": 0
      },
      "text/plain": [
       "Эпоха 2/3 — обучение:   0%|          | 0/23 [00:00<?, ?it/s]"
      ]
     },
     "metadata": {},
     "output_type": "display_data"
    },
    {
     "data": {
      "application/vnd.jupyter.widget-view+json": {
       "model_id": "",
       "version_major": 2,
       "version_minor": 0
      },
      "text/plain": [
       "Оценка на валидации:   0%|          | 0/6 [00:00<?, ?it/s]"
      ]
     },
     "metadata": {},
     "output_type": "display_data"
    },
    {
     "name": "stdout",
     "output_type": "stream",
     "text": [
      "Эпоха 2: средний loss=0.8757, PR-AUC валид=0.8859\n"
     ]
    },
    {
     "data": {
      "application/vnd.jupyter.widget-view+json": {
       "model_id": "",
       "version_major": 2,
       "version_minor": 0
      },
      "text/plain": [
       "Эпоха 3/3 — обучение:   0%|          | 0/23 [00:00<?, ?it/s]"
      ]
     },
     "metadata": {},
     "output_type": "display_data"
    },
    {
     "data": {
      "application/vnd.jupyter.widget-view+json": {
       "model_id": "",
       "version_major": 2,
       "version_minor": 0
      },
      "text/plain": [
       "Оценка на валидации:   0%|          | 0/6 [00:00<?, ?it/s]"
      ]
     },
     "metadata": {},
     "output_type": "display_data"
    },
    {
     "name": "stdout",
     "output_type": "stream",
     "text": [
      "Эпоха 3: средний loss=0.8695, PR-AUC валид=0.8864\n",
      "Фолд 2: лучший PR-AUC валид = 0.8864\n",
      "Фолд 3: обучение на 368, валидация на 92\n"
     ]
    },
    {
     "name": "stderr",
     "output_type": "stream",
     "text": [
      "Some weights of BertForSequenceClassification were not initialized from the model checkpoint at DeepPavlov/rubert-base-cased-conversational and are newly initialized: ['classifier.bias', 'classifier.weight']\n",
      "You should probably TRAIN this model on a down-stream task to be able to use it for predictions and inference.\n"
     ]
    },
    {
     "name": "stdout",
     "output_type": "stream",
     "text": [
      "Используется LoRA (SEQ_CLS)\n",
      "Используется BCEWithLogitsLoss с pos_weight=1.809\n"
     ]
    },
    {
     "data": {
      "application/vnd.jupyter.widget-view+json": {
       "model_id": "",
       "version_major": 2,
       "version_minor": 0
      },
      "text/plain": [
       "Эпоха 1/3 — обучение:   0%|          | 0/23 [00:00<?, ?it/s]"
      ]
     },
     "metadata": {},
     "output_type": "display_data"
    },
    {
     "data": {
      "application/vnd.jupyter.widget-view+json": {
       "model_id": "",
       "version_major": 2,
       "version_minor": 0
      },
      "text/plain": [
       "Оценка на валидации:   0%|          | 0/6 [00:00<?, ?it/s]"
      ]
     },
     "metadata": {},
     "output_type": "display_data"
    },
    {
     "name": "stdout",
     "output_type": "stream",
     "text": [
      "Эпоха 1: средний loss=0.8823, PR-AUC валид=0.8406\n"
     ]
    },
    {
     "data": {
      "application/vnd.jupyter.widget-view+json": {
       "model_id": "",
       "version_major": 2,
       "version_minor": 0
      },
      "text/plain": [
       "Эпоха 2/3 — обучение:   0%|          | 0/23 [00:00<?, ?it/s]"
      ]
     },
     "metadata": {},
     "output_type": "display_data"
    },
    {
     "data": {
      "application/vnd.jupyter.widget-view+json": {
       "model_id": "",
       "version_major": 2,
       "version_minor": 0
      },
      "text/plain": [
       "Оценка на валидации:   0%|          | 0/6 [00:00<?, ?it/s]"
      ]
     },
     "metadata": {},
     "output_type": "display_data"
    },
    {
     "name": "stdout",
     "output_type": "stream",
     "text": [
      "Эпоха 2: средний loss=0.8716, PR-AUC валид=0.8729\n"
     ]
    },
    {
     "data": {
      "application/vnd.jupyter.widget-view+json": {
       "model_id": "",
       "version_major": 2,
       "version_minor": 0
      },
      "text/plain": [
       "Эпоха 3/3 — обучение:   0%|          | 0/23 [00:00<?, ?it/s]"
      ]
     },
     "metadata": {},
     "output_type": "display_data"
    },
    {
     "data": {
      "application/vnd.jupyter.widget-view+json": {
       "model_id": "",
       "version_major": 2,
       "version_minor": 0
      },
      "text/plain": [
       "Оценка на валидации:   0%|          | 0/6 [00:00<?, ?it/s]"
      ]
     },
     "metadata": {},
     "output_type": "display_data"
    },
    {
     "name": "stdout",
     "output_type": "stream",
     "text": [
      "Эпоха 3: средний loss=0.8696, PR-AUC валид=0.8782\n",
      "Фолд 3: лучший PR-AUC валид = 0.8782\n",
      "Фолд 4: обучение на 368, валидация на 92\n"
     ]
    },
    {
     "name": "stderr",
     "output_type": "stream",
     "text": [
      "Some weights of BertForSequenceClassification were not initialized from the model checkpoint at DeepPavlov/rubert-base-cased-conversational and are newly initialized: ['classifier.bias', 'classifier.weight']\n",
      "You should probably TRAIN this model on a down-stream task to be able to use it for predictions and inference.\n"
     ]
    },
    {
     "name": "stdout",
     "output_type": "stream",
     "text": [
      "Используется LoRA (SEQ_CLS)\n",
      "Используется BCEWithLogitsLoss с pos_weight=1.809\n"
     ]
    },
    {
     "data": {
      "application/vnd.jupyter.widget-view+json": {
       "model_id": "",
       "version_major": 2,
       "version_minor": 0
      },
      "text/plain": [
       "Эпоха 1/3 — обучение:   0%|          | 0/23 [00:00<?, ?it/s]"
      ]
     },
     "metadata": {},
     "output_type": "display_data"
    },
    {
     "data": {
      "application/vnd.jupyter.widget-view+json": {
       "model_id": "",
       "version_major": 2,
       "version_minor": 0
      },
      "text/plain": [
       "Оценка на валидации:   0%|          | 0/6 [00:00<?, ?it/s]"
      ]
     },
     "metadata": {},
     "output_type": "display_data"
    },
    {
     "name": "stdout",
     "output_type": "stream",
     "text": [
      "Эпоха 1: средний loss=0.8774, PR-AUC валид=0.8664\n"
     ]
    },
    {
     "data": {
      "application/vnd.jupyter.widget-view+json": {
       "model_id": "",
       "version_major": 2,
       "version_minor": 0
      },
      "text/plain": [
       "Эпоха 2/3 — обучение:   0%|          | 0/23 [00:00<?, ?it/s]"
      ]
     },
     "metadata": {},
     "output_type": "display_data"
    },
    {
     "data": {
      "application/vnd.jupyter.widget-view+json": {
       "model_id": "",
       "version_major": 2,
       "version_minor": 0
      },
      "text/plain": [
       "Оценка на валидации:   0%|          | 0/6 [00:00<?, ?it/s]"
      ]
     },
     "metadata": {},
     "output_type": "display_data"
    },
    {
     "name": "stdout",
     "output_type": "stream",
     "text": [
      "Эпоха 2: средний loss=0.8779, PR-AUC валид=0.8995\n"
     ]
    },
    {
     "data": {
      "application/vnd.jupyter.widget-view+json": {
       "model_id": "",
       "version_major": 2,
       "version_minor": 0
      },
      "text/plain": [
       "Эпоха 3/3 — обучение:   0%|          | 0/23 [00:00<?, ?it/s]"
      ]
     },
     "metadata": {},
     "output_type": "display_data"
    },
    {
     "data": {
      "application/vnd.jupyter.widget-view+json": {
       "model_id": "",
       "version_major": 2,
       "version_minor": 0
      },
      "text/plain": [
       "Оценка на валидации:   0%|          | 0/6 [00:00<?, ?it/s]"
      ]
     },
     "metadata": {},
     "output_type": "display_data"
    },
    {
     "name": "stdout",
     "output_type": "stream",
     "text": [
      "Эпоха 3: средний loss=0.8739, PR-AUC валид=0.8879\n",
      "Фолд 4: лучший PR-AUC валид = 0.8995\n",
      "Фолд 5: обучение на 368, валидация на 92\n"
     ]
    },
    {
     "name": "stderr",
     "output_type": "stream",
     "text": [
      "Some weights of BertForSequenceClassification were not initialized from the model checkpoint at DeepPavlov/rubert-base-cased-conversational and are newly initialized: ['classifier.bias', 'classifier.weight']\n",
      "You should probably TRAIN this model on a down-stream task to be able to use it for predictions and inference.\n"
     ]
    },
    {
     "name": "stdout",
     "output_type": "stream",
     "text": [
      "Используется LoRA (SEQ_CLS)\n",
      "Используется BCEWithLogitsLoss с pos_weight=1.809\n"
     ]
    },
    {
     "data": {
      "application/vnd.jupyter.widget-view+json": {
       "model_id": "",
       "version_major": 2,
       "version_minor": 0
      },
      "text/plain": [
       "Эпоха 1/3 — обучение:   0%|          | 0/23 [00:00<?, ?it/s]"
      ]
     },
     "metadata": {},
     "output_type": "display_data"
    },
    {
     "data": {
      "application/vnd.jupyter.widget-view+json": {
       "model_id": "",
       "version_major": 2,
       "version_minor": 0
      },
      "text/plain": [
       "Оценка на валидации:   0%|          | 0/6 [00:00<?, ?it/s]"
      ]
     },
     "metadata": {},
     "output_type": "display_data"
    },
    {
     "name": "stdout",
     "output_type": "stream",
     "text": [
      "Эпоха 1: средний loss=0.8792, PR-AUC валид=0.8624\n"
     ]
    },
    {
     "data": {
      "application/vnd.jupyter.widget-view+json": {
       "model_id": "",
       "version_major": 2,
       "version_minor": 0
      },
      "text/plain": [
       "Эпоха 2/3 — обучение:   0%|          | 0/23 [00:00<?, ?it/s]"
      ]
     },
     "metadata": {},
     "output_type": "display_data"
    },
    {
     "data": {
      "application/vnd.jupyter.widget-view+json": {
       "model_id": "",
       "version_major": 2,
       "version_minor": 0
      },
      "text/plain": [
       "Оценка на валидации:   0%|          | 0/6 [00:00<?, ?it/s]"
      ]
     },
     "metadata": {},
     "output_type": "display_data"
    },
    {
     "name": "stdout",
     "output_type": "stream",
     "text": [
      "Эпоха 2: средний loss=0.8718, PR-AUC валид=0.8637\n"
     ]
    },
    {
     "data": {
      "application/vnd.jupyter.widget-view+json": {
       "model_id": "",
       "version_major": 2,
       "version_minor": 0
      },
      "text/plain": [
       "Эпоха 3/3 — обучение:   0%|          | 0/23 [00:00<?, ?it/s]"
      ]
     },
     "metadata": {},
     "output_type": "display_data"
    },
    {
     "data": {
      "application/vnd.jupyter.widget-view+json": {
       "model_id": "",
       "version_major": 2,
       "version_minor": 0
      },
      "text/plain": [
       "Оценка на валидации:   0%|          | 0/6 [00:00<?, ?it/s]"
      ]
     },
     "metadata": {},
     "output_type": "display_data"
    },
    {
     "name": "stdout",
     "output_type": "stream",
     "text": [
      "Эпоха 3: средний loss=0.8712, PR-AUC валид=0.8591\n",
      "Фолд 5: лучший PR-AUC валид = 0.8637\n",
      "Сводка по фолдам:\n"
     ]
    },
    {
     "data": {
      "text/html": [
       "<div>\n",
       "<style scoped>\n",
       "    .dataframe tbody tr th:only-of-type {\n",
       "        vertical-align: middle;\n",
       "    }\n",
       "\n",
       "    .dataframe tbody tr th {\n",
       "        vertical-align: top;\n",
       "    }\n",
       "\n",
       "    .dataframe thead th {\n",
       "        text-align: right;\n",
       "    }\n",
       "</style>\n",
       "<table border=\"1\" class=\"dataframe\">\n",
       "  <thead>\n",
       "    <tr style=\"text-align: right;\">\n",
       "      <th></th>\n",
       "      <th>fold</th>\n",
       "      <th>valid_size</th>\n",
       "      <th>pr_auc</th>\n",
       "      <th>precision@0.5</th>\n",
       "      <th>recall@0.5</th>\n",
       "      <th>f1@0.5</th>\n",
       "    </tr>\n",
       "  </thead>\n",
       "  <tbody>\n",
       "    <tr>\n",
       "      <th>0</th>\n",
       "      <td>1</td>\n",
       "      <td>92</td>\n",
       "      <td>0.750836</td>\n",
       "      <td>0.933333</td>\n",
       "      <td>0.437500</td>\n",
       "      <td>0.595745</td>\n",
       "    </tr>\n",
       "    <tr>\n",
       "      <th>1</th>\n",
       "      <td>2</td>\n",
       "      <td>92</td>\n",
       "      <td>0.886413</td>\n",
       "      <td>1.000000</td>\n",
       "      <td>0.454545</td>\n",
       "      <td>0.625000</td>\n",
       "    </tr>\n",
       "    <tr>\n",
       "      <th>2</th>\n",
       "      <td>3</td>\n",
       "      <td>92</td>\n",
       "      <td>0.878245</td>\n",
       "      <td>1.000000</td>\n",
       "      <td>0.424242</td>\n",
       "      <td>0.595745</td>\n",
       "    </tr>\n",
       "    <tr>\n",
       "      <th>3</th>\n",
       "      <td>4</td>\n",
       "      <td>92</td>\n",
       "      <td>0.887851</td>\n",
       "      <td>1.000000</td>\n",
       "      <td>0.393939</td>\n",
       "      <td>0.565217</td>\n",
       "    </tr>\n",
       "    <tr>\n",
       "      <th>4</th>\n",
       "      <td>5</td>\n",
       "      <td>92</td>\n",
       "      <td>0.859117</td>\n",
       "      <td>0.814815</td>\n",
       "      <td>0.666667</td>\n",
       "      <td>0.733333</td>\n",
       "    </tr>\n",
       "  </tbody>\n",
       "</table>\n",
       "</div>"
      ],
      "text/plain": [
       "   fold  valid_size    pr_auc  precision@0.5  recall@0.5    f1@0.5\n",
       "0     1          92  0.750836       0.933333    0.437500  0.595745\n",
       "1     2          92  0.886413       1.000000    0.454545  0.625000\n",
       "2     3          92  0.878245       1.000000    0.424242  0.595745\n",
       "3     4          92  0.887851       1.000000    0.393939  0.565217\n",
       "4     5          92  0.859117       0.814815    0.666667  0.733333"
      ]
     },
     "metadata": {},
     "output_type": "display_data"
    },
    {
     "name": "stdout",
     "output_type": "stream",
     "text": [
      "OOF PR-AUC по всем фолдам: 0.8185\n",
      "Оценка OOF PR-AUC: 0.8185\n",
      "Лидборд гиперпараметров:\n"
     ]
    },
    {
     "data": {
      "text/html": [
       "<div>\n",
       "<style scoped>\n",
       "    .dataframe tbody tr th:only-of-type {\n",
       "        vertical-align: middle;\n",
       "    }\n",
       "\n",
       "    .dataframe tbody tr th {\n",
       "        vertical-align: top;\n",
       "    }\n",
       "\n",
       "    .dataframe thead th {\n",
       "        text-align: right;\n",
       "    }\n",
       "</style>\n",
       "<table border=\"1\" class=\"dataframe\">\n",
       "  <thead>\n",
       "    <tr style=\"text-align: right;\">\n",
       "      <th></th>\n",
       "      <th>trial</th>\n",
       "      <th>oof_pr_auc</th>\n",
       "      <th>model_name</th>\n",
       "      <th>text_col</th>\n",
       "      <th>label_col</th>\n",
       "      <th>max_length</th>\n",
       "      <th>batch_size</th>\n",
       "      <th>epochs</th>\n",
       "      <th>lr</th>\n",
       "      <th>weight_decay</th>\n",
       "      <th>warmup_prop</th>\n",
       "      <th>dropout</th>\n",
       "      <th>grad_clip_norm</th>\n",
       "      <th>use_amp</th>\n",
       "      <th>use_lora</th>\n",
       "      <th>lora_r</th>\n",
       "      <th>lora_alpha</th>\n",
       "      <th>lora_dropout</th>\n",
       "      <th>loss_type</th>\n",
       "      <th>focal_gamma</th>\n",
       "      <th>focal_alpha</th>\n",
       "      <th>target_precision</th>\n",
       "      <th>device</th>\n",
       "      <th>seed</th>\n",
       "      <th>num_workers</th>\n",
       "      <th>pin_memory</th>\n",
       "      <th>persistent_workers</th>\n",
       "      <th>prefetch_factor</th>\n",
       "    </tr>\n",
       "  </thead>\n",
       "  <tbody>\n",
       "    <tr>\n",
       "      <th>0</th>\n",
       "      <td>1</td>\n",
       "      <td>0.818503</td>\n",
       "      <td>DeepPavlov/rubert-base-cased-conversational</td>\n",
       "      <td>text</td>\n",
       "      <td>label</td>\n",
       "      <td>384</td>\n",
       "      <td>16</td>\n",
       "      <td>3</td>\n",
       "      <td>0.00005</td>\n",
       "      <td>0.01</td>\n",
       "      <td>0.1</td>\n",
       "      <td>0.1</td>\n",
       "      <td>1.0</td>\n",
       "      <td>True</td>\n",
       "      <td>True</td>\n",
       "      <td>16</td>\n",
       "      <td>16</td>\n",
       "      <td>0.1</td>\n",
       "      <td>bce</td>\n",
       "      <td>2.0</td>\n",
       "      <td>0.25</td>\n",
       "      <td>0.9</td>\n",
       "      <td>cuda</td>\n",
       "      <td>42</td>\n",
       "      <td>0</td>\n",
       "      <td>True</td>\n",
       "      <td>False</td>\n",
       "      <td>None</td>\n",
       "    </tr>\n",
       "    <tr>\n",
       "      <th>1</th>\n",
       "      <td>2</td>\n",
       "      <td>0.818503</td>\n",
       "      <td>DeepPavlov/rubert-base-cased-conversational</td>\n",
       "      <td>text</td>\n",
       "      <td>label</td>\n",
       "      <td>384</td>\n",
       "      <td>16</td>\n",
       "      <td>3</td>\n",
       "      <td>0.00005</td>\n",
       "      <td>0.01</td>\n",
       "      <td>0.1</td>\n",
       "      <td>0.1</td>\n",
       "      <td>1.0</td>\n",
       "      <td>True</td>\n",
       "      <td>True</td>\n",
       "      <td>16</td>\n",
       "      <td>16</td>\n",
       "      <td>0.1</td>\n",
       "      <td>bce</td>\n",
       "      <td>2.0</td>\n",
       "      <td>0.25</td>\n",
       "      <td>0.9</td>\n",
       "      <td>cuda</td>\n",
       "      <td>42</td>\n",
       "      <td>0</td>\n",
       "      <td>True</td>\n",
       "      <td>False</td>\n",
       "      <td>None</td>\n",
       "    </tr>\n",
       "    <tr>\n",
       "      <th>2</th>\n",
       "      <td>3</td>\n",
       "      <td>0.818503</td>\n",
       "      <td>DeepPavlov/rubert-base-cased-conversational</td>\n",
       "      <td>text</td>\n",
       "      <td>label</td>\n",
       "      <td>384</td>\n",
       "      <td>16</td>\n",
       "      <td>3</td>\n",
       "      <td>0.00005</td>\n",
       "      <td>0.01</td>\n",
       "      <td>0.1</td>\n",
       "      <td>0.1</td>\n",
       "      <td>1.0</td>\n",
       "      <td>True</td>\n",
       "      <td>True</td>\n",
       "      <td>16</td>\n",
       "      <td>16</td>\n",
       "      <td>0.1</td>\n",
       "      <td>bce</td>\n",
       "      <td>2.0</td>\n",
       "      <td>0.25</td>\n",
       "      <td>0.9</td>\n",
       "      <td>cuda</td>\n",
       "      <td>42</td>\n",
       "      <td>0</td>\n",
       "      <td>True</td>\n",
       "      <td>False</td>\n",
       "      <td>None</td>\n",
       "    </tr>\n",
       "  </tbody>\n",
       "</table>\n",
       "</div>"
      ],
      "text/plain": [
       "   trial  oof_pr_auc                                   model_name text_col  \\\n",
       "0      1    0.818503  DeepPavlov/rubert-base-cased-conversational     text   \n",
       "1      2    0.818503  DeepPavlov/rubert-base-cased-conversational     text   \n",
       "2      3    0.818503  DeepPavlov/rubert-base-cased-conversational     text   \n",
       "\n",
       "  label_col  max_length  batch_size  epochs       lr  weight_decay  \\\n",
       "0     label         384          16       3  0.00005          0.01   \n",
       "1     label         384          16       3  0.00005          0.01   \n",
       "2     label         384          16       3  0.00005          0.01   \n",
       "\n",
       "   warmup_prop  dropout  grad_clip_norm  use_amp  use_lora  lora_r  \\\n",
       "0          0.1      0.1             1.0     True      True      16   \n",
       "1          0.1      0.1             1.0     True      True      16   \n",
       "2          0.1      0.1             1.0     True      True      16   \n",
       "\n",
       "   lora_alpha  lora_dropout loss_type  focal_gamma  focal_alpha  \\\n",
       "0          16           0.1       bce          2.0         0.25   \n",
       "1          16           0.1       bce          2.0         0.25   \n",
       "2          16           0.1       bce          2.0         0.25   \n",
       "\n",
       "   target_precision device  seed  num_workers  pin_memory  persistent_workers  \\\n",
       "0               0.9   cuda    42            0        True               False   \n",
       "1               0.9   cuda    42            0        True               False   \n",
       "2               0.9   cuda    42            0        True               False   \n",
       "\n",
       "  prefetch_factor  \n",
       "0            None  \n",
       "1            None  \n",
       "2            None  "
      ]
     },
     "metadata": {},
     "output_type": "display_data"
    },
    {
     "name": "stdout",
     "output_type": "stream",
     "text": [
      "Лучшая конфигурация: OOF PR-AUC=0.8185\n",
      "Порог по максимуму F1:\n",
      "{'threshold': 0.49050694056087046, 'precision': 0.6949152542372882, 'recall': 0.75, 'f1': 0.7214076246334312, 'pr_auc': 0.8185033477475125, 'brier': 0.23838648714308033, 'confusion_matrix': [[242, 54], [41, 123]]}\n",
      "Порог по требуемой точности:\n",
      "{'threshold': 0.4985759700734752, 'precision': 0.9021739130434783, 'recall': 0.5060975609756098, 'f1': 0.6484375, 'pr_auc': 0.8185033477475125, 'brier': 0.23838648714308033, 'confusion_matrix': [[287, 9], [81, 83]]}\n",
      "Выбран порог по лучшей конфигурации: 0.4986\n"
     ]
    }
   ],
   "source": [
    "print(\"Запуск оптимизации гиперпараметров\")\n",
    "hpo = mt.hpo_search(df_clean, FOLDS_IDX, base_cfg, n_trials=3)\n",
    "\n",
    "best_cfg = hpo['best']['config']\n",
    "best_cv_res = hpo['best']['result']\n",
    "\n",
    "best_thr_res = mt.choose_thresholds_and_report(\n",
    "    best_cv_res['oof_logits'], best_cv_res['oof_mask'],\n",
    "    df_clean[best_cfg.label_col].to_numpy(), best_cfg\n",
    ")\n",
    "best_thr = best_thr_res['thr_precision']\n",
    "print(f\"Выбран порог по лучшей конфигурации: {best_thr:.4f}\")"
   ]
  },
  {
   "cell_type": "code",
   "execution_count": 106,
   "id": "2526d84d-4359-45c3-8051-9cdb51caae8c",
   "metadata": {
    "execution": {
     "iopub.execute_input": "2025-08-24T18:49:10.244935Z",
     "iopub.status.busy": "2025-08-24T18:49:10.244659Z",
     "iopub.status.idle": "2025-08-24T18:50:05.550031Z",
     "shell.execute_reply": "2025-08-24T18:50:05.549375Z",
     "shell.execute_reply.started": "2025-08-24T18:49:10.244911Z"
    }
   },
   "outputs": [
    {
     "name": "stdout",
     "output_type": "stream",
     "text": [
      "Финальное обучение на 90% и оценка на lockbox-тесте (лучшая конфигурация)\n"
     ]
    },
    {
     "name": "stderr",
     "output_type": "stream",
     "text": [
      "Some weights of BertForSequenceClassification were not initialized from the model checkpoint at DeepPavlov/rubert-base-cased-conversational and are newly initialized: ['classifier.bias', 'classifier.weight']\n",
      "You should probably TRAIN this model on a down-stream task to be able to use it for predictions and inference.\n"
     ]
    },
    {
     "name": "stdout",
     "output_type": "stream",
     "text": [
      "Используется LoRA (SEQ_CLS)\n",
      "Используется BCEWithLogitsLoss с pos_weight=1.805\n"
     ]
    },
    {
     "data": {
      "application/vnd.jupyter.widget-view+json": {
       "model_id": "",
       "version_major": 2,
       "version_minor": 0
      },
      "text/plain": [
       "Эпоха 1/3 — обучение на всех 90%:   0%|          | 0/29 [00:00<?, ?it/s]"
      ]
     },
     "metadata": {},
     "output_type": "display_data"
    },
    {
     "name": "stdout",
     "output_type": "stream",
     "text": [
      "Эпоха 1: средний loss=0.8907\n"
     ]
    },
    {
     "data": {
      "application/vnd.jupyter.widget-view+json": {
       "model_id": "",
       "version_major": 2,
       "version_minor": 0
      },
      "text/plain": [
       "Эпоха 2/3 — обучение на всех 90%:   0%|          | 0/29 [00:00<?, ?it/s]"
      ]
     },
     "metadata": {},
     "output_type": "display_data"
    },
    {
     "name": "stdout",
     "output_type": "stream",
     "text": [
      "Эпоха 2: средний loss=0.8841\n"
     ]
    },
    {
     "data": {
      "application/vnd.jupyter.widget-view+json": {
       "model_id": "",
       "version_major": 2,
       "version_minor": 0
      },
      "text/plain": [
       "Эпоха 3/3 — обучение на всех 90%:   0%|          | 0/29 [00:00<?, ?it/s]"
      ]
     },
     "metadata": {},
     "output_type": "display_data"
    },
    {
     "name": "stdout",
     "output_type": "stream",
     "text": [
      "Эпоха 3: средний loss=0.8780\n"
     ]
    },
    {
     "data": {
      "application/vnd.jupyter.widget-view+json": {
       "model_id": "",
       "version_major": 2,
       "version_minor": 0
      },
      "text/plain": [
       "Инференс на lockbox-тесте:   0%|          | 0/4 [00:00<?, ?it/s]"
      ]
     },
     "metadata": {},
     "output_type": "display_data"
    },
    {
     "name": "stdout",
     "output_type": "stream",
     "text": [
      "Итоговая оценка на lockbox-тесте:\n",
      "{'threshold': 0.4985759700734752, 'precision': 0.8333333333333334, 'recall': 0.5555555555555556, 'f1': 0.6666666666666667, 'pr_auc': 0.8194044210028866, 'brier': 0.2420769590317935, 'confusion_matrix': [[32, 2], [8, 10]]}\n"
     ]
    }
   ],
   "source": [
    "print(\"Финальное обучение на 90% и оценка на lockbox-тесте (лучшая конфигурация)\")\n",
    "final_res = mt.train_full_and_eval(df_clean, FOLDS_IDX, TEST_IDX, best_cfg, best_thr)"
   ]
  },
  {
   "cell_type": "markdown",
   "id": "deea8357-de85-4e2b-a1ee-6065403955b1",
   "metadata": {},
   "source": [
    "##### Вывод по обучению\n",
    "\n",
    "- В ходе экспериментов использовались две архитектуры: `sberbank-ai/ruRoberta-large` и `DeepPavlov/rubert-base-cased-conversational`.  \n",
    "- Длинная модель от Сбера показывала более высокую метрику PR-AUC (около 0.91 на lockbox-тесте даже без оптимизации порога), однако при запуске на Kaggle ноутбук стабильно падал из-за переполнения RAM и необходимости хранить все веса. Проблема была не в самой модели, а в ограничениях вычислительной среды.  \n",
    "- В итоге для финальной версии была выбрана более лёгкая модель `DeepPavlov/rubert-base-cased-conversational`, так как она позволила пройти полный пайплайн обучения, оптимизации гиперпараметров и финальной оценки без доработок, а времени уже не хватало, хотя я понял проблему.\n",
    "    - Если подробнее про проблему, то она была в RAM, как я понял, ибо веса моделей сохранялись на каждом фолде, что под конец оптимизации порога говорило пока, ну и Kaggle пренудительно выключал/перезапускал ядро.\n",
    "- Оптимизация гиперпараметров дала устойчивую OOF PR-AUC ≈ 0.8185. На lockbox-тесте итоговый результат составил PR-AUC ≈ 0.819, Precision = 0.83, Recall = 0.56, F1 = 0.67, Brier Score ≈ 0.242.  \n",
    "- Таким образом, итоговый выбор в пользу более компактной модели был обусловлен ограничением по ресурсам и временем на исправление падений, при этом итоговая метрика осталась сопоставимой и стабильной в разных разбиениях. "
   ]
  },
  {
   "cell_type": "markdown",
   "id": "2846ed5f-aede-4ede-afd9-de62c7df4af3",
   "metadata": {},
   "source": [
    "#### Проверка модели"
   ]
  },
  {
   "cell_type": "code",
   "execution_count": 108,
   "id": "46e97511-3b2a-4f3a-afaf-0746a3eb65d5",
   "metadata": {
    "execution": {
     "iopub.execute_input": "2025-08-24T18:50:05.558845Z",
     "iopub.status.busy": "2025-08-24T18:50:05.558607Z",
     "iopub.status.idle": "2025-08-24T18:50:05.581146Z",
     "shell.execute_reply": "2025-08-24T18:50:05.580471Z",
     "shell.execute_reply.started": "2025-08-24T18:50:05.558820Z"
    }
   },
   "outputs": [
    {
     "name": "stdout",
     "output_type": "stream",
     "text": [
      "Сводка по источнику скоринга:\n",
      "where\n",
      "oof     460\n",
      "test     52\n",
      "Name: count, dtype: int64\n",
      "\n",
      "Заполнено вероятностями: 512 из 512\n"
     ]
    }
   ],
   "source": [
    "scores_df = mt.assemble_full_scores(\n",
    "    df_clean, cv_res, final_res, TEST_IDX, label_col=best_cfg.label_col\n",
    ")\n",
    "\n",
    "print(\"Сводка по источнику скоринга:\")\n",
    "print(scores_df[\"where\"].value_counts(dropna=False))\n",
    "print(\"\\nЗаполнено вероятностями:\", scores_df['score'].notna().sum(), \"из\", len(scores_df))"
   ]
  },
  {
   "cell_type": "markdown",
   "id": "30ab2f35-eba2-4528-8500-658270030cec",
   "metadata": {},
   "source": [
    "##### Вывод:\n",
    "\n",
    "- Всего объектов: 512 (460 в обучающем пуле, 52 в тестовом).\n",
    "- Все 512 объектов успешно получили вероятностные предсказания (oof + test)."
   ]
  },
  {
   "cell_type": "code",
   "execution_count": 110,
   "id": "4b055c6b-242f-4ef0-8de9-65d71c98ca6b",
   "metadata": {
    "execution": {
     "iopub.execute_input": "2025-08-24T18:50:05.600836Z",
     "iopub.status.busy": "2025-08-24T18:50:05.600531Z",
     "iopub.status.idle": "2025-08-24T18:50:06.240218Z",
     "shell.execute_reply": "2025-08-24T18:50:06.239471Z",
     "shell.execute_reply.started": "2025-08-24T18:50:05.600813Z"
    }
   },
   "outputs": [
    {
     "name": "stdout",
     "output_type": "stream",
     "text": [
      "Отчёт на lockbox-тесте:\n",
      "{'threshold': 0.4985759700734752, 'precision': 0.8333333333333334, 'recall': 0.5555555555555556, 'f1': 0.6666666666666667, 'pr_auc': 0.8194044210028866, 'brier': 0.2420769590317935, 'confusion_matrix': [[32, 2], [8, 10]]}\n"
     ]
    },
    {
     "data": {
      "image/png": "[encoded data removed]",
      "text/plain": [
       "<Figure size 600x400 with 1 Axes>"
      ]
     },
     "metadata": {},
     "output_type": "display_data"
    },
    {
     "data": {
      "image/png": "[encoded data removed]",
      "text/plain": [
       "<Figure size 600x400 with 1 Axes>"
      ]
     },
     "metadata": {},
     "output_type": "display_data"
    },
    {
     "data": {
      "image/png": "[encoded data removed]",
      "text/plain": [
       "<Figure size 400x300 with 2 Axes>"
      ]
     },
     "metadata": {},
     "output_type": "display_data"
    }
   ],
   "source": [
    "# Отчёт и графики на lockbox-тесте\n",
    "mask_test = scores_df['where'].values == \"test\"\n",
    "y_test = scores_df.loc[mask_test, 'y_true'].to_numpy()\n",
    "s_test = scores_df.loc[mask_test, 'score'].to_numpy()\n",
    "\n",
    "rep_test = mt.test_report(y_test, s_test, thr=best_thr)\n",
    "print(\"Отчёт на lockbox-тесте:\")\n",
    "print(rep_test)\n",
    "\n",
    "mt.plot_pr_curve(y_test, s_test, title=\"PR-кривая (lockbox)\")\n",
    "mt.plot_calibration(y_test, s_test, n_bins=8, title=\"Калибровка (lockbox)\")\n",
    "mt.plot_confmat(y_test, s_test, thr=best_thr, title=\"Матрица ошибок (lockbox)\")"
   ]
  },
  {
   "cell_type": "markdown",
   "id": "c83deae8-f6f9-4f39-85d9-b24b169e9a34",
   "metadata": {},
   "source": [
    "##### Отчёт на lockbox-тесте\n",
    "\n",
    "- Выбранный порог: 0.499.\n",
    "- Precision: 0.83 — высокая точность, большинство предсказанных положительных действительно являются таковыми.\n",
    "- Recall: 0.56 — модель находит чуть больше половины реальных положительных примеров.\n",
    "- F1-мера: 0.67 — сбалансированный показатель, подтверждает компромисс между precision и recall.\n",
    "- PR-AUC: 0.82 — качество модели по основной метрике остаётся на хорошем уровне.\n",
    "- Brier-скор: 0.24 — указывает на определённый зазор в калибровке вероятностей, однако значения находятся в допустимых пределах.\n",
    "- Матрица ошибок: 32 TN, 2 FP, 8 FN, 10 TP — модель хорошо справляется с отрицательным классом, но иногда упускает позитивные примеры."
   ]
  },
  {
   "cell_type": "markdown",
   "id": "c889c676-149e-4070-b7d3-bef550541a2d",
   "metadata": {},
   "source": [
    "### **Кластеризация**"
   ]
  },
  {
   "cell_type": "code",
   "execution_count": 111,
   "id": "c0153a58-17ff-4364-868b-e06817444842",
   "metadata": {
    "execution": {
     "iopub.execute_input": "2025-08-24T18:50:06.241351Z",
     "iopub.status.busy": "2025-08-24T18:50:06.241082Z",
     "iopub.status.idle": "2025-08-24T18:50:06.478004Z",
     "shell.execute_reply": "2025-08-24T18:50:06.477282Z",
     "shell.execute_reply.started": "2025-08-24T18:50:06.241326Z"
    }
   },
   "outputs": [
    {
     "data": {
      "image/png": "[encoded data removed]",
      "text/plain": [
       "<Figure size 600x380 with 1 Axes>"
      ]
     },
     "metadata": {},
     "output_type": "display_data"
    },
    {
     "name": "stdout",
     "output_type": "stream",
     "text": [
      "Кандидатов для кластеризации: 200\n"
     ]
    },
    {
     "data": {
      "text/html": [
       "<div>\n",
       "<style scoped>\n",
       "    .dataframe tbody tr th:only-of-type {\n",
       "        vertical-align: middle;\n",
       "    }\n",
       "\n",
       "    .dataframe tbody tr th {\n",
       "        vertical-align: top;\n",
       "    }\n",
       "\n",
       "    .dataframe thead th {\n",
       "        text-align: right;\n",
       "    }\n",
       "</style>\n",
       "<table border=\"1\" class=\"dataframe\">\n",
       "  <thead>\n",
       "    <tr style=\"text-align: right;\">\n",
       "      <th></th>\n",
       "      <th>text</th>\n",
       "    </tr>\n",
       "  </thead>\n",
       "  <tbody>\n",
       "    <tr>\n",
       "      <th>0</th>\n",
       "      <td>Алло алло Арва телефону а вы кто министр образования учебного заведения А ну сейчас передам ва иди сюда Алло алло привет Да здравствуйте здравствуйте входила на уч Вась убу ну я же на больничном так смотри Варечка нам нужно посмотреть все твои твои пропуски я могу сейчас указать этот номер телефона как основной телефон Ну да Отлично Так о по пожалуйста А что у тебя что-то болит или теб заболела Ну я тебя что-то болит или теб заболела Ну я тебя что-то болит или теб заболела Ну я заболела Я же предупреждала Ага так смотри Варечка я сейчас захожу на твою зачётную книжечку чтоб посмотреть противо пропуском и указать в компьютере в в системе так одну минуточку так смотри Мар тебе сейчас придёт подтверждение на номер телефона смотри посмотри его Сохрани потому что это будет твой основной номер вода за учётную книжку ты должна его сохранить и мне указать чтобы я указала системе вода А куда придёт в контакт в СМС обычно сообщение уже должн прийти А кто отправитель Не что-то нет пока от госб отправитель Не что-то нет пока от госб отправитель Не что-то нет пока от госб должна была прийти госуслуги Да уче должно быть либо три цифры либо четыре Я просто не помню тут написано только мошенники спрашивают код А вы откуда Звоните мне вообще Министерство образования Я думала вы со школы р образования там где ты учишься Ну я думала со школы а а Министерство Почему мне звонит для того чтобы указать все твои пропуски Сколько у тебя было пропусков сечас всех увести передать выше Ну а я же учительниц передала всё почему-то всё почему-то всё почему-то Ну может вы ей позвонить сза переда л сохранить это эти иче не пом четыре цифры те посмотри должна ить потому что это твой вход электро дни у меня электронный дневник У меня на другом сайте электронный дневник я понимаю У меня просто другой сат понимаю М не подходит вот я пытаюсь вести мня не подходит Я понимаю что не подходит мы разберёмся с номером телефона Какой у тебя номер Ну вот на который вы звоните я поняла те каже друго сат должен быть не госуслуги этот код нет вверху у тебя самом на смена пароля госуслугам нет Там должно быть написано авария рение нано Ну вот я говорю что это не то потому что я вообще должна на другом сайте смотреть Свои оценки Давай тебе ещё раз направлю смотри тут опять написано никому не сообщайте кота Вы точно не мошенник Алло алло вы куда-то точно не мошенник Алло алло вы куда-то точно не мошенник Алло алло вы куда-то пропали пропали Алло Вас не слышно</td>\n",
       "    </tr>\n",
       "    <tr>\n",
       "      <th>1</th>\n",
       "      <td>Алло, оператор МТС, напоминаем о продлении периода обслуживания вашего номера, оформим сейчас? Спасибо, не надо. Это обязательная процедура, иначе исходящие могут быть ограничены. Не интересует, до свидания. Мы лишь информируем, потребуется код из сообщения. Удалите мой номер, ничего подтверждать не буду. [CALL_ENDED].</td>\n",
       "    </tr>\n",
       "    <tr>\n",
       "      <th>2</th>\n",
       "      <td>Алло. Владислав Алексеевич, здравствуйте. Кто это? Меня зовут Кирилл, ТВ оператор компании МТС. А дело в том, что ваш номер телефона, вижу отнесён к числу неподтверждённых. Вам ранее поступало уведомление, что в течение месяца нужно обратиться в итверть свои данные. Это как не подтверждённо? Не очень понял. А, ну имеется в виду, скажем, что вы не предоставили свои документы, если, ну, простыми словами. Когда не предоставил? В течение месяца. Так, я их предоставлял, когда покупал сим-карту. Абсолютно верно. Сколько вы картой пользуетесь? Да я не помню. Долго? Больше года точно. Ну, а сейчас, если вы не знали, да, грубо говоря, чтобы не поступали различные спамзвонки мошеннического характера, нужно подтверждать сим-карты. И оператор имеет полное право каждые полгода, грубо говоря, запрашивать от абонентов, как разтаки актуализировать эту информацию, данные и тому подобное, приглашая в салон. Вот вы просто попали под такую, скажем, процедуру. Понятно. Ну, хорошо. Так, от меня что третье? в телефонном режиме. Я могу вам предложить это сделать, грубо говоря. А вы мне единственное подскажите, Алексеевич, 2004 года рождения, девятнадцатое число, ноябрь месяц. Это ваши данные? Ну у вас эти данные, значит, это мои данные. Всё правильно вы говорите. Ну вы мне как-то Ну бывает такое. Ну вы мне как-то хомите. Владислав Алексеевич, скажите, ну ну почему почему когда я вам со чего если Ну потому что ваш номер телефона может на отца условно зарегистрирован, поэтому я и уточняю эту информацию. Если вы не хотите, я передам сейчас номер на блокировку, и мы с вами закончим диалог. Так, а как вы сможете сделать? Да вы не сможете так сделать. У нас же с вами договор. Всего доброго.</td>\n",
       "    </tr>\n",
       "    <tr>\n",
       "      <th>3</th>\n",
       "      <td>Алло. Здравствуйте. Здравствуйте, девушка. У вас всё хорошо? Да. Ну вы просто уматом ругаетесь. Мне это не очень нравится. Ну в А так в целом вы в своём уме? Ну в смысле в своём уме? А вы в своём уме? Вы смысле в своём уме? А вы в своём уме? Вы смысле в своём уме? А вы в своём уме? Вы официальный зонок совершаете. ругается матом бадолага. Ладно, девушка, представьтесь. Кто вы? Что вы? Почему вы?</td>\n",
       "    </tr>\n",
       "    <tr>\n",
       "      <th>4</th>\n",
       "      <td>Алло, здравствуйте. Это оператор модельной связи компании НТС. Я с вами связ по поводу того, что сегодня заканчивается период обслуживания вашего номера. Вот скажите, пожалуйста, вы знаете об этом? Да, я первый раз про это слышал? Дело в том, что с двадцать пятого года все выступало сооружение и каждая карта получил ограничный период обслуживания, в свою очередь связа для продления договора. Скажите, пожалуйста, вы будете дальше пользоваться своим номером? Правильно? Ну, буду пользоваться, да. Хорошо. В таком случае буду привозявление на проление вашего номера. Изначально мне необходимо указать периоды его обслуживания отгода до 15 лет. Сколько вы выбираете? Ну, 15 давайте. Система 15 лет. Поскольку вы остаетесь с нами как Лен, компания представляет письма ближайшие 3 месяца в виде 20%. Для продления вашего мобильного номера необходимо указать вашу готу рождения и фамилия, имя, отчество. Зачем? Ещё раз повторяю, я открываю регистрацию, вашу сим-карту. Мне указа надо указать ваши сим-карту. Мне указа надо указать ваши данные. Ну я понимаю, но зачем я открыл регистрацию вашей SIM-карты? Мне надо записать туда ваши данные для того, чтобы входить её. Так, а старая куда? Sм-карта? У меня есть старая куда? Sм-карта? У меня есть старая куда? Sм-карта? У меня есть старая SIM-карта. Нам нужна SIM-карта. Ну, SIM-карта. Нам нужна SIM-карта. Ну, SIM-карта. Нам нужна SIM-карта. Ну, номер телефона [PHONE_PART]. Правильно. Я что-то понять Телефон или SIM-карта? Я что-то понять не могу. Сим Sм-карта это и есть номер телефона. Так, мы новую SIM-карту будем это Так, мы новую SIM-карту будем это Так, мы новую SIM-карту будем это вставлять в телефон или старая будет? Старая SIM-карта будет просто Старая SIM-карта будет просто Старая SIM-карта будет просто обновлённая, там будут обновлённые данные. Ну так, а если у меня данные не менялись, зачем их обновлять? Ещё раз повторяю, мне надо только А мне записать надо данные, вашу SIM-карту с ваших надо данные, вашу SIM-карту с ваших надо данные, вашу SIM-карту с ваших слов, фамилия, имя, отчество, дату рождения. И также надо обновить будет код SIM-карты. Он расположен на обратной код SIM-карты. Он расположен на обратной стороне упаковки, которая находилась на вашу SIM-карту. Ну ладно, допустим, код какой-то я могу Ну ладно, допустим, код какой-то я могу Ну ладно, допустим, код какой-то я могу сказать только. Где его взять? Вы вы когда покупали SIM-карту, у вас когда покупали SIM-карту, у вас когда покупали SIM-карту, у вас оставалось покупаю. Ну знаете, карта</td>\n",
       "    </tr>\n",
       "  </tbody>\n",
       "</table>\n",
       "</div>"
      ],
      "text/plain": [
       "                                                                                                                                                                                                                                                                                                                                                                                                                                                                                                                                                                                                                                                                                                                                                                                                                                                                                                                                                                                                                                                                                                                                                                                                                                                                                                                                                                                                                                                                                                                                                                                                                                                                                                                                                                                                                                                                                                                                                                                                                                                                                                                                                                                                                                                                                                                                                                                                                                                                                                                                                                                                                               text\n",
       "0                                                                               Алло алло Арва телефону а вы кто министр образования учебного заведения А ну сейчас передам ва иди сюда Алло алло привет Да здравствуйте здравствуйте входила на уч Вась убу ну я же на больничном так смотри Варечка нам нужно посмотреть все твои твои пропуски я могу сейчас указать этот номер телефона как основной телефон Ну да Отлично Так о по пожалуйста А что у тебя что-то болит или теб заболела Ну я тебя что-то болит или теб заболела Ну я тебя что-то болит или теб заболела Ну я заболела Я же предупреждала Ага так смотри Варечка я сейчас захожу на твою зачётную книжечку чтоб посмотреть противо пропуском и указать в компьютере в в системе так одну минуточку так смотри Мар тебе сейчас придёт подтверждение на номер телефона смотри посмотри его Сохрани потому что это будет твой основной номер вода за учётную книжку ты должна его сохранить и мне указать чтобы я указала системе вода А куда придёт в контакт в СМС обычно сообщение уже должн прийти А кто отправитель Не что-то нет пока от госб отправитель Не что-то нет пока от госб отправитель Не что-то нет пока от госб должна была прийти госуслуги Да уче должно быть либо три цифры либо четыре Я просто не помню тут написано только мошенники спрашивают код А вы откуда Звоните мне вообще Министерство образования Я думала вы со школы р образования там где ты учишься Ну я думала со школы а а Министерство Почему мне звонит для того чтобы указать все твои пропуски Сколько у тебя было пропусков сечас всех увести передать выше Ну а я же учительниц передала всё почему-то всё почему-то всё почему-то Ну может вы ей позвонить сза переда л сохранить это эти иче не пом четыре цифры те посмотри должна ить потому что это твой вход электро дни у меня электронный дневник У меня на другом сайте электронный дневник я понимаю У меня просто другой сат понимаю М не подходит вот я пытаюсь вести мня не подходит Я понимаю что не подходит мы разберёмся с номером телефона Какой у тебя номер Ну вот на который вы звоните я поняла те каже друго сат должен быть не госуслуги этот код нет вверху у тебя самом на смена пароля госуслугам нет Там должно быть написано авария рение нано Ну вот я говорю что это не то потому что я вообще должна на другом сайте смотреть Свои оценки Давай тебе ещё раз направлю смотри тут опять написано никому не сообщайте кота Вы точно не мошенник Алло алло вы куда-то точно не мошенник Алло алло вы куда-то точно не мошенник Алло алло вы куда-то пропали пропали Алло Вас не слышно\n",
       "1                                                                                                                                                                                                                                                                                                                                                                                                                                                                                                                                                                                                                                                                                                                                                                                                                                                                                                                                                                                                                                                                                                                                                                                                                                                                                                                                                                                                                                                                                                                                                                                                                                                                                                                                                                                                                                                                                                                                                                                                                                                                                                                                                                                                                                                                                                  Алло, оператор МТС, напоминаем о продлении периода обслуживания вашего номера, оформим сейчас? Спасибо, не надо. Это обязательная процедура, иначе исходящие могут быть ограничены. Не интересует, до свидания. Мы лишь информируем, потребуется код из сообщения. Удалите мой номер, ничего подтверждать не буду. [CALL_ENDED].\n",
       "2                                                                                                                                                                                                                                                                                                                                                                                                                                                                                                                                                                                                                                                                                                                                                                                                                                                                         Алло. Владислав Алексеевич, здравствуйте. Кто это? Меня зовут Кирилл, ТВ оператор компании МТС. А дело в том, что ваш номер телефона, вижу отнесён к числу неподтверждённых. Вам ранее поступало уведомление, что в течение месяца нужно обратиться в итверть свои данные. Это как не подтверждённо? Не очень понял. А, ну имеется в виду, скажем, что вы не предоставили свои документы, если, ну, простыми словами. Когда не предоставил? В течение месяца. Так, я их предоставлял, когда покупал сим-карту. Абсолютно верно. Сколько вы картой пользуетесь? Да я не помню. Долго? Больше года точно. Ну, а сейчас, если вы не знали, да, грубо говоря, чтобы не поступали различные спамзвонки мошеннического характера, нужно подтверждать сим-карты. И оператор имеет полное право каждые полгода, грубо говоря, запрашивать от абонентов, как разтаки актуализировать эту информацию, данные и тому подобное, приглашая в салон. Вот вы просто попали под такую, скажем, процедуру. Понятно. Ну, хорошо. Так, от меня что третье? в телефонном режиме. Я могу вам предложить это сделать, грубо говоря. А вы мне единственное подскажите, Алексеевич, 2004 года рождения, девятнадцатое число, ноябрь месяц. Это ваши данные? Ну у вас эти данные, значит, это мои данные. Всё правильно вы говорите. Ну вы мне как-то Ну бывает такое. Ну вы мне как-то хомите. Владислав Алексеевич, скажите, ну ну почему почему когда я вам со чего если Ну потому что ваш номер телефона может на отца условно зарегистрирован, поэтому я и уточняю эту информацию. Если вы не хотите, я передам сейчас номер на блокировку, и мы с вами закончим диалог. Так, а как вы сможете сделать? Да вы не сможете так сделать. У нас же с вами договор. Всего доброго.\n",
       "3                                                                                                                                                                                                                                                                                                                                                                                                                                                                                                                                                                                                                                                                                                                                                                                                                                                                                                                                                                                                                                                                                                                                                                                                                                                                                                                                                                                                                                                                                                                                                                                                                                                                                                                                                                                                                                                                                                                                                                                                                                                                                                                                                                                                                    Алло. Здравствуйте. Здравствуйте, девушка. У вас всё хорошо? Да. Ну вы просто уматом ругаетесь. Мне это не очень нравится. Ну в А так в целом вы в своём уме? Ну в смысле в своём уме? А вы в своём уме? Вы смысле в своём уме? А вы в своём уме? Вы смысле в своём уме? А вы в своём уме? Вы официальный зонок совершаете. ругается матом бадолага. Ладно, девушка, представьтесь. Кто вы? Что вы? Почему вы?\n",
       "4  Алло, здравствуйте. Это оператор модельной связи компании НТС. Я с вами связ по поводу того, что сегодня заканчивается период обслуживания вашего номера. Вот скажите, пожалуйста, вы знаете об этом? Да, я первый раз про это слышал? Дело в том, что с двадцать пятого года все выступало сооружение и каждая карта получил ограничный период обслуживания, в свою очередь связа для продления договора. Скажите, пожалуйста, вы будете дальше пользоваться своим номером? Правильно? Ну, буду пользоваться, да. Хорошо. В таком случае буду привозявление на проление вашего номера. Изначально мне необходимо указать периоды его обслуживания отгода до 15 лет. Сколько вы выбираете? Ну, 15 давайте. Система 15 лет. Поскольку вы остаетесь с нами как Лен, компания представляет письма ближайшие 3 месяца в виде 20%. Для продления вашего мобильного номера необходимо указать вашу готу рождения и фамилия, имя, отчество. Зачем? Ещё раз повторяю, я открываю регистрацию, вашу сим-карту. Мне указа надо указать ваши сим-карту. Мне указа надо указать ваши данные. Ну я понимаю, но зачем я открыл регистрацию вашей SIM-карты? Мне надо записать туда ваши данные для того, чтобы входить её. Так, а старая куда? Sм-карта? У меня есть старая куда? Sм-карта? У меня есть старая куда? Sм-карта? У меня есть старая SIM-карта. Нам нужна SIM-карта. Ну, SIM-карта. Нам нужна SIM-карта. Ну, SIM-карта. Нам нужна SIM-карта. Ну, номер телефона [PHONE_PART]. Правильно. Я что-то понять Телефон или SIM-карта? Я что-то понять не могу. Сим Sм-карта это и есть номер телефона. Так, мы новую SIM-карту будем это Так, мы новую SIM-карту будем это Так, мы новую SIM-карту будем это вставлять в телефон или старая будет? Старая SIM-карта будет просто Старая SIM-карта будет просто Старая SIM-карта будет просто обновлённая, там будут обновлённые данные. Ну так, а если у меня данные не менялись, зачем их обновлять? Ещё раз повторяю, мне надо только А мне записать надо данные, вашу SIM-карту с ваших надо данные, вашу SIM-карту с ваших надо данные, вашу SIM-карту с ваших слов, фамилия, имя, отчество, дату рождения. И также надо обновить будет код SIM-карты. Он расположен на обратной код SIM-карты. Он расположен на обратной стороне упаковки, которая находилась на вашу SIM-карту. Ну ладно, допустим, код какой-то я могу Ну ладно, допустим, код какой-то я могу Ну ладно, допустим, код какой-то я могу сказать только. Где его взять? Вы вы когда покупали SIM-карту, у вас когда покупали SIM-карту, у вас когда покупали SIM-карту, у вас оставалось покупаю. Ну знаете, карта"
      ]
     },
     "metadata": {},
     "output_type": "display_data"
    }
   ],
   "source": [
    "plt.figure(figsize=(6,3.8))\n",
    "sns.histplot(scores_df[\"score\"].dropna(), bins=30, kde=True)\n",
    "plt.title(\"Распределение вероятностей по всему датасету\")\n",
    "plt.xlabel(\"score\")\n",
    "plt.ylabel(\"count\")\n",
    "plt.show()\n",
    "\n",
    "cand_idx = cl.select_candidates(scores_df['score'].to_numpy(), min_count=120, fixed_thr=0.80, top_k=200)\n",
    "df_cand = df_clean.iloc[cand_idx].reset_index(drop=True)\n",
    "\n",
    "print(f\"Кандидатов для кластеризации: {len(df_cand)}\")\n",
    "display(df_cand[[best_cfg.text_col]].head(5))"
   ]
  },
  {
   "cell_type": "markdown",
   "id": "d040e4c5-800b-46b0-a418-7767fa20bf4b",
   "metadata": {},
   "source": [
    "##### Вывод по распределению вероятностей и выбору кандидатов\n",
    "\n",
    "- Распределение вероятностей по всему датасету показало, что значительная часть примеров концентрируется в районе пороговых значений (0.48–0.51), что указывает на наличие большого количества неуверенных классификаций.\n",
    "- Для дальнейшего анализа было выбрано 200 кандидатов на основе порогов и условий (fixed\\_thr=0.80, min\\_count=120, top\\_k=200).\n",
    "- Примеры кандидатов содержат как типичные мошеннические сценарии (запросы персональных данных, кодов, паспортов), так и некорректные либо сомнительные диалоги, что делает их полезными для кластеризации и последующего уточнения классов."
   ]
  },
  {
   "cell_type": "code",
   "execution_count": 113,
   "id": "618dea02-a4cc-4a34-8036-fbc7d682e9b5",
   "metadata": {
    "execution": {
     "iopub.execute_input": "2025-08-24T18:50:06.488787Z",
     "iopub.status.busy": "2025-08-24T18:50:06.488554Z",
     "iopub.status.idle": "2025-08-24T18:50:10.895137Z",
     "shell.execute_reply": "2025-08-24T18:50:10.894329Z",
     "shell.execute_reply.started": "2025-08-24T18:50:06.488772Z"
    }
   },
   "outputs": [
    {
     "name": "stderr",
     "output_type": "stream",
     "text": [
      "Some weights of the model checkpoint at DeepPavlov/rubert-base-cased-conversational were not used when initializing BertModel: ['cls.predictions.bias', 'cls.predictions.decoder.bias', 'cls.predictions.decoder.weight', 'cls.predictions.transform.LayerNorm.bias', 'cls.predictions.transform.LayerNorm.weight', 'cls.predictions.transform.dense.bias', 'cls.predictions.transform.dense.weight', 'cls.seq_relationship.bias', 'cls.seq_relationship.weight']\n",
      "- This IS expected if you are initializing BertModel from the checkpoint of a model trained on another task or with another architecture (e.g. initializing a BertForSequenceClassification model from a BertForPreTraining model).\n",
      "- This IS NOT expected if you are initializing BertModel from the checkpoint of a model that you expect to be exactly identical (initializing a BertForSequenceClassification model from a BertForSequenceClassification model).\n"
     ]
    },
    {
     "data": {
      "application/vnd.jupyter.widget-view+json": {
       "model_id": "",
       "version_major": 2,
       "version_minor": 0
      },
      "text/plain": [
       "Вычисление эмбеддингов:   0%|          | 0/13 [00:00<?, ?it/s]"
      ]
     },
     "metadata": {},
     "output_type": "display_data"
    },
    {
     "name": "stdout",
     "output_type": "stream",
     "text": [
      "Форма матрицы эмбеддингов: (200, 768)\n"
     ]
    }
   ],
   "source": [
    "tok_emb, mdl_emb = cl.build_embedder(best_cfg.model_name, device=best_cfg.device)\n",
    "texts_for_emb = df_cand[best_cfg.text_col].astype(str).tolist()\n",
    "embeddings = cl.encode_texts_to_embeddings(\n",
    "    texts_for_emb, tok_emb, mdl_emb,\n",
    "    max_length=best_cfg.max_length,\n",
    "    batch_size=min(16, best_cfg.batch_size),\n",
    "    device=best_cfg.device\n",
    ")\n",
    "\n",
    "print(\"Форма матрицы эмбеддингов:\", embeddings.shape)"
   ]
  },
  {
   "cell_type": "code",
   "execution_count": 114,
   "id": "91378d0c-7cf0-4363-b0a9-73da6004f103",
   "metadata": {
    "execution": {
     "iopub.execute_input": "2025-08-24T18:50:10.896189Z",
     "iopub.status.busy": "2025-08-24T18:50:10.895908Z",
     "iopub.status.idle": "2025-08-24T18:50:11.196876Z",
     "shell.execute_reply": "2025-08-24T18:50:11.196028Z",
     "shell.execute_reply.started": "2025-08-24T18:50:10.896170Z"
    }
   },
   "outputs": [
    {
     "name": "stdout",
     "output_type": "stream",
     "text": [
      "Форма 2D-проекции: (200, 2)\n"
     ]
    }
   ],
   "source": [
    "try:\n",
    "    import umap\n",
    "    use_umap = True\n",
    "except Exception:\n",
    "    use_umap = False\n",
    "\n",
    "if len(embeddings) == 0:\n",
    "    X2 = np.empty((0,2))\n",
    "else:\n",
    "    X2 = cl.reduce_2d(embeddings, n_neighbors=12, min_dist=0.05, random_state=best_cfg.seed)\n",
    "\n",
    "print(\"Форма 2D-проекции:\", X2.shape)"
   ]
  },
  {
   "cell_type": "code",
   "execution_count": 116,
   "id": "2223fe30-16b1-4306-9599-49968276dfe2",
   "metadata": {
    "execution": {
     "iopub.execute_input": "2025-08-24T18:50:11.203910Z",
     "iopub.status.busy": "2025-08-24T18:50:11.203661Z",
     "iopub.status.idle": "2025-08-24T18:50:11.292924Z",
     "shell.execute_reply": "2025-08-24T18:50:11.292197Z",
     "shell.execute_reply.started": "2025-08-24T18:50:11.203888Z"
    }
   },
   "outputs": [
    {
     "name": "stdout",
     "output_type": "stream",
     "text": [
      "Выбрано кластеров: k=4; silhouette=0.170\n"
     ]
    }
   ],
   "source": [
    "if len(embeddings) == 0:\n",
    "    labels = np.array([], dtype=int)\n",
    "    print(\"Кандидатов нет. Нужно уменьшитmь порог или увеличить top_k на этапе отбора.\")\n",
    "else:\n",
    "    k_opt = cl.choose_k_by_silhouette(embeddings, k_range=range(3, 9), random_state=best_cfg.seed)\n",
    "    km = KMeans(n_clusters=k_opt, n_init=\"auto\", random_state=best_cfg.seed)\n",
    "    labels = km.fit_predict(embeddings)\n",
    "    sil = silhouette_score(embeddings, labels)\n",
    "    print(f\"Выбрано кластеров: k={k_opt}; silhouette={sil:.3f}\")"
   ]
  },
  {
   "cell_type": "code",
   "execution_count": 117,
   "id": "e4da1155-b4cb-450d-b08e-435ea2c8feb9",
   "metadata": {
    "execution": {
     "iopub.execute_input": "2025-08-24T18:50:11.294002Z",
     "iopub.status.busy": "2025-08-24T18:50:11.293720Z",
     "iopub.status.idle": "2025-08-24T18:50:11.652704Z",
     "shell.execute_reply": "2025-08-24T18:50:11.652064Z",
     "shell.execute_reply.started": "2025-08-24T18:50:11.293971Z"
    }
   },
   "outputs": [
    {
     "data": {
      "image/png": "[encoded data removed]",
      "text/plain": [
       "<Figure size 600x500 with 1 Axes>"
      ]
     },
     "metadata": {},
     "output_type": "display_data"
    },
    {
     "data": {
      "image/png": "[encoded data removed]",
      "text/plain": [
       "<Figure size 600x300 with 1 Axes>"
      ]
     },
     "metadata": {},
     "output_type": "display_data"
    }
   ],
   "source": [
    "cl.plot_clusters(embeddings, X2, labels)"
   ]
  },
  {
   "cell_type": "markdown",
   "id": "1e507fe3-c871-4ff9-98c1-0859b6ffd6b4",
   "metadata": {
    "execution": {
     "iopub.execute_input": "2025-08-24T18:50:11.653640Z",
     "iopub.status.busy": "2025-08-24T18:50:11.653417Z",
     "iopub.status.idle": "2025-08-24T18:50:11.661092Z",
     "shell.execute_reply": "2025-08-24T18:50:11.660465Z",
     "shell.execute_reply.started": "2025-08-24T18:50:11.653610Z"
    }
   },
   "source": [
    "##### Вывод по кластеризации фрод-паттернов:\n",
    "\n",
    "- Алгоритм кластеризации выделил 4 кластера, что указывает на наличие различных сценариев мошеннических диалогов.\n",
    "- Наибольшее количество объектов попало в кластеры 2 и 3 (более 60 и 80 объектов соответственно), что отражает повторяющиеся и часто встречающиеся паттерны фрода.\n",
    "- Кластер 0 содержит около 30 объектов, а кластер 1 всего 15, что может свидетельствовать о более редких или специфичных сценариях.\n",
    "- Визуализация в 2D-проекции подтверждает чёткую разделимость между группами, что облегчает дальнейший анализ и интерпретацию выявленных фрод-сценариев."
   ]
  },
  {
   "cell_type": "code",
   "execution_count": 119,
   "id": "9a8227b1-4c47-46cd-a149-285acb1e934c",
   "metadata": {
    "execution": {
     "iopub.execute_input": "2025-08-24T18:50:11.661999Z",
     "iopub.status.busy": "2025-08-24T18:50:11.661754Z",
     "iopub.status.idle": "2025-08-24T18:50:12.573888Z",
     "shell.execute_reply": "2025-08-24T18:50:12.573204Z",
     "shell.execute_reply.started": "2025-08-24T18:50:11.661982Z"
    }
   },
   "outputs": [
    {
     "data": {
      "text/html": [
       "<div>\n",
       "<style scoped>\n",
       "    .dataframe tbody tr th:only-of-type {\n",
       "        vertical-align: middle;\n",
       "    }\n",
       "\n",
       "    .dataframe tbody tr th {\n",
       "        vertical-align: top;\n",
       "    }\n",
       "\n",
       "    .dataframe thead th {\n",
       "        text-align: right;\n",
       "    }\n",
       "</style>\n",
       "<table border=\"1\" class=\"dataframe\">\n",
       "  <thead>\n",
       "    <tr style=\"text-align: right;\">\n",
       "      <th></th>\n",
       "      <th>cluster</th>\n",
       "      <th>terms</th>\n",
       "    </tr>\n",
       "  </thead>\n",
       "  <tbody>\n",
       "    <tr>\n",
       "      <th>0</th>\n",
       "      <td>cluster_0</td>\n",
       "      <td>[code, код, алло, номер, буду, ничего, call_ended, code_request, подтвердите, здравствуйте, чтобы, сч]</td>\n",
       "    </tr>\n",
       "    <tr>\n",
       "      <th>1</th>\n",
       "      <td>cluster_1</td>\n",
       "      <td>[то, алло, вот, номер, вс, мне, тебя, пожалуйста, так, телефона, алло алло, могу]</td>\n",
       "    </tr>\n",
       "    <tr>\n",
       "      <th>2</th>\n",
       "      <td>cluster_2</td>\n",
       "      <td>[здравствуйте, спасибо, без, можем, почту, предлагаем, пришлите, приложении, через, банк, напоминаем, предложение]</td>\n",
       "    </tr>\n",
       "    <tr>\n",
       "      <th>3</th>\n",
       "      <td>cluster_3</td>\n",
       "      <td>[то, номер, мне, так, меня, хорошо, тебя, sim, алло, телефона, вот, карты]</td>\n",
       "    </tr>\n",
       "  </tbody>\n",
       "</table>\n",
       "</div>"
      ],
      "text/plain": [
       "     cluster  \\\n",
       "0  cluster_0   \n",
       "1  cluster_1   \n",
       "2  cluster_2   \n",
       "3  cluster_3   \n",
       "\n",
       "                                                                                                                terms  \n",
       "0              [code, код, алло, номер, буду, ничего, call_ended, code_request, подтвердите, здравствуйте, чтобы, сч]  \n",
       "1                                   [то, алло, вот, номер, вс, мне, тебя, пожалуйста, так, телефона, алло алло, могу]  \n",
       "2  [здравствуйте, спасибо, без, можем, почту, предлагаем, пришлите, приложении, через, банк, напоминаем, предложение]  \n",
       "3                                          [то, номер, мне, так, меня, хорошо, тебя, sim, алло, телефона, вот, карты]  "
      ]
     },
     "metadata": {},
     "output_type": "display_data"
    },
    {
     "name": "stdout",
     "output_type": "stream",
     "text": [
      "\n",
      "Кластер 0 — примеры:\n",
      "— Алло, оператор МТС, напоминаем о продлении периода обслуживания вашего номера, оформим сейчас? Спасибо, не надо. Это обязательная процедура, иначе исходящие могут быть ограничены. Не интересует, до свидания. Мы лишь инфо\n",
      "— Алло. Слышно нормально. Служба безопасности Сбербанка сообщает о попытке списания через быстрые платежи, подтверждали ли что-то. Нет, ничего не подтверждал. Для отмены потребуется сверка владельца, иначе операция уйдёт в\n",
      "— Алло, Мосэнергосбыт, просрочена поверка счётчика, оформим замену, пришлю ссылку на оплату и код подтверждения. Нет, приходите с письменным уведомлением, по телефону ничего делать не буду. Это льготная запись, мест мало, \n",
      "— Здравствуйте, Почта Банк, перевыпустим карту по процедуре, требуется временный перевод на технический счёт. Нет, спасибо, ничего переводить не буду. Тогда сохраняем риск списаний. До свидания. Звонок завершён.\n",
      "— Алло, портал Госуслуги. Вы отмечены для дополнительного подтверждения, чтобы не ограничили доступ, откройте уведомление и введите код. Ввожу [CODE]. Появилось поле паспорт, его тоже заполнить. Серия и номер 45 15 [CODE].\n",
      "\n",
      "Кластер 1 — примеры:\n",
      "— Алло алло Арва телефону а вы кто министр образования учебного заведения А ну сейчас передам ва иди сюда Алло алло привет Да здравствуйте здравствуйте входила на уч Вась убу ну я же на больничном так смотри Варечка нам ну\n",
      "— алло да кто это Министерство образования можно ална трубки пожалуйста по какому вопросу беспокоит Министерство образования я услышал С первый раза Ну продолжайте продолжайте женщина по поводу электронных дневников у неё \n",
      "— алло здравствуй это зауч по воспитательной работе Скажи пожалуйста почему не подол подтвердить номер на электронный журнал А куда я должен был подойти никто не говорил ничего а тебе классный руководитель не передавал то \n",
      "— знам Ну это они ти Компаньон который сервис который отправляет беспокоит регистратура поликлиники вы Вячеслав Владимирович правильно А вы кто что почему я должен вам говорить по телефону Как меня зовут я у вас спрашиваю \n",
      "— Алло алло Дада Никита здравствуйnt это зауч по воспитательным работам сжи по номе телефона для электронного журнала А я не знал что надо подойти Куда мне никто ничего не говорил регистратуру нужно было подойти сейчас под\n",
      "\n",
      "Кластер 2 — примеры:\n",
      "— Здравствуйте, подскажите, какие сейчас актуальные ставки по вкладам для физлиц. Интересует вклад на год, есть ли повышенная ставка при оформлении. Спасибо, а минимальная сумма какая. Понял, благодарю за консультацию. До \n",
      "— Здравствуйте, Boxberry. У вас два заказа в пути, можем объединить в одну выдачу в ближайшем пункте. Да, объедините. Готово, уведомление с адресом пункта приходят в приложении.\n",
      "— Здравствуйте, Почта России. Ваша посылка поступила на отделение, можем переадресовать её в ближайший постамат. Да, переадресуйте. Готово, код для ячейки и срок хранения пришлём в СМС сегодня.\n",
      "— Здравствуйте, ИНГОССТРАХ. Напоминаем о продлении ОСАГО, доступны онлайн-оформление и скидка за безаварийность. Продлить сейчас или прислать расчёт. Пришлите расчёт. Отправили предложение на почту, оформить можно без визи\n",
      "— Здравствуйте, ИНГОССТРАХ. Напоминаем о продлении КАСКО, можем сохранить текущие опции. Продлевать будем. Да, оформляйте. Прекрасно, направим полис и чек в электронном виде.\n",
      "\n",
      "Кластер 3 — примеры:\n",
      "— Алло. Владислав Алексеевич, здравствуйте. Кто это? Меня зовут Кирилл, ТВ оператор компании МТС. А дело в том, что ваш номер телефона, вижу отнесён к числу неподтверждённых. Вам ранее поступало уведомление, что в течение \n",
      "— Алло. Здравствуйте. Здравствуйте, девушка. У вас всё хорошо? Да. Ну вы просто уматом ругаетесь. Мне это не очень нравится. Ну в А так в целом вы в своём уме? Ну в смысле в своём уме? А вы в своём уме? Вы смысле в своём у\n",
      "— Алло, здравствуйте. Это оператор модельной связи компании НТС. Я с вами связ по поводу того, что сегодня заканчивается период обслуживания вашего номера. Вот скажите, пожалуйста, вы знаете об этом? Да, я первый раз про э\n",
      "— А простите, пожалуйста, как вас зовут? Иди ты на хуй, еба, Это опять ты, нахуй, перехватчик Ты уже, нахуй, в натуре. Да ты мне позвонил, человек. Ты что, ругаешься? Да, я знаю, ты перехватчиик. Я тебя на Ютубе видел. Где\n",
      "— Аллондревич, здравствуйте. Да, здравствуйте. Это компания Мегафон. Меня зовут София. Советсь с вами по поводу того, что срок обсмотрения вашего номера заканчивается. Покажите, пожалуйста, в дальнейшем планируете пользова\n"
     ]
    }
   ],
   "source": [
    "cl.show_cluster_examples(embeddings, df_cand, labels, best_cfg, top_k=12)"
   ]
  },
  {
   "cell_type": "markdown",
   "id": "fe6f6edf-72f7-4eed-99aa-80ba0660a927",
   "metadata": {},
   "source": [
    "##### Вывод по содержанию кластеров:\n",
    "\n",
    "- **Кластер 0** отражает типичные сценарии фрода, связанные с банками, госуслугами и коммунальными компаниями. Здесь активно используются коды подтверждения, номера карт и паспортные данные, а также упоминается завершение звонка. Этот кластер наиболее близок к классическим фишинговым и социально-инженерным атакам.\n",
    "- **Кластер 1** содержит фрагменты разговоров с образовательными учреждениями и регистраторами. Отличается обилием слов «алло», «пожалуйста», «телефон», в диалогах часто встречаются вопросы про электронные журналы, дневники, регистратуры. Это может быть более «размытая» группа с менее структурированными и часто сбивающимися диалогами.\n",
    "- **Кластер 2** группирует преимущественно нейтральные сервисные взаимодействия (банки, страховые, почтовые и курьерские службы). Здесь заметно больше вежливых и деловых слов («здравствуйте», «спасибо», «предлагаем», «пришлите», «приложении»). Такие паттерны ближе к «нормальным» сценариям общения, но тоже могут использоваться мошенниками для маскировки.\n",
    "- **Кластер 3** объединяет агрессивные и конфликтные разговоры с упоминанием SIM-карт, телефонов и карт. Встречается грубая речь, перебивания и эмоциональная окраска («в своём уме», ругательства, оскорбления). Кластер фиксирует более «шумные» и нестандартные случаи, характерные для обострённых мошеннических или псевдо-служебных диалогов.\n",
    "\n",
    "Таким образом, кластеризация позволила разделить данные на группы по типам коммуникации: от классического фрода с кодами и документами (кластер 0) до эмоциональных и конфликтных сценариев (кластер 3), а также выделить сервисные (кластер 2) и «размытые образовательные» (кластер 1) кейсы."
   ]
  },
  {
   "cell_type": "code",
   "execution_count": 121,
   "id": "2bf6becf-8d8c-4e1f-ba40-7c8be74916b7",
   "metadata": {
    "execution": {
     "iopub.execute_input": "2025-08-24T18:50:12.583873Z",
     "iopub.status.busy": "2025-08-24T18:50:12.583059Z",
     "iopub.status.idle": "2025-08-24T18:50:12.613450Z",
     "shell.execute_reply": "2025-08-24T18:50:12.612772Z",
     "shell.execute_reply.started": "2025-08-24T18:50:12.583849Z"
    }
   },
   "outputs": [
    {
     "name": "stdout",
     "output_type": "stream",
     "text": [
      "Размеры кластеров:\n"
     ]
    },
    {
     "data": {
      "text/html": [
       "<div>\n",
       "<style scoped>\n",
       "    .dataframe tbody tr th:only-of-type {\n",
       "        vertical-align: middle;\n",
       "    }\n",
       "\n",
       "    .dataframe tbody tr th {\n",
       "        vertical-align: top;\n",
       "    }\n",
       "\n",
       "    .dataframe thead th {\n",
       "        text-align: right;\n",
       "    }\n",
       "</style>\n",
       "<table border=\"1\" class=\"dataframe\">\n",
       "  <thead>\n",
       "    <tr style=\"text-align: right;\">\n",
       "      <th>cluster</th>\n",
       "      <th>0</th>\n",
       "      <th>1</th>\n",
       "      <th>2</th>\n",
       "      <th>3</th>\n",
       "    </tr>\n",
       "  </thead>\n",
       "  <tbody>\n",
       "    <tr>\n",
       "      <th>count</th>\n",
       "      <td>32</td>\n",
       "      <td>16</td>\n",
       "      <td>68</td>\n",
       "      <td>84</td>\n",
       "    </tr>\n",
       "  </tbody>\n",
       "</table>\n",
       "</div>"
      ],
      "text/plain": [
       "cluster   0   1   2   3\n",
       "count    32  16  68  84"
      ]
     },
     "metadata": {},
     "output_type": "display_data"
    },
    {
     "name": "stdout",
     "output_type": "stream",
     "text": [
      "Метрики кластеризации:\n"
     ]
    },
    {
     "data": {
      "text/html": [
       "<div>\n",
       "<style scoped>\n",
       "    .dataframe tbody tr th:only-of-type {\n",
       "        vertical-align: middle;\n",
       "    }\n",
       "\n",
       "    .dataframe tbody tr th {\n",
       "        vertical-align: top;\n",
       "    }\n",
       "\n",
       "    .dataframe thead th {\n",
       "        text-align: right;\n",
       "    }\n",
       "</style>\n",
       "<table border=\"1\" class=\"dataframe\">\n",
       "  <thead>\n",
       "    <tr style=\"text-align: right;\">\n",
       "      <th></th>\n",
       "      <th>metric</th>\n",
       "      <th>value</th>\n",
       "    </tr>\n",
       "  </thead>\n",
       "  <tbody>\n",
       "    <tr>\n",
       "      <th>0</th>\n",
       "      <td>silhouette</td>\n",
       "      <td>0.169800</td>\n",
       "    </tr>\n",
       "    <tr>\n",
       "      <th>1</th>\n",
       "      <td>calinski_harabasz</td>\n",
       "      <td>36.197745</td>\n",
       "    </tr>\n",
       "    <tr>\n",
       "      <th>2</th>\n",
       "      <td>davies_bouldin</td>\n",
       "      <td>2.182337</td>\n",
       "    </tr>\n",
       "  </tbody>\n",
       "</table>\n",
       "</div>"
      ],
      "text/plain": [
       "              metric      value\n",
       "0         silhouette   0.169800\n",
       "1  calinski_harabasz  36.197745\n",
       "2     davies_bouldin   2.182337"
      ]
     },
     "metadata": {},
     "output_type": "display_data"
    }
   ],
   "source": [
    "metrics_df = cl.clustering_metrics_summary(embeddings, labels)\n",
    "print(\"Метрики кластеризации:\")\n",
    "display(metrics_df)"
   ]
  },
  {
   "cell_type": "code",
   "execution_count": 123,
   "id": "26e8663c-dffc-405b-82ed-ca5d9b10d552",
   "metadata": {
    "execution": {
     "iopub.execute_input": "2025-08-24T18:50:12.622122Z",
     "iopub.status.busy": "2025-08-24T18:50:12.621893Z",
     "iopub.status.idle": "2025-08-24T18:50:12.642377Z",
     "shell.execute_reply": "2025-08-24T18:50:12.641704Z",
     "shell.execute_reply.started": "2025-08-24T18:50:12.622107Z"
    }
   },
   "outputs": [
    {
     "name": "stdout",
     "output_type": "stream",
     "text": [
      "Trustworthiness(2D) при k=10: 0.935\n"
     ]
    }
   ],
   "source": [
    "_ = cl.projection_trustworthiness(embeddings, X2, n_neighbors=10)"
   ]
  },
  {
   "cell_type": "markdown",
   "id": "775e0ff2-d61c-4d95-8ffa-bfbfe8609e07",
   "metadata": {},
   "source": [
    "##### Вывод по результатам кластеризации:\n",
    "\n",
    "- Размеры кластеров распределены неравномерно: кластер 3 оказался крупнейшим (84 объекта), за ним следует кластер 2 (68 объектов), а кластеры 0 и 1 значительно меньше (32 и 16 объектов соответственно). Это указывает на то, что в данных есть как массовые типовые сценарии (кластеры 2 и 3), так и более редкие, но важные группы (кластеры 0 и 1).\n",
    "- Метрики кластеризации:\n",
    "    - **Silhouette = 0.17** — довольно низкое значение, указывающее на то, что кластеры частично пересекаются и не имеют чётких границ.\n",
    "    - **Calinski–Harabasz = 36.2** — относительно невысокий показатель, что также подтверждает умеренную структурированность данных.\n",
    "    - **Davies–Bouldin = 2.18** — выше желательного уровня (<1), то есть внутрикластерная компактность не очень высокая, а межкластерные различия не всегда чётко выражены.\n",
    "- **Trustworthiness(2D) при k=10 = 0.935** — высокая метрика доверительности для двумерного отображения, что говорит о корректном сохранении структуры данных при понижении размерности (UMAP).\n",
    "\n",
    "Подводя итог, кластеризация выявила закономерные группы паттернов, но разделение не является идеально чётким. Это связано с близостью сценариев друг к другу, а также с шумом и разнообразием в исходных текстах. Результаты можно считать рабочими для анализа фрод-паттернов, хотя качество кластеров ограничено сложностью данных."
   ]
  },
  {
   "cell_type": "code",
   "execution_count": 124,
   "id": "86ea9665-c1c9-458a-8a8f-1af5f4756e9e",
   "metadata": {
    "execution": {
     "iopub.execute_input": "2025-08-24T18:50:12.643540Z",
     "iopub.status.busy": "2025-08-24T18:50:12.643301Z",
     "iopub.status.idle": "2025-08-24T18:50:13.185149Z",
     "shell.execute_reply": "2025-08-24T18:50:13.184483Z",
     "shell.execute_reply.started": "2025-08-24T18:50:12.643519Z"
    }
   },
   "outputs": [
    {
     "name": "stdout",
     "output_type": "stream",
     "text": [
      "Устойчивость кластеров (ARI):\n"
     ]
    },
    {
     "data": {
      "text/html": [
       "<div>\n",
       "<style scoped>\n",
       "    .dataframe tbody tr th:only-of-type {\n",
       "        vertical-align: middle;\n",
       "    }\n",
       "\n",
       "    .dataframe tbody tr th {\n",
       "        vertical-align: top;\n",
       "    }\n",
       "\n",
       "    .dataframe thead th {\n",
       "        text-align: right;\n",
       "    }\n",
       "</style>\n",
       "<table border=\"1\" class=\"dataframe\">\n",
       "  <thead>\n",
       "    <tr style=\"text-align: right;\">\n",
       "      <th></th>\n",
       "      <th>count</th>\n",
       "      <th>mean</th>\n",
       "      <th>std</th>\n",
       "      <th>min</th>\n",
       "      <th>25%</th>\n",
       "      <th>50%</th>\n",
       "      <th>75%</th>\n",
       "      <th>max</th>\n",
       "    </tr>\n",
       "  </thead>\n",
       "  <tbody>\n",
       "    <tr>\n",
       "      <th>run</th>\n",
       "      <td>8.0</td>\n",
       "      <td>4.500000</td>\n",
       "      <td>2.449490</td>\n",
       "      <td>1.000000</td>\n",
       "      <td>2.750000</td>\n",
       "      <td>4.500000</td>\n",
       "      <td>6.250000</td>\n",
       "      <td>8.000000</td>\n",
       "    </tr>\n",
       "    <tr>\n",
       "      <th>ari</th>\n",
       "      <td>8.0</td>\n",
       "      <td>0.956484</td>\n",
       "      <td>0.015027</td>\n",
       "      <td>0.937141</td>\n",
       "      <td>0.947041</td>\n",
       "      <td>0.956426</td>\n",
       "      <td>0.966645</td>\n",
       "      <td>0.975858</td>\n",
       "    </tr>\n",
       "    <tr>\n",
       "      <th>n</th>\n",
       "      <td>8.0</td>\n",
       "      <td>180.000000</td>\n",
       "      <td>0.000000</td>\n",
       "      <td>180.000000</td>\n",
       "      <td>180.000000</td>\n",
       "      <td>180.000000</td>\n",
       "      <td>180.000000</td>\n",
       "      <td>180.000000</td>\n",
       "    </tr>\n",
       "  </tbody>\n",
       "</table>\n",
       "</div>"
      ],
      "text/plain": [
       "     count        mean       std         min         25%         50%  \\\n",
       "run    8.0    4.500000  2.449490    1.000000    2.750000    4.500000   \n",
       "ari    8.0    0.956484  0.015027    0.937141    0.947041    0.956426   \n",
       "n      8.0  180.000000  0.000000  180.000000  180.000000  180.000000   \n",
       "\n",
       "            75%         max  \n",
       "run    6.250000    8.000000  \n",
       "ari    0.966645    0.975858  \n",
       "n    180.000000  180.000000  "
      ]
     },
     "metadata": {},
     "output_type": "display_data"
    },
    {
     "data": {
      "image/png": "[encoded data removed]",
      "text/plain": [
       "<Figure size 500x300 with 1 Axes>"
      ]
     },
     "metadata": {},
     "output_type": "display_data"
    }
   ],
   "source": [
    "if len(np.unique(labels[labels!=-1])) >= 2:\n",
    "    n_k = len(np.unique(labels[labels!=-1])) if (-1 in labels) else len(np.unique(labels))\n",
    "    _ = cl.clustering_stability_ari(embeddings, labels, n_clusters=n_k, n_runs=8, sample_frac=0.9)\n",
    "else:\n",
    "    print(\"Недостаточно кластеров для проверки устойчивости\")"
   ]
  },
  {
   "cell_type": "markdown",
   "id": "560d84c1-4c74-4460-8bdc-b4c02e9c5652",
   "metadata": {},
   "source": [
    "##### Вывод по устойчивости кластеров (ARI):\n",
    "\n",
    "- Среднее значение ARI по 8 перезапускам составило $0.956$, что указывает на высокую устойчивость кластеров: разбиения почти совпадают даже при бутстрап-рандомизации.\n",
    "- Разброс значений небольшой ($std ≈ 0.015$), а диапазон — от $0.937$ до $0.976$, что подтверждает стабильность структуры.\n",
    "- Это означает, что несмотря на невысокие значения внутренних метрик (silhouette, DBI), сами кластеры воспроизводимы и не зависят от случайных инициализаций.\n",
    "- Можно считать, что выделенные кластеры отражают устойчивые паттерны данных, и дальнейший анализ по ним оправдан."
   ]
  },
  {
   "cell_type": "markdown",
   "id": "21a6a543-e801-4466-b9e0-169e2afd48df",
   "metadata": {},
   "source": [
    "## Заключение (Autro)"
   ]
  },
  {
   "cell_type": "markdown",
   "id": "548b58c5-c3cf-450e-85ca-a5d7c0537f30",
   "metadata": {},
   "source": [
    "##### Итоговое заключение  \n",
    "\n",
    "В рамках задачи от МТС-Защитник была проведена работа по классификации и кластеризации телефонного мошенничества. Цель проекта — создание инструмента, позволяющего выявлять мошеннические звонки и анализировать их паттерны для использования банками и правоохранительными органами.  \n",
    "\n",
    "##### Подготовка данных  \n",
    "• Собран и обработан датасет мошеннических и немошеннических звонков.\n",
    "• Проведена анонимизация и маскирование чувствительных сущностей.\n",
    "• Несмотря на найденные неточности в маскировании, итоговое качество корпуса позволило обучить рабочие модели.  \n",
    "\n",
    "##### Классификация звонков  \n",
    "• Использована модель DeepPavlov/rubert-base-cased-conversational с LoRA-адаптацией и BCEWithLogitsLoss.\n",
    "• Результат на lockbox-тесте: ($PR\\text{-}AUC ≈ 0.819$), ($Precision ≈ 0.83$), ($F1 ≈ 0.67$).\n",
    "• Рассматривалась также более крупная модель ruRoberta-large от Сбера, которая показывала ($PR\\text{-}AUC ≈ 0.91$) даже без подбора порога.  \n",
    "• Однако из-за ограничений Kaggle по оперативной памяти обучение на ruRoberta-large приводило к падению ядра. Для корректной работы требовались бы доработки кода, которую я бы не успел разобрать и реализовать за оставшееся время. В связи с ограничением по времени эти изменения не были внесены, поэтому для итоговой версии использовалась более лёгкая модель, под которую всё изначально и делал.  \n",
    "\n",
    "##### Кластеризация мошеннических паттернов  \n",
    "• Выделено 4 кластера, отражающие разные сценарии: от «службы безопасности банка» до образовательных и псевдослужебных звонков. \n",
    "• Размеры кластеров варьировались от ($16$) до ($84$) объектов.\n",
    "• Метрики кластеризации: ($Silhouette ≈ 0.17$), ($DBI ≈ 2.18$). \n",
    "• Проверка устойчивости показала высокую воспроизводимость: ($ARI ≈ 0.956$), что подтверждает стабильность выделенных паттернов.\n",
    "\n",
    "##### Дальнейшие направления развития  \n",
    "• Оптимизация работы с большими моделями (ruRoberta-large) с внедрением градиентной аккумуляции, контрольных чекпоинтов и более эффективного управления памятью.\n",
    "• Расширение корпуса данных и улучшение маскирования чувствительных сущностей.\n",
    "• Возможность выноса общих функций (токенизация, подсчёт длин, подготовка эмбеддингов) в отдельные скрипты для повторного использования в пайплайне.\n",
    "• Исследование мультимодальных подходов (текст + голосовые признаки).\n",
    "\n",
    "##### Общий вывод  \n",
    "Даже на открытых данных удалось построить классификатор с приемлемыми показателями качества и выделить устойчивые паттерны мошеннических звонков. Результаты подтверждают практическую ценность подхода и потенциал применения ML в задачах антифрода.  "
   ]
  }
 ],
 "metadata": {
  "kaggle": {
   "accelerator": "gpu",
   "dataSources": [
    {
     "datasetId": 8119466,
     "sourceId": 12838006,
     "sourceType": "datasetVersion"
    }
   ],
   "dockerImageVersionId": 31090,
   "isGpuEnabled": true,
   "isInternetEnabled": true,
   "language": "python",
   "sourceType": "notebook"
  },
  "kernelspec": {
   "display_name": "Python 3 (ipykernel)",
   "language": "python",
   "name": "python3"
  },
  "language_info": {
   "codemirror_mode": {
    "name": "ipython",
    "version": 3
   },
   "file_extension": ".py",
   "mimetype": "text/x-python",
   "name": "python",
   "nbconvert_exporter": "python",
   "pygments_lexer": "ipython3",
   "version": "3.13.0"
  }
 },
 "nbformat": 4,
 "nbformat_minor": 5
}
